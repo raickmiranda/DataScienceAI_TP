{
 "cells": [
  {
   "cell_type": "code",
   "execution_count": 20,
   "metadata": {},
   "outputs": [],
   "source": [
    "import pickle as pk\n",
    "import numpy as np\n",
    "import matplotlib.pyplot as plt\n",
    "import pandas as pd\n",
    "import seaborn as sns"
   ]
  },
  {
   "cell_type": "code",
   "execution_count": 1,
   "metadata": {},
   "outputs": [],
   "source": [
    "results_tree = [0.8533351541925123,\n",
    "                0.8522279875209968,\n",
    "                0.8515465973634431,\n",
    "                0.8503331383772311,\n",
    "                0.8508654791111925,\n",
    "                0.8518659909276078,\n",
    "                0.8516958416525027,\n",
    "                0.8503332697981275,\n",
    "                0.8513338359956035,\n",
    "                0.8500350395300462,\n",
    "                0.852526036518876,\n",
    "                0.8511422016698067,\n",
    "                0.8517168508689142,\n",
    "                0.8509292499682551,\n",
    "                0.8518448230997693,\n",
    "                0.8521214550232827,\n",
    "                0.849779670601227,\n",
    "                0.8511423557494785,\n",
    "                0.8522706041454864,\n",
    "                0.8506739580792718,\n",
    "                0.8517810703697268,\n",
    "                0.850588588877641,\n",
    "                0.851589059908261,\n",
    "                0.8503758229780465,\n",
    "                0.8527176481858977,\n",
    "                0.8508654111348666,\n",
    "                0.8513761580560149,\n",
    "                0.850503545962374,\n",
    "                0.8518447369964235,\n",
    "                0.8515890508447509]"
   ]
  },
  {
   "cell_type": "code",
   "execution_count": 6,
   "metadata": {},
   "outputs": [],
   "source": [
    "results_random_forest = [0.8703456315195528,\n",
    "                         0.8713249437858444,\n",
    "                         0.8698344993992253,\n",
    "                         0.8706435445647805,\n",
    "                         0.8704944634189029,\n",
    "                         0.8697918601159603,\n",
    "                         0.869557971706078,\n",
    "                         0.8710906701767829,\n",
    "                         0.8707288457900857,\n",
    "                         0.8699409820476337,\n",
    "                         0.870750018149679,\n",
    "                         0.869664155258653,\n",
    "                         0.8704094023766157,\n",
    "                         0.8700261609155522,\n",
    "                         0.8710054323960487,\n",
    "                         0.8717718654688694,\n",
    "                         0.8698984605900002,\n",
    "                         0.8697070256614255,\n",
    "                         0.869685558737754,\n",
    "                         0.8701326345004506,\n",
    "                         0.87040935252731,\n",
    "                         0.8708352513986582,\n",
    "                         0.8698770117933489,\n",
    "                         0.8694939878565279,\n",
    "                         0.8702390627677984,\n",
    "                         0.8701966410087758,\n",
    "                         0.870792480694497,\n",
    "                         0.8699197960927751,\n",
    "                         0.8698771613412652,\n",
    "                         0.8708776504989055]"
   ]
  },
  {
   "cell_type": "code",
   "execution_count": 9,
   "metadata": {},
   "outputs": [],
   "source": [
    "results_neural_network = [0.8468205659745136,\n",
    "                          0.8447767942962969,\n",
    "                          0.8450957165579362,\n",
    "                          0.8446275862612775,\n",
    "                          0.8450958570423428,\n",
    "                          0.8483106795430142,\n",
    "                          0.8481616845004825,\n",
    "                          0.8465647348066794,\n",
    "                          0.8481616074606464,\n",
    "                          0.8463945492775341,\n",
    "                          0.847799751351664,\n",
    "                          0.8434141091480454,\n",
    "                          0.8462241734146765,\n",
    "                          0.843562904793355,\n",
    "                          0.8467140380085547,\n",
    "                          0.8443080794032367,\n",
    "                          0.8457773061127123,\n",
    "                          0.8466075689554116,\n",
    "                          0.8453300717385888,\n",
    "                          0.844478441670829,\n",
    "                          0.8457134038347529,\n",
    "                          0.8458623490279793,\n",
    "                          0.8437332081481317,\n",
    "                          0.8475015890599084,\n",
    "                          0.8463306787218603,\n",
    "                          0.8483319923870141,\n",
    "                          0.8451808682353248,\n",
    "                          0.8466926345294539,\n",
    "                          0.8466075145743508,\n",
    "                          0.8462453865600652]"
   ]
  },
  {
   "cell_type": "code",
   "execution_count": 10,
   "metadata": {},
   "outputs": [],
   "source": [
    "results_knn = [0.8379213093364214,\n",
    "               0.8381129572574834,\n",
    "               0.8359626168275123,\n",
    "               0.8368994302949456,\n",
    "               0.8373676104409098,\n",
    "               0.8377935410345435,\n",
    "               0.8371763658460474,\n",
    "               0.8379850892569942,\n",
    "               0.8385813685229552,\n",
    "               0.8370270082631116,\n",
    "               0.8375166462692372,\n",
    "               0.8377083349760944,\n",
    "               0.8380063885057292,\n",
    "               0.8372611187289912,\n",
    "               0.8368992308977233,\n",
    "               0.8365797874842533,\n",
    "               0.8370910374302121,\n",
    "               0.8384323190993627,\n",
    "               0.837240032472744,\n",
    "               0.8376871807435213,\n",
    "               0.8372611006019712,\n",
    "               0.8376232512750319,\n",
    "               0.8386663479936516,\n",
    "               0.8367076464212323,\n",
    "               0.8382407210276064,\n",
    "               0.8379426674979717,\n",
    "               0.8374313586391974,\n",
    "               0.8377722689763392,\n",
    "               0.8370057724589474,\n",
    "               0.8391133195259821]"
   ]
  },
  {
   "cell_type": "code",
   "execution_count": 11,
   "metadata": {},
   "outputs": [],
   "source": [
    "results = pd.DataFrame({'Decision Tree': results_tree, 'Random Forest': results_random_forest,\n",
    "                       'Neural Network': results_neural_network, 'KNN': results_knn})"
   ]
  },
  {
   "cell_type": "code",
   "execution_count": 12,
   "metadata": {},
   "outputs": [
    {
     "data": {
      "text/html": [
       "<div>\n",
       "<style scoped>\n",
       "    .dataframe tbody tr th:only-of-type {\n",
       "        vertical-align: middle;\n",
       "    }\n",
       "\n",
       "    .dataframe tbody tr th {\n",
       "        vertical-align: top;\n",
       "    }\n",
       "\n",
       "    .dataframe thead th {\n",
       "        text-align: right;\n",
       "    }\n",
       "</style>\n",
       "<table border=\"1\" class=\"dataframe\">\n",
       "  <thead>\n",
       "    <tr style=\"text-align: right;\">\n",
       "      <th></th>\n",
       "      <th>Decision Tree</th>\n",
       "      <th>Random Forest</th>\n",
       "      <th>Neural Network</th>\n",
       "      <th>KNN</th>\n",
       "    </tr>\n",
       "  </thead>\n",
       "  <tbody>\n",
       "    <tr>\n",
       "      <th>0</th>\n",
       "      <td>0.853335</td>\n",
       "      <td>0.870346</td>\n",
       "      <td>0.846821</td>\n",
       "      <td>0.837921</td>\n",
       "    </tr>\n",
       "    <tr>\n",
       "      <th>1</th>\n",
       "      <td>0.852228</td>\n",
       "      <td>0.871325</td>\n",
       "      <td>0.844777</td>\n",
       "      <td>0.838113</td>\n",
       "    </tr>\n",
       "    <tr>\n",
       "      <th>2</th>\n",
       "      <td>0.851547</td>\n",
       "      <td>0.869834</td>\n",
       "      <td>0.845096</td>\n",
       "      <td>0.835963</td>\n",
       "    </tr>\n",
       "    <tr>\n",
       "      <th>3</th>\n",
       "      <td>0.850333</td>\n",
       "      <td>0.870644</td>\n",
       "      <td>0.844628</td>\n",
       "      <td>0.836899</td>\n",
       "    </tr>\n",
       "    <tr>\n",
       "      <th>4</th>\n",
       "      <td>0.850865</td>\n",
       "      <td>0.870494</td>\n",
       "      <td>0.845096</td>\n",
       "      <td>0.837368</td>\n",
       "    </tr>\n",
       "    <tr>\n",
       "      <th>5</th>\n",
       "      <td>0.851866</td>\n",
       "      <td>0.869792</td>\n",
       "      <td>0.848311</td>\n",
       "      <td>0.837794</td>\n",
       "    </tr>\n",
       "    <tr>\n",
       "      <th>6</th>\n",
       "      <td>0.851696</td>\n",
       "      <td>0.869558</td>\n",
       "      <td>0.848162</td>\n",
       "      <td>0.837176</td>\n",
       "    </tr>\n",
       "    <tr>\n",
       "      <th>7</th>\n",
       "      <td>0.850333</td>\n",
       "      <td>0.871091</td>\n",
       "      <td>0.846565</td>\n",
       "      <td>0.837985</td>\n",
       "    </tr>\n",
       "    <tr>\n",
       "      <th>8</th>\n",
       "      <td>0.851334</td>\n",
       "      <td>0.870729</td>\n",
       "      <td>0.848162</td>\n",
       "      <td>0.838581</td>\n",
       "    </tr>\n",
       "    <tr>\n",
       "      <th>9</th>\n",
       "      <td>0.850035</td>\n",
       "      <td>0.869941</td>\n",
       "      <td>0.846395</td>\n",
       "      <td>0.837027</td>\n",
       "    </tr>\n",
       "    <tr>\n",
       "      <th>10</th>\n",
       "      <td>0.852526</td>\n",
       "      <td>0.870750</td>\n",
       "      <td>0.847800</td>\n",
       "      <td>0.837517</td>\n",
       "    </tr>\n",
       "    <tr>\n",
       "      <th>11</th>\n",
       "      <td>0.851142</td>\n",
       "      <td>0.869664</td>\n",
       "      <td>0.843414</td>\n",
       "      <td>0.837708</td>\n",
       "    </tr>\n",
       "    <tr>\n",
       "      <th>12</th>\n",
       "      <td>0.851717</td>\n",
       "      <td>0.870409</td>\n",
       "      <td>0.846224</td>\n",
       "      <td>0.838006</td>\n",
       "    </tr>\n",
       "    <tr>\n",
       "      <th>13</th>\n",
       "      <td>0.850929</td>\n",
       "      <td>0.870026</td>\n",
       "      <td>0.843563</td>\n",
       "      <td>0.837261</td>\n",
       "    </tr>\n",
       "    <tr>\n",
       "      <th>14</th>\n",
       "      <td>0.851845</td>\n",
       "      <td>0.871005</td>\n",
       "      <td>0.846714</td>\n",
       "      <td>0.836899</td>\n",
       "    </tr>\n",
       "    <tr>\n",
       "      <th>15</th>\n",
       "      <td>0.852121</td>\n",
       "      <td>0.871772</td>\n",
       "      <td>0.844308</td>\n",
       "      <td>0.836580</td>\n",
       "    </tr>\n",
       "    <tr>\n",
       "      <th>16</th>\n",
       "      <td>0.849780</td>\n",
       "      <td>0.869898</td>\n",
       "      <td>0.845777</td>\n",
       "      <td>0.837091</td>\n",
       "    </tr>\n",
       "    <tr>\n",
       "      <th>17</th>\n",
       "      <td>0.851142</td>\n",
       "      <td>0.869707</td>\n",
       "      <td>0.846608</td>\n",
       "      <td>0.838432</td>\n",
       "    </tr>\n",
       "    <tr>\n",
       "      <th>18</th>\n",
       "      <td>0.852271</td>\n",
       "      <td>0.869686</td>\n",
       "      <td>0.845330</td>\n",
       "      <td>0.837240</td>\n",
       "    </tr>\n",
       "    <tr>\n",
       "      <th>19</th>\n",
       "      <td>0.850674</td>\n",
       "      <td>0.870133</td>\n",
       "      <td>0.844478</td>\n",
       "      <td>0.837687</td>\n",
       "    </tr>\n",
       "    <tr>\n",
       "      <th>20</th>\n",
       "      <td>0.851781</td>\n",
       "      <td>0.870409</td>\n",
       "      <td>0.845713</td>\n",
       "      <td>0.837261</td>\n",
       "    </tr>\n",
       "    <tr>\n",
       "      <th>21</th>\n",
       "      <td>0.850589</td>\n",
       "      <td>0.870835</td>\n",
       "      <td>0.845862</td>\n",
       "      <td>0.837623</td>\n",
       "    </tr>\n",
       "    <tr>\n",
       "      <th>22</th>\n",
       "      <td>0.851589</td>\n",
       "      <td>0.869877</td>\n",
       "      <td>0.843733</td>\n",
       "      <td>0.838666</td>\n",
       "    </tr>\n",
       "    <tr>\n",
       "      <th>23</th>\n",
       "      <td>0.850376</td>\n",
       "      <td>0.869494</td>\n",
       "      <td>0.847502</td>\n",
       "      <td>0.836708</td>\n",
       "    </tr>\n",
       "    <tr>\n",
       "      <th>24</th>\n",
       "      <td>0.852718</td>\n",
       "      <td>0.870239</td>\n",
       "      <td>0.846331</td>\n",
       "      <td>0.838241</td>\n",
       "    </tr>\n",
       "    <tr>\n",
       "      <th>25</th>\n",
       "      <td>0.850865</td>\n",
       "      <td>0.870197</td>\n",
       "      <td>0.848332</td>\n",
       "      <td>0.837943</td>\n",
       "    </tr>\n",
       "    <tr>\n",
       "      <th>26</th>\n",
       "      <td>0.851376</td>\n",
       "      <td>0.870792</td>\n",
       "      <td>0.845181</td>\n",
       "      <td>0.837431</td>\n",
       "    </tr>\n",
       "    <tr>\n",
       "      <th>27</th>\n",
       "      <td>0.850504</td>\n",
       "      <td>0.869920</td>\n",
       "      <td>0.846693</td>\n",
       "      <td>0.837772</td>\n",
       "    </tr>\n",
       "    <tr>\n",
       "      <th>28</th>\n",
       "      <td>0.851845</td>\n",
       "      <td>0.869877</td>\n",
       "      <td>0.846608</td>\n",
       "      <td>0.837006</td>\n",
       "    </tr>\n",
       "    <tr>\n",
       "      <th>29</th>\n",
       "      <td>0.851589</td>\n",
       "      <td>0.870878</td>\n",
       "      <td>0.846245</td>\n",
       "      <td>0.839113</td>\n",
       "    </tr>\n",
       "  </tbody>\n",
       "</table>\n",
       "</div>"
      ],
      "text/plain": [
       "    Decision Tree  Random Forest  Neural Network       KNN\n",
       "0        0.853335       0.870346        0.846821  0.837921\n",
       "1        0.852228       0.871325        0.844777  0.838113\n",
       "2        0.851547       0.869834        0.845096  0.835963\n",
       "3        0.850333       0.870644        0.844628  0.836899\n",
       "4        0.850865       0.870494        0.845096  0.837368\n",
       "5        0.851866       0.869792        0.848311  0.837794\n",
       "6        0.851696       0.869558        0.848162  0.837176\n",
       "7        0.850333       0.871091        0.846565  0.837985\n",
       "8        0.851334       0.870729        0.848162  0.838581\n",
       "9        0.850035       0.869941        0.846395  0.837027\n",
       "10       0.852526       0.870750        0.847800  0.837517\n",
       "11       0.851142       0.869664        0.843414  0.837708\n",
       "12       0.851717       0.870409        0.846224  0.838006\n",
       "13       0.850929       0.870026        0.843563  0.837261\n",
       "14       0.851845       0.871005        0.846714  0.836899\n",
       "15       0.852121       0.871772        0.844308  0.836580\n",
       "16       0.849780       0.869898        0.845777  0.837091\n",
       "17       0.851142       0.869707        0.846608  0.838432\n",
       "18       0.852271       0.869686        0.845330  0.837240\n",
       "19       0.850674       0.870133        0.844478  0.837687\n",
       "20       0.851781       0.870409        0.845713  0.837261\n",
       "21       0.850589       0.870835        0.845862  0.837623\n",
       "22       0.851589       0.869877        0.843733  0.838666\n",
       "23       0.850376       0.869494        0.847502  0.836708\n",
       "24       0.852718       0.870239        0.846331  0.838241\n",
       "25       0.850865       0.870197        0.848332  0.837943\n",
       "26       0.851376       0.870792        0.845181  0.837431\n",
       "27       0.850504       0.869920        0.846693  0.837772\n",
       "28       0.851845       0.869877        0.846608  0.837006\n",
       "29       0.851589       0.870878        0.846245  0.839113"
      ]
     },
     "execution_count": 12,
     "metadata": {},
     "output_type": "execute_result"
    }
   ],
   "source": [
    "results"
   ]
  },
  {
   "cell_type": "code",
   "execution_count": 13,
   "metadata": {},
   "outputs": [
    {
     "data": {
      "text/html": [
       "<div>\n",
       "<style scoped>\n",
       "    .dataframe tbody tr th:only-of-type {\n",
       "        vertical-align: middle;\n",
       "    }\n",
       "\n",
       "    .dataframe tbody tr th {\n",
       "        vertical-align: top;\n",
       "    }\n",
       "\n",
       "    .dataframe thead th {\n",
       "        text-align: right;\n",
       "    }\n",
       "</style>\n",
       "<table border=\"1\" class=\"dataframe\">\n",
       "  <thead>\n",
       "    <tr style=\"text-align: right;\">\n",
       "      <th></th>\n",
       "      <th>Decision Tree</th>\n",
       "      <th>Random Forest</th>\n",
       "      <th>Neural Network</th>\n",
       "      <th>KNN</th>\n",
       "    </tr>\n",
       "  </thead>\n",
       "  <tbody>\n",
       "    <tr>\n",
       "      <th>count</th>\n",
       "      <td>30.000000</td>\n",
       "      <td>30.000000</td>\n",
       "      <td>30.000000</td>\n",
       "      <td>30.000000</td>\n",
       "    </tr>\n",
       "    <tr>\n",
       "      <th>mean</th>\n",
       "      <td>0.851365</td>\n",
       "      <td>0.870311</td>\n",
       "      <td>0.846014</td>\n",
       "      <td>0.837567</td>\n",
       "    </tr>\n",
       "    <tr>\n",
       "      <th>std</th>\n",
       "      <td>0.000840</td>\n",
       "      <td>0.000572</td>\n",
       "      <td>0.001413</td>\n",
       "      <td>0.000680</td>\n",
       "    </tr>\n",
       "    <tr>\n",
       "      <th>min</th>\n",
       "      <td>0.849780</td>\n",
       "      <td>0.869494</td>\n",
       "      <td>0.843414</td>\n",
       "      <td>0.835963</td>\n",
       "    </tr>\n",
       "    <tr>\n",
       "      <th>25%</th>\n",
       "      <td>0.850722</td>\n",
       "      <td>0.869877</td>\n",
       "      <td>0.845096</td>\n",
       "      <td>0.837112</td>\n",
       "    </tr>\n",
       "    <tr>\n",
       "      <th>50%</th>\n",
       "      <td>0.851461</td>\n",
       "      <td>0.870218</td>\n",
       "      <td>0.846235</td>\n",
       "      <td>0.837570</td>\n",
       "    </tr>\n",
       "    <tr>\n",
       "      <th>75%</th>\n",
       "      <td>0.851845</td>\n",
       "      <td>0.870745</td>\n",
       "      <td>0.846709</td>\n",
       "      <td>0.837974</td>\n",
       "    </tr>\n",
       "    <tr>\n",
       "      <th>max</th>\n",
       "      <td>0.853335</td>\n",
       "      <td>0.871772</td>\n",
       "      <td>0.848332</td>\n",
       "      <td>0.839113</td>\n",
       "    </tr>\n",
       "  </tbody>\n",
       "</table>\n",
       "</div>"
      ],
      "text/plain": [
       "       Decision Tree  Random Forest  Neural Network        KNN\n",
       "count      30.000000      30.000000       30.000000  30.000000\n",
       "mean        0.851365       0.870311        0.846014   0.837567\n",
       "std         0.000840       0.000572        0.001413   0.000680\n",
       "min         0.849780       0.869494        0.843414   0.835963\n",
       "25%         0.850722       0.869877        0.845096   0.837112\n",
       "50%         0.851461       0.870218        0.846235   0.837570\n",
       "75%         0.851845       0.870745        0.846709   0.837974\n",
       "max         0.853335       0.871772        0.848332   0.839113"
      ]
     },
     "execution_count": 13,
     "metadata": {},
     "output_type": "execute_result"
    }
   ],
   "source": [
    "results.describe()"
   ]
  },
  {
   "cell_type": "code",
   "execution_count": 14,
   "metadata": {},
   "outputs": [
    {
     "data": {
      "text/plain": [
       "Decision Tree     7.051335e-07\n",
       "Random Forest     3.270901e-07\n",
       "Neural Network    1.997724e-06\n",
       "KNN               4.625533e-07\n",
       "dtype: float64"
      ]
     },
     "execution_count": 14,
     "metadata": {},
     "output_type": "execute_result"
    }
   ],
   "source": [
    "results.var()"
   ]
  },
  {
   "cell_type": "code",
   "execution_count": 16,
   "metadata": {},
   "outputs": [
    {
     "data": {
      "text/plain": [
       "Decision Tree     0.098632\n",
       "Random Forest     0.065714\n",
       "Neural Network    0.167067\n",
       "KNN               0.081201\n",
       "dtype: float64"
      ]
     },
     "execution_count": 16,
     "metadata": {},
     "output_type": "execute_result"
    }
   ],
   "source": [
    "(results.std() / results.mean()) * 100"
   ]
  },
  {
   "cell_type": "code",
   "execution_count": 17,
   "metadata": {},
   "outputs": [],
   "source": [
    "# Teste de Shapiro\n",
    "alpha = 0.05"
   ]
  },
  {
   "cell_type": "code",
   "execution_count": 18,
   "metadata": {},
   "outputs": [],
   "source": [
    "from scipy.stats import shapiro"
   ]
  },
  {
   "cell_type": "code",
   "execution_count": 19,
   "metadata": {},
   "outputs": [
    {
     "data": {
      "text/plain": [
       "(ShapiroResult(statistic=0.985608696937561, pvalue=0.9470871090888977),\n",
       " ShapiroResult(statistic=0.9481673240661621, pvalue=0.15096114575862885),\n",
       " ShapiroResult(statistic=0.9632166624069214, pvalue=0.3732936978340149),\n",
       " ShapiroResult(statistic=0.993114173412323, pvalue=0.9991595149040222))"
      ]
     },
     "execution_count": 19,
     "metadata": {},
     "output_type": "execute_result"
    }
   ],
   "source": [
    "shapiro(results_tree), shapiro(results_random_forest), shapiro(results_neural_network), shapiro(results_knn)"
   ]
  },
  {
   "cell_type": "code",
   "execution_count": 22,
   "metadata": {},
   "outputs": [
    {
     "name": "stderr",
     "output_type": "stream",
     "text": [
      "C:\\Users\\miran\\AppData\\Local\\Packages\\PythonSoftwareFoundation.Python.3.11_qbz5n2kfra8p0\\LocalCache\\local-packages\\Python311\\site-packages\\seaborn\\axisgrid.py:123: UserWarning: The figure layout has changed to tight\n",
      "  self._figure.tight_layout(*args, **kwargs)\n"
     ]
    },
    {
     "data": {
      "text/plain": [
       "<seaborn.axisgrid.FacetGrid at 0x18bd13ad150>"
      ]
     },
     "execution_count": 22,
     "metadata": {},
     "output_type": "execute_result"
    },
    {
     "data": {
      "image/png": "[encoded data removed]",
      "text/plain": [
       "<Figure size 500x500 with 1 Axes>"
      ]
     },
     "metadata": {},
     "output_type": "display_data"
    }
   ],
   "source": [
    "sns.displot(results_tree, kind='kde')"
   ]
  },
  {
   "cell_type": "code",
   "execution_count": 23,
   "metadata": {},
   "outputs": [
    {
     "name": "stderr",
     "output_type": "stream",
     "text": [
      "C:\\Users\\miran\\AppData\\Local\\Packages\\PythonSoftwareFoundation.Python.3.11_qbz5n2kfra8p0\\LocalCache\\local-packages\\Python311\\site-packages\\seaborn\\axisgrid.py:123: UserWarning: The figure layout has changed to tight\n",
      "  self._figure.tight_layout(*args, **kwargs)\n"
     ]
    },
    {
     "data": {
      "text/plain": [
       "<seaborn.axisgrid.FacetGrid at 0x18bd1354710>"
      ]
     },
     "execution_count": 23,
     "metadata": {},
     "output_type": "execute_result"
    },
    {
     "data": {
      "image/png": "[encoded data removed]",
      "text/plain": [
       "<Figure size 500x500 with 1 Axes>"
      ]
     },
     "metadata": {},
     "output_type": "display_data"
    }
   ],
   "source": [
    "sns.displot(results_random_forest, kind='kde')"
   ]
  },
  {
   "cell_type": "code",
   "execution_count": 24,
   "metadata": {},
   "outputs": [
    {
     "name": "stderr",
     "output_type": "stream",
     "text": [
      "C:\\Users\\miran\\AppData\\Local\\Packages\\PythonSoftwareFoundation.Python.3.11_qbz5n2kfra8p0\\LocalCache\\local-packages\\Python311\\site-packages\\seaborn\\axisgrid.py:123: UserWarning: The figure layout has changed to tight\n",
      "  self._figure.tight_layout(*args, **kwargs)\n"
     ]
    },
    {
     "data": {
      "text/plain": [
       "<seaborn.axisgrid.FacetGrid at 0x18bd36e9310>"
      ]
     },
     "execution_count": 24,
     "metadata": {},
     "output_type": "execute_result"
    },
    {
     "data": {
      "image/png": "[encoded data removed]",
      "text/plain": [
       "<Figure size 500x500 with 1 Axes>"
      ]
     },
     "metadata": {},
     "output_type": "display_data"
    }
   ],
   "source": [
    "sns.displot(results_neural_network, kind='kde')"
   ]
  },
  {
   "cell_type": "code",
   "execution_count": 25,
   "metadata": {},
   "outputs": [
    {
     "name": "stderr",
     "output_type": "stream",
     "text": [
      "C:\\Users\\miran\\AppData\\Local\\Packages\\PythonSoftwareFoundation.Python.3.11_qbz5n2kfra8p0\\LocalCache\\local-packages\\Python311\\site-packages\\seaborn\\axisgrid.py:123: UserWarning: The figure layout has changed to tight\n",
      "  self._figure.tight_layout(*args, **kwargs)\n"
     ]
    },
    {
     "data": {
      "text/plain": [
       "<seaborn.axisgrid.FacetGrid at 0x18bd377fbd0>"
      ]
     },
     "execution_count": 25,
     "metadata": {},
     "output_type": "execute_result"
    },
    {
     "data": {
      "image/png": "[encoded data removed]",
      "text/plain": [
       "<Figure size 500x500 with 1 Axes>"
      ]
     },
     "metadata": {},
     "output_type": "display_data"
    }
   ],
   "source": [
    "sns.displot(results_knn, kind='kde')"
   ]
  },
  {
   "cell_type": "code",
   "execution_count": 26,
   "metadata": {},
   "outputs": [],
   "source": [
    "from scipy.stats import f_oneway"
   ]
  },
  {
   "cell_type": "code",
   "execution_count": 28,
   "metadata": {},
   "outputs": [
    {
     "data": {
      "text/plain": [
       "F_onewayResult(statistic=6619.252292130604, pvalue=1.768540505130445e-129)"
      ]
     },
     "execution_count": 28,
     "metadata": {},
     "output_type": "execute_result"
    }
   ],
   "source": [
    "p = f_oneway(results_tree, results_random_forest, results_neural_network, results_knn)\n",
    "p"
   ]
  },
  {
   "cell_type": "code",
   "execution_count": 32,
   "metadata": {},
   "outputs": [
    {
     "name": "stdout",
     "output_type": "stream",
     "text": [
      "Hipótese nula rejeitada. Dados são diferentes!\n"
     ]
    }
   ],
   "source": [
    "alpha = 0.05\n",
    "\n",
    "if p[1] <= alpha:\n",
    "    print(\"Hipótese nula rejeitada. Dados são diferentes!\")\n",
    "else:\n",
    "    print(\"Hipótese alternativa rejeitada. Os resultados são iguais!\")"
   ]
  },
  {
   "cell_type": "code",
   "execution_count": 34,
   "metadata": {},
   "outputs": [],
   "source": [
    "algorithms_results = {'accuracy': np.concatenate([\n",
    "    results_tree, results_random_forest, results_neural_network, results_knn]), 'algorithm': ['DecisionTree', 'DecisionTree', 'DecisionTree', 'DecisionTree', 'DecisionTree', 'DecisionTree', 'DecisionTree', 'DecisionTree', 'DecisionTree', 'DecisionTree', 'DecisionTree', 'DecisionTree', 'DecisionTree', 'DecisionTree', 'DecisionTree', 'DecisionTree', 'DecisionTree', 'DecisionTree', 'DecisionTree', 'DecisionTree', 'DecisionTree', 'DecisionTree', 'DecisionTree', 'DecisionTree', 'DecisionTree', 'DecisionTree', 'DecisionTree', 'DecisionTree', 'DecisionTree', 'DecisionTree', 'RandomForest', 'RandomForest', 'RandomForest', 'RandomForest', 'RandomForest', 'RandomForest', 'RandomForest', 'RandomForest', 'RandomForest', 'RandomForest', 'RandomForest', 'RandomForest', 'RandomForest', 'RandomForest', 'RandomForest', 'RandomForest', 'RandomForest', 'RandomForest', 'RandomForest', 'RandomForest', 'RandomForest', 'RandomForest', 'RandomForest', 'RandomForest', 'RandomForest', 'RandomForest', 'RandomForest', 'RandomForest', 'RandomForest', 'RandomForest', 'NeuralNetwork', 'NeuralNetwork', 'NeuralNetwork', 'NeuralNetwork', 'NeuralNetwork', 'NeuralNetwork', 'NeuralNetwork', 'NeuralNetwork', 'NeuralNetwork', 'NeuralNetwork', 'NeuralNetwork', 'NeuralNetwork', 'NeuralNetwork', 'NeuralNetwork', 'NeuralNetwork', 'NeuralNetwork', 'NeuralNetwork', 'NeuralNetwork', 'NeuralNetwork', 'NeuralNetwork', 'NeuralNetwork', 'NeuralNetwork', 'NeuralNetwork', 'NeuralNetwork', 'NeuralNetwork', 'NeuralNetwork', 'NeuralNetwork', 'NeuralNetwork', 'NeuralNetwork', 'NeuralNetwork', 'KNN', 'KNN', 'KNN', 'KNN', 'KNN', 'KNN', 'KNN', 'KNN', 'KNN', 'KNN', 'KNN', 'KNN', 'KNN', 'KNN', 'KNN', 'KNN', 'KNN', 'KNN', 'KNN', 'KNN', 'KNN', 'KNN', 'KNN', 'KNN', 'KNN', 'KNN', 'KNN', 'KNN', 'KNN', 'KNN']}"
   ]
  },
  {
   "cell_type": "code",
   "execution_count": 36,
   "metadata": {},
   "outputs": [
    {
     "data": {
      "text/html": [
       "<div>\n",
       "<style scoped>\n",
       "    .dataframe tbody tr th:only-of-type {\n",
       "        vertical-align: middle;\n",
       "    }\n",
       "\n",
       "    .dataframe tbody tr th {\n",
       "        vertical-align: top;\n",
       "    }\n",
       "\n",
       "    .dataframe thead th {\n",
       "        text-align: right;\n",
       "    }\n",
       "</style>\n",
       "<table border=\"1\" class=\"dataframe\">\n",
       "  <thead>\n",
       "    <tr style=\"text-align: right;\">\n",
       "      <th></th>\n",
       "      <th>accuracy</th>\n",
       "      <th>algorithm</th>\n",
       "    </tr>\n",
       "  </thead>\n",
       "  <tbody>\n",
       "    <tr>\n",
       "      <th>0</th>\n",
       "      <td>0.853335</td>\n",
       "      <td>DecisionTree</td>\n",
       "    </tr>\n",
       "    <tr>\n",
       "      <th>1</th>\n",
       "      <td>0.852228</td>\n",
       "      <td>DecisionTree</td>\n",
       "    </tr>\n",
       "    <tr>\n",
       "      <th>2</th>\n",
       "      <td>0.851547</td>\n",
       "      <td>DecisionTree</td>\n",
       "    </tr>\n",
       "    <tr>\n",
       "      <th>3</th>\n",
       "      <td>0.850333</td>\n",
       "      <td>DecisionTree</td>\n",
       "    </tr>\n",
       "    <tr>\n",
       "      <th>4</th>\n",
       "      <td>0.850865</td>\n",
       "      <td>DecisionTree</td>\n",
       "    </tr>\n",
       "    <tr>\n",
       "      <th>...</th>\n",
       "      <td>...</td>\n",
       "      <td>...</td>\n",
       "    </tr>\n",
       "    <tr>\n",
       "      <th>115</th>\n",
       "      <td>0.837943</td>\n",
       "      <td>KNN</td>\n",
       "    </tr>\n",
       "    <tr>\n",
       "      <th>116</th>\n",
       "      <td>0.837431</td>\n",
       "      <td>KNN</td>\n",
       "    </tr>\n",
       "    <tr>\n",
       "      <th>117</th>\n",
       "      <td>0.837772</td>\n",
       "      <td>KNN</td>\n",
       "    </tr>\n",
       "    <tr>\n",
       "      <th>118</th>\n",
       "      <td>0.837006</td>\n",
       "      <td>KNN</td>\n",
       "    </tr>\n",
       "    <tr>\n",
       "      <th>119</th>\n",
       "      <td>0.839113</td>\n",
       "      <td>KNN</td>\n",
       "    </tr>\n",
       "  </tbody>\n",
       "</table>\n",
       "<p>120 rows × 2 columns</p>\n",
       "</div>"
      ],
      "text/plain": [
       "     accuracy     algorithm\n",
       "0    0.853335  DecisionTree\n",
       "1    0.852228  DecisionTree\n",
       "2    0.851547  DecisionTree\n",
       "3    0.850333  DecisionTree\n",
       "4    0.850865  DecisionTree\n",
       "..        ...           ...\n",
       "115  0.837943           KNN\n",
       "116  0.837431           KNN\n",
       "117  0.837772           KNN\n",
       "118  0.837006           KNN\n",
       "119  0.839113           KNN\n",
       "\n",
       "[120 rows x 2 columns]"
      ]
     },
     "execution_count": 36,
     "metadata": {},
     "output_type": "execute_result"
    }
   ],
   "source": [
    "results_df = pd.DataFrame(algorithms_results)\n",
    "results_df"
   ]
  },
  {
   "cell_type": "code",
   "execution_count": 38,
   "metadata": {},
   "outputs": [
    {
     "name": "stdout",
     "output_type": "stream",
     "text": [
      "Collecting statsmodels\n",
      "  Downloading statsmodels-0.14.0-cp311-cp311-win_amd64.whl (9.2 MB)\n",
      "     ---------------------------------------- 0.0/9.2 MB ? eta -:--:--\n",
      "     ---------------------------------------- 0.0/9.2 MB ? eta -:--:--\n",
      "     ---------------------------------------- 0.0/9.2 MB 653.6 kB/s eta 0:00:14\n",
      "     - -------------------------------------- 0.3/9.2 MB 2.4 MB/s eta 0:00:04\n",
      "     ---- ----------------------------------- 1.1/9.2 MB 6.8 MB/s eta 0:00:02\n",
      "     -------- ------------------------------- 1.9/9.2 MB 10.1 MB/s eta 0:00:01\n",
      "     ----------- ---------------------------- 2.7/9.2 MB 11.5 MB/s eta 0:00:01\n",
      "     ---------------- ----------------------- 3.7/9.2 MB 12.5 MB/s eta 0:00:01\n",
      "     ------------------- -------------------- 4.6/9.2 MB 13.3 MB/s eta 0:00:01\n",
      "     ------------------------ --------------- 5.7/9.2 MB 15.3 MB/s eta 0:00:01\n",
      "     ---------------------------- ----------- 6.4/9.2 MB 15.2 MB/s eta 0:00:01\n",
      "     ----------------------------- ---------- 6.8/9.2 MB 14.6 MB/s eta 0:00:01\n",
      "     ----------------------------------- ---- 8.1/9.2 MB 15.7 MB/s eta 0:00:01\n",
      "     -------------------------------------- - 8.9/9.2 MB 15.7 MB/s eta 0:00:01\n",
      "     ---------------------------------------  9.2/9.2 MB 15.5 MB/s eta 0:00:01\n",
      "     ---------------------------------------- 9.2/9.2 MB 14.7 MB/s eta 0:00:00\n",
      "Requirement already satisfied: numpy>=1.18 in c:\\users\\miran\\appdata\\local\\packages\\pythonsoftwarefoundation.python.3.11_qbz5n2kfra8p0\\localcache\\local-packages\\python311\\site-packages (from statsmodels) (1.25.2)\n",
      "Requirement already satisfied: scipy!=1.9.2,>=1.4 in c:\\users\\miran\\appdata\\local\\packages\\pythonsoftwarefoundation.python.3.11_qbz5n2kfra8p0\\localcache\\local-packages\\python311\\site-packages (from statsmodels) (1.11.2)\n",
      "Requirement already satisfied: pandas>=1.0 in c:\\users\\miran\\appdata\\local\\packages\\pythonsoftwarefoundation.python.3.11_qbz5n2kfra8p0\\localcache\\local-packages\\python311\\site-packages (from statsmodels) (2.1.0)\n",
      "Collecting patsy>=0.5.2 (from statsmodels)\n",
      "  Downloading patsy-0.5.3-py2.py3-none-any.whl (233 kB)\n",
      "     ---------------------------------------- 0.0/233.8 kB ? eta -:--:--\n",
      "     ---------------------------------------- 233.8/233.8 kB ? eta 0:00:00\n",
      "Requirement already satisfied: packaging>=21.3 in c:\\users\\miran\\appdata\\local\\packages\\pythonsoftwarefoundation.python.3.11_qbz5n2kfra8p0\\localcache\\local-packages\\python311\\site-packages (from statsmodels) (23.1)\n",
      "Requirement already satisfied: python-dateutil>=2.8.2 in c:\\users\\miran\\appdata\\local\\packages\\pythonsoftwarefoundation.python.3.11_qbz5n2kfra8p0\\localcache\\local-packages\\python311\\site-packages (from pandas>=1.0->statsmodels) (2.8.2)\n",
      "Requirement already satisfied: pytz>=2020.1 in c:\\users\\miran\\appdata\\local\\packages\\pythonsoftwarefoundation.python.3.11_qbz5n2kfra8p0\\localcache\\local-packages\\python311\\site-packages (from pandas>=1.0->statsmodels) (2023.3)\n",
      "Requirement already satisfied: tzdata>=2022.1 in c:\\users\\miran\\appdata\\local\\packages\\pythonsoftwarefoundation.python.3.11_qbz5n2kfra8p0\\localcache\\local-packages\\python311\\site-packages (from pandas>=1.0->statsmodels) (2023.3)\n",
      "Requirement already satisfied: six in c:\\users\\miran\\appdata\\local\\packages\\pythonsoftwarefoundation.python.3.11_qbz5n2kfra8p0\\localcache\\local-packages\\python311\\site-packages (from patsy>=0.5.2->statsmodels) (1.16.0)\n",
      "Installing collected packages: patsy, statsmodels\n",
      "Successfully installed patsy-0.5.3 statsmodels-0.14.0\n"
     ]
    }
   ],
   "source": [
    "!pip install statsmodels"
   ]
  },
  {
   "cell_type": "code",
   "execution_count": 39,
   "metadata": {},
   "outputs": [],
   "source": [
    "from statsmodels.stats.multicomp import MultiComparison"
   ]
  },
  {
   "cell_type": "code",
   "execution_count": 40,
   "metadata": {},
   "outputs": [],
   "source": [
    "comparison = MultiComparison(results_df['accuracy'], results_df['algorithm'])"
   ]
  },
  {
   "cell_type": "code",
   "execution_count": 41,
   "metadata": {},
   "outputs": [
    {
     "name": "stdout",
     "output_type": "stream",
     "text": [
      "       Multiple Comparison of Means - Tukey HSD, FWER=0.05       \n",
      "=================================================================\n",
      "    group1        group2    meandiff p-adj  lower   upper  reject\n",
      "-----------------------------------------------------------------\n",
      " DecisionTree           KNN  -0.0138   0.0 -0.0144 -0.0132   True\n",
      " DecisionTree NeuralNetwork  -0.0054   0.0  -0.006 -0.0047   True\n",
      " DecisionTree  RandomForest   0.0189   0.0  0.0183  0.0196   True\n",
      "          KNN NeuralNetwork   0.0084   0.0  0.0078  0.0091   True\n",
      "          KNN  RandomForest   0.0327   0.0  0.0321  0.0334   True\n",
      "NeuralNetwork  RandomForest   0.0243   0.0  0.0237  0.0249   True\n",
      "-----------------------------------------------------------------\n"
     ]
    }
   ],
   "source": [
    "test = comparison.tukeyhsd()\n",
    "print(test)"
   ]
  },
  {
   "cell_type": "code",
   "execution_count": 42,
   "metadata": {},
   "outputs": [
    {
     "data": {
      "image/png": "[encoded data removed]",
      "text/plain": [
       "<Figure size 1000x600 with 1 Axes>"
      ]
     },
     "execution_count": 42,
     "metadata": {},
     "output_type": "execute_result"
    },
    {
     "data": {
      "image/png": "[encoded data removed]",
      "text/plain": [
       "<Figure size 1000x600 with 1 Axes>"
      ]
     },
     "metadata": {},
     "output_type": "display_data"
    }
   ],
   "source": [
    "test.plot_simultaneous()"
   ]
  }
 ],
 "metadata": {
  "kernelspec": {
   "display_name": "Python 3",
   "language": "python",
   "name": "python3"
  },
  "language_info": {
   "codemirror_mode": {
    "name": "ipython",
    "version": 3
   },
   "file_extension": ".py",
   "mimetype": "text/x-python",
   "name": "python",
   "nbconvert_exporter": "python",
   "pygments_lexer": "ipython3",
   "version": "3.11.6"
  }
 },
 "nbformat": 4,
 "nbformat_minor": 2
}
