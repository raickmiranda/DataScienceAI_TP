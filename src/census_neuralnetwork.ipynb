{
 "cells": [
  {
   "cell_type": "code",
   "execution_count": 1,
   "metadata": {},
   "outputs": [],
   "source": [
    "import pickle as pk\n",
    "import numpy as np\n",
    "import matplotlib.pyplot as plt\n",
    "\n",
    "from sklearn.neural_network import MLPClassifier"
   ]
  },
  {
   "cell_type": "markdown",
   "metadata": {},
   "source": [
    "### 📌 **Redes Neurais: conjunto sem balanceamento**"
   ]
  },
  {
   "cell_type": "code",
   "execution_count": 2,
   "metadata": {},
   "outputs": [],
   "source": [
    "with open('../sample_data/census.pkl', 'rb') as f:\n",
    "    X_census_training_set, y_census_training_set, X_census_test_set, y_census_test_set, df_transformed, one_hot_encoder_census = pk.load(f)"
   ]
  },
  {
   "cell_type": "code",
   "execution_count": 3,
   "metadata": {},
   "outputs": [
    {
     "data": {
      "text/plain": [
       "((27656, 41), (27656,))"
      ]
     },
     "execution_count": 3,
     "metadata": {},
     "output_type": "execute_result"
    }
   ],
   "source": [
    "X_census_training_set.shape, y_census_training_set.shape"
   ]
  },
  {
   "cell_type": "code",
   "execution_count": 4,
   "metadata": {},
   "outputs": [
    {
     "data": {
      "text/plain": [
       "((4881, 41), (4881,))"
      ]
     },
     "execution_count": 4,
     "metadata": {},
     "output_type": "execute_result"
    }
   ],
   "source": [
    "X_census_test_set.shape, y_census_test_set.shape"
   ]
  },
  {
   "cell_type": "code",
   "execution_count": 5,
   "metadata": {},
   "outputs": [
    {
     "data": {
      "text/plain": [
       "21.0"
      ]
     },
     "execution_count": 5,
     "metadata": {},
     "output_type": "execute_result"
    }
   ],
   "source": [
    "(41 + 1) / 2"
   ]
  },
  {
   "cell_type": "code",
   "execution_count": 6,
   "metadata": {},
   "outputs": [
    {
     "name": "stdout",
     "output_type": "stream",
     "text": [
      "Iteration 1, loss = 0.46387758\n",
      "Iteration 2, loss = 0.38313575\n",
      "Iteration 3, loss = 0.37149548\n",
      "Iteration 4, loss = 0.36527750\n",
      "Iteration 5, loss = 0.36087167\n",
      "Iteration 6, loss = 0.35824594\n",
      "Iteration 7, loss = 0.35643305\n",
      "Iteration 8, loss = 0.35570769\n",
      "Iteration 9, loss = 0.35407482\n",
      "Iteration 10, loss = 0.35333735\n",
      "Iteration 11, loss = 0.35320472\n",
      "Iteration 12, loss = 0.35184056\n",
      "Iteration 13, loss = 0.35183160\n",
      "Iteration 14, loss = 0.35124258\n",
      "Iteration 15, loss = 0.35047382\n",
      "Iteration 16, loss = 0.35044952\n",
      "Iteration 17, loss = 0.34981298\n",
      "Iteration 18, loss = 0.34891719\n",
      "Iteration 19, loss = 0.34881114\n",
      "Iteration 20, loss = 0.34809121\n",
      "Iteration 21, loss = 0.34716610\n",
      "Iteration 22, loss = 0.34747819\n",
      "Iteration 23, loss = 0.34631814\n",
      "Iteration 24, loss = 0.34572333\n",
      "Iteration 25, loss = 0.34487738\n",
      "Iteration 26, loss = 0.34451703\n",
      "Iteration 27, loss = 0.34390391\n",
      "Iteration 28, loss = 0.34320985\n",
      "Iteration 29, loss = 0.34357620\n",
      "Iteration 30, loss = 0.34280321\n",
      "Iteration 31, loss = 0.34243303\n",
      "Iteration 32, loss = 0.34194388\n",
      "Iteration 33, loss = 0.34213995\n",
      "Iteration 34, loss = 0.34154945\n",
      "Iteration 35, loss = 0.34247536\n",
      "Iteration 36, loss = 0.34094705\n",
      "Iteration 37, loss = 0.34139862\n",
      "Iteration 38, loss = 0.34141634\n",
      "Iteration 39, loss = 0.34022542\n",
      "Iteration 40, loss = 0.34064938\n",
      "Iteration 41, loss = 0.34022185\n",
      "Iteration 42, loss = 0.34013575\n",
      "Iteration 43, loss = 0.34015223\n",
      "Iteration 44, loss = 0.34029814\n",
      "Iteration 45, loss = 0.33989975\n",
      "Iteration 46, loss = 0.33967803\n",
      "Iteration 47, loss = 0.33925233\n",
      "Iteration 48, loss = 0.33925348\n",
      "Iteration 49, loss = 0.33906034\n",
      "Iteration 50, loss = 0.33916490\n",
      "Iteration 51, loss = 0.33849973\n",
      "Iteration 52, loss = 0.33914000\n",
      "Iteration 53, loss = 0.33825028\n",
      "Iteration 54, loss = 0.33878878\n",
      "Iteration 55, loss = 0.33828152\n",
      "Iteration 56, loss = 0.33859668\n",
      "Iteration 57, loss = 0.33819374\n",
      "Iteration 58, loss = 0.33887793\n",
      "Iteration 59, loss = 0.33853193\n",
      "Iteration 60, loss = 0.33825178\n",
      "Iteration 61, loss = 0.33804520\n",
      "Iteration 62, loss = 0.33767228\n",
      "Iteration 63, loss = 0.33777258\n",
      "Iteration 64, loss = 0.33753085\n",
      "Iteration 65, loss = 0.33779925\n",
      "Iteration 66, loss = 0.33788753\n",
      "Iteration 67, loss = 0.33731939\n",
      "Iteration 68, loss = 0.33845468\n",
      "Iteration 69, loss = 0.33716301\n",
      "Iteration 70, loss = 0.33722290\n",
      "Iteration 71, loss = 0.33714819\n",
      "Iteration 72, loss = 0.33686114\n",
      "Iteration 73, loss = 0.33665623\n",
      "Iteration 74, loss = 0.33697099\n",
      "Iteration 75, loss = 0.33740473\n",
      "Iteration 76, loss = 0.33646353\n",
      "Iteration 77, loss = 0.33667961\n",
      "Iteration 78, loss = 0.33709006\n",
      "Iteration 79, loss = 0.33634229\n",
      "Iteration 80, loss = 0.33638537\n",
      "Iteration 81, loss = 0.33663712\n",
      "Iteration 82, loss = 0.33658832\n",
      "Iteration 83, loss = 0.33612824\n",
      "Iteration 84, loss = 0.33588838\n",
      "Iteration 85, loss = 0.33600067\n",
      "Iteration 86, loss = 0.33628589\n",
      "Iteration 87, loss = 0.33595120\n",
      "Iteration 88, loss = 0.33545631\n",
      "Iteration 89, loss = 0.33544859\n",
      "Iteration 90, loss = 0.33561113\n",
      "Iteration 91, loss = 0.33573207\n",
      "Iteration 92, loss = 0.33576940\n",
      "Iteration 93, loss = 0.33537876\n",
      "Iteration 94, loss = 0.33579325\n",
      "Iteration 95, loss = 0.33499378\n",
      "Iteration 96, loss = 0.33501610\n",
      "Iteration 97, loss = 0.33534754\n",
      "Iteration 98, loss = 0.33487138\n",
      "Iteration 99, loss = 0.33533144\n",
      "Iteration 100, loss = 0.33499450\n",
      "Iteration 101, loss = 0.33512836\n",
      "Iteration 102, loss = 0.33495162\n",
      "Iteration 103, loss = 0.33471683\n",
      "Iteration 104, loss = 0.33464837\n",
      "Iteration 105, loss = 0.33440285\n",
      "Iteration 106, loss = 0.33422495\n",
      "Iteration 107, loss = 0.33450977\n",
      "Iteration 108, loss = 0.33433867\n",
      "Iteration 109, loss = 0.33447787\n",
      "Iteration 110, loss = 0.33421788\n",
      "Iteration 111, loss = 0.33473273\n",
      "Iteration 112, loss = 0.33377310\n",
      "Iteration 113, loss = 0.33388297\n",
      "Iteration 114, loss = 0.33399825\n",
      "Iteration 115, loss = 0.33347307\n",
      "Iteration 116, loss = 0.33374942\n",
      "Iteration 117, loss = 0.33357332\n",
      "Iteration 118, loss = 0.33416213\n",
      "Iteration 119, loss = 0.33358951\n",
      "Iteration 120, loss = 0.33348057\n",
      "Iteration 121, loss = 0.33319143\n",
      "Iteration 122, loss = 0.33332193\n",
      "Iteration 123, loss = 0.33371291\n",
      "Iteration 124, loss = 0.33327691\n",
      "Iteration 125, loss = 0.33315056\n",
      "Iteration 126, loss = 0.33318307\n",
      "Iteration 127, loss = 0.33313963\n",
      "Iteration 128, loss = 0.33315427\n",
      "Iteration 129, loss = 0.33281131\n",
      "Iteration 130, loss = 0.33314084\n",
      "Iteration 131, loss = 0.33285954\n",
      "Iteration 132, loss = 0.33250987\n",
      "Iteration 133, loss = 0.33329106\n",
      "Iteration 134, loss = 0.33302247\n",
      "Iteration 135, loss = 0.33275351\n",
      "Iteration 136, loss = 0.33309134\n",
      "Iteration 137, loss = 0.33245960\n",
      "Iteration 138, loss = 0.33305885\n",
      "Iteration 139, loss = 0.33284527\n",
      "Iteration 140, loss = 0.33258757\n",
      "Iteration 141, loss = 0.33244950\n",
      "Iteration 142, loss = 0.33244113\n",
      "Iteration 143, loss = 0.33196993\n",
      "Iteration 144, loss = 0.33249901\n",
      "Iteration 145, loss = 0.33250224\n",
      "Iteration 146, loss = 0.33214422\n",
      "Iteration 147, loss = 0.33263302\n",
      "Iteration 148, loss = 0.33258141\n",
      "Iteration 149, loss = 0.33296909\n",
      "Iteration 150, loss = 0.33225162\n",
      "Iteration 151, loss = 0.33199953\n",
      "Iteration 152, loss = 0.33229927\n",
      "Iteration 153, loss = 0.33243469\n",
      "Iteration 154, loss = 0.33217300\n",
      "Training loss did not improve more than tol=0.000010 for 10 consecutive epochs. Stopping.\n"
     ]
    },
    {
     "data": {
      "text/html": [
       "<style>#sk-container-id-1 {color: black;}#sk-container-id-1 pre{padding: 0;}#sk-container-id-1 div.sk-toggleable {background-color: white;}#sk-container-id-1 label.sk-toggleable__label {cursor: pointer;display: block;width: 100%;margin-bottom: 0;padding: 0.3em;box-sizing: border-box;text-align: center;}#sk-container-id-1 label.sk-toggleable__label-arrow:before {content: \"▸\";float: left;margin-right: 0.25em;color: #696969;}#sk-container-id-1 label.sk-toggleable__label-arrow:hover:before {color: black;}#sk-container-id-1 div.sk-estimator:hover label.sk-toggleable__label-arrow:before {color: black;}#sk-container-id-1 div.sk-toggleable__content {max-height: 0;max-width: 0;overflow: hidden;text-align: left;background-color: #f0f8ff;}#sk-container-id-1 div.sk-toggleable__content pre {margin: 0.2em;color: black;border-radius: 0.25em;background-color: #f0f8ff;}#sk-container-id-1 input.sk-toggleable__control:checked~div.sk-toggleable__content {max-height: 200px;max-width: 100%;overflow: auto;}#sk-container-id-1 input.sk-toggleable__control:checked~label.sk-toggleable__label-arrow:before {content: \"▾\";}#sk-container-id-1 div.sk-estimator input.sk-toggleable__control:checked~label.sk-toggleable__label {background-color: #d4ebff;}#sk-container-id-1 div.sk-label input.sk-toggleable__control:checked~label.sk-toggleable__label {background-color: #d4ebff;}#sk-container-id-1 input.sk-hidden--visually {border: 0;clip: rect(1px 1px 1px 1px);clip: rect(1px, 1px, 1px, 1px);height: 1px;margin: -1px;overflow: hidden;padding: 0;position: absolute;width: 1px;}#sk-container-id-1 div.sk-estimator {font-family: monospace;background-color: #f0f8ff;border: 1px dotted black;border-radius: 0.25em;box-sizing: border-box;margin-bottom: 0.5em;}#sk-container-id-1 div.sk-estimator:hover {background-color: #d4ebff;}#sk-container-id-1 div.sk-parallel-item::after {content: \"\";width: 100%;border-bottom: 1px solid gray;flex-grow: 1;}#sk-container-id-1 div.sk-label:hover label.sk-toggleable__label {background-color: #d4ebff;}#sk-container-id-1 div.sk-serial::before {content: \"\";position: absolute;border-left: 1px solid gray;box-sizing: border-box;top: 0;bottom: 0;left: 50%;z-index: 0;}#sk-container-id-1 div.sk-serial {display: flex;flex-direction: column;align-items: center;background-color: white;padding-right: 0.2em;padding-left: 0.2em;position: relative;}#sk-container-id-1 div.sk-item {position: relative;z-index: 1;}#sk-container-id-1 div.sk-parallel {display: flex;align-items: stretch;justify-content: center;background-color: white;position: relative;}#sk-container-id-1 div.sk-item::before, #sk-container-id-1 div.sk-parallel-item::before {content: \"\";position: absolute;border-left: 1px solid gray;box-sizing: border-box;top: 0;bottom: 0;left: 50%;z-index: -1;}#sk-container-id-1 div.sk-parallel-item {display: flex;flex-direction: column;z-index: 1;position: relative;background-color: white;}#sk-container-id-1 div.sk-parallel-item:first-child::after {align-self: flex-end;width: 50%;}#sk-container-id-1 div.sk-parallel-item:last-child::after {align-self: flex-start;width: 50%;}#sk-container-id-1 div.sk-parallel-item:only-child::after {width: 0;}#sk-container-id-1 div.sk-dashed-wrapped {border: 1px dashed gray;margin: 0 0.4em 0.5em 0.4em;box-sizing: border-box;padding-bottom: 0.4em;background-color: white;}#sk-container-id-1 div.sk-label label {font-family: monospace;font-weight: bold;display: inline-block;line-height: 1.2em;}#sk-container-id-1 div.sk-label-container {text-align: center;}#sk-container-id-1 div.sk-container {/* jupyter's `normalize.less` sets `[hidden] { display: none; }` but bootstrap.min.css set `[hidden] { display: none !important; }` so we also need the `!important` here to be able to override the default hidden behavior on the sphinx rendered scikit-learn.org. See: https://github.com/scikit-learn/scikit-learn/issues/21755 */display: inline-block !important;position: relative;}#sk-container-id-1 div.sk-text-repr-fallback {display: none;}</style><div id=\"sk-container-id-1\" class=\"sk-top-container\"><div class=\"sk-text-repr-fallback\"><pre>MLPClassifier(hidden_layer_sizes=(21, 21), max_iter=1000, tol=1e-05,\n",
       "              verbose=True)</pre><b>In a Jupyter environment, please rerun this cell to show the HTML representation or trust the notebook. <br />On GitHub, the HTML representation is unable to render, please try loading this page with nbviewer.org.</b></div><div class=\"sk-container\" hidden><div class=\"sk-item\"><div class=\"sk-estimator sk-toggleable\"><input class=\"sk-toggleable__control sk-hidden--visually\" id=\"sk-estimator-id-1\" type=\"checkbox\" checked><label for=\"sk-estimator-id-1\" class=\"sk-toggleable__label sk-toggleable__label-arrow\">MLPClassifier</label><div class=\"sk-toggleable__content\"><pre>MLPClassifier(hidden_layer_sizes=(21, 21), max_iter=1000, tol=1e-05,\n",
       "              verbose=True)</pre></div></div></div></div></div>"
      ],
      "text/plain": [
       "MLPClassifier(hidden_layer_sizes=(21, 21), max_iter=1000, tol=1e-05,\n",
       "              verbose=True)"
      ]
     },
     "execution_count": 6,
     "metadata": {},
     "output_type": "execute_result"
    }
   ],
   "source": [
    "neural_network = MLPClassifier(verbose = True, max_iter = 1000, tol = 0.000010, hidden_layer_sizes = (21,21))\n",
    "neural_network.fit(X_census_training_set, y_census_training_set)"
   ]
  },
  {
   "cell_type": "code",
   "execution_count": 7,
   "metadata": {},
   "outputs": [
    {
     "data": {
      "text/plain": [
       "array([' >50K', ' <=50K', ' <=50K', ..., ' <=50K', ' <=50K', ' >50K'],\n",
       "      dtype='<U6')"
      ]
     },
     "execution_count": 7,
     "metadata": {},
     "output_type": "execute_result"
    }
   ],
   "source": [
    "predictor = neural_network.predict(X_census_test_set)\n",
    "predictor"
   ]
  },
  {
   "cell_type": "code",
   "execution_count": 8,
   "metadata": {},
   "outputs": [
    {
     "data": {
      "text/plain": [
       "array([' >50K', ' <=50K', ' >50K', ..., ' <=50K', ' <=50K', ' <=50K'],\n",
       "      dtype=object)"
      ]
     },
     "execution_count": 8,
     "metadata": {},
     "output_type": "execute_result"
    }
   ],
   "source": [
    "y_census_test_set"
   ]
  },
  {
   "cell_type": "markdown",
   "metadata": {},
   "source": [
    "##### ↬ **Estatísticas de Classificação e Matriz de Confusão**"
   ]
  },
  {
   "cell_type": "code",
   "execution_count": 9,
   "metadata": {},
   "outputs": [],
   "source": [
    "from sklearn.metrics import accuracy_score, classification_report, confusion_matrix\n",
    "from yellowbrick.classifier import ConfusionMatrix"
   ]
  },
  {
   "cell_type": "code",
   "execution_count": 10,
   "metadata": {},
   "outputs": [
    {
     "data": {
      "text/plain": [
       "0.8424503175578775"
      ]
     },
     "execution_count": 10,
     "metadata": {},
     "output_type": "execute_result"
    }
   ],
   "source": [
    "accuracy_score(y_census_test_set, predictor)"
   ]
  },
  {
   "cell_type": "code",
   "execution_count": 11,
   "metadata": {},
   "outputs": [
    {
     "name": "stdout",
     "output_type": "stream",
     "text": [
      "              precision    recall  f1-score   support\n",
      "\n",
      "       <=50K       0.88      0.92      0.90      3653\n",
      "        >50K       0.72      0.62      0.66      1228\n",
      "\n",
      "    accuracy                           0.84      4881\n",
      "   macro avg       0.80      0.77      0.78      4881\n",
      "weighted avg       0.84      0.84      0.84      4881\n",
      "\n"
     ]
    }
   ],
   "source": [
    "print(classification_report(y_census_test_set, predictor))"
   ]
  },
  {
   "cell_type": "code",
   "execution_count": 12,
   "metadata": {},
   "outputs": [
    {
     "data": {
      "text/plain": [
       "0.8424503175578775"
      ]
     },
     "execution_count": 12,
     "metadata": {},
     "output_type": "execute_result"
    },
    {
     "data": {
      "image/png": "[encoded data removed]",
      "text/plain": [
       "<Figure size 800x550 with 1 Axes>"
      ]
     },
     "metadata": {},
     "output_type": "display_data"
    }
   ],
   "source": [
    "cm = ConfusionMatrix(neural_network)\n",
    "cm.fit(X_census_training_set, y_census_training_set)\n",
    "cm.score(X_census_test_set, y_census_test_set)"
   ]
  },
  {
   "cell_type": "markdown",
   "metadata": {},
   "source": [
    "### 📌 **Árvore de Decisão: conjunto com balanceamento do tipo 'Random Over Sampling'**"
   ]
  },
  {
   "cell_type": "code",
   "execution_count": 13,
   "metadata": {},
   "outputs": [],
   "source": [
    "with open('../sample_data/census_ros.pkl', 'rb') as f_ros:\n",
    "    X_census_training_set_ros, y_census_training_set_ros, X_census_test_set_ros, y_census_test_set_ros, df_transformed, one_hot_encoder_census = pk.load(f_ros)"
   ]
  },
  {
   "cell_type": "code",
   "execution_count": 14,
   "metadata": {},
   "outputs": [
    {
     "data": {
      "text/plain": [
       "((42090, 41), (42090,))"
      ]
     },
     "execution_count": 14,
     "metadata": {},
     "output_type": "execute_result"
    }
   ],
   "source": [
    "X_census_training_set_ros.shape, y_census_training_set_ros.shape"
   ]
  },
  {
   "cell_type": "code",
   "execution_count": 15,
   "metadata": {},
   "outputs": [
    {
     "data": {
      "text/plain": [
       "((4881, 41), (4881,))"
      ]
     },
     "execution_count": 15,
     "metadata": {},
     "output_type": "execute_result"
    }
   ],
   "source": [
    "X_census_test_set_ros.shape, y_census_test_set_ros.shape"
   ]
  },
  {
   "cell_type": "code",
   "execution_count": 16,
   "metadata": {},
   "outputs": [
    {
     "name": "stdout",
     "output_type": "stream",
     "text": [
      "Iteration 1, loss = 0.56084235\n",
      "Iteration 2, loss = 0.44023198\n",
      "Iteration 3, loss = 0.43284830\n",
      "Iteration 4, loss = 0.42961739\n",
      "Iteration 5, loss = 0.42766626\n",
      "Iteration 6, loss = 0.42598771\n",
      "Iteration 7, loss = 0.42558799\n",
      "Iteration 8, loss = 0.42294314\n",
      "Iteration 9, loss = 0.42245670\n",
      "Iteration 10, loss = 0.42161413\n",
      "Iteration 11, loss = 0.41999430\n",
      "Iteration 12, loss = 0.41909823\n",
      "Iteration 13, loss = 0.41888548\n",
      "Iteration 14, loss = 0.41916441\n",
      "Iteration 15, loss = 0.41781544\n",
      "Iteration 16, loss = 0.41746178\n",
      "Iteration 17, loss = 0.41765395\n",
      "Iteration 18, loss = 0.41592699\n",
      "Iteration 19, loss = 0.41749415\n",
      "Iteration 20, loss = 0.41646328\n",
      "Iteration 21, loss = 0.41523392\n",
      "Iteration 22, loss = 0.41522992\n",
      "Iteration 23, loss = 0.41519888\n",
      "Iteration 24, loss = 0.41449834\n",
      "Iteration 25, loss = 0.41497855\n",
      "Iteration 26, loss = 0.41360956\n",
      "Iteration 27, loss = 0.41428602\n",
      "Iteration 28, loss = 0.41429516\n",
      "Iteration 29, loss = 0.41400147\n",
      "Iteration 30, loss = 0.41434200\n",
      "Iteration 31, loss = 0.41348644\n",
      "Iteration 32, loss = 0.41257251\n",
      "Iteration 33, loss = 0.41286928\n",
      "Iteration 34, loss = 0.41293297\n",
      "Iteration 35, loss = 0.41309136\n",
      "Iteration 36, loss = 0.41253259\n",
      "Iteration 37, loss = 0.41260284\n",
      "Iteration 38, loss = 0.41224457\n",
      "Iteration 39, loss = 0.41197319\n",
      "Iteration 40, loss = 0.41112881\n",
      "Iteration 41, loss = 0.41245147\n",
      "Iteration 42, loss = 0.41181517\n",
      "Iteration 43, loss = 0.41082650\n",
      "Iteration 44, loss = 0.41110364\n",
      "Iteration 45, loss = 0.41047303\n",
      "Iteration 46, loss = 0.41128793\n",
      "Iteration 47, loss = 0.41101157\n",
      "Iteration 48, loss = 0.41124197\n",
      "Iteration 49, loss = 0.40985589\n",
      "Iteration 50, loss = 0.41089711\n",
      "Iteration 51, loss = 0.40982425\n",
      "Iteration 52, loss = 0.40926446\n",
      "Iteration 53, loss = 0.41033455\n",
      "Iteration 54, loss = 0.41072064\n",
      "Iteration 55, loss = 0.40873993\n",
      "Iteration 56, loss = 0.41005660\n",
      "Iteration 57, loss = 0.40894340\n",
      "Iteration 58, loss = 0.40859839\n",
      "Iteration 59, loss = 0.40917959\n",
      "Iteration 60, loss = 0.40767721\n",
      "Iteration 61, loss = 0.40861341\n",
      "Iteration 62, loss = 0.40864520\n",
      "Iteration 63, loss = 0.40764029\n",
      "Iteration 64, loss = 0.40824599\n",
      "Iteration 65, loss = 0.40866893\n",
      "Iteration 66, loss = 0.40794779\n",
      "Iteration 67, loss = 0.40824137\n",
      "Iteration 68, loss = 0.40731329\n",
      "Iteration 69, loss = 0.40774101\n",
      "Iteration 70, loss = 0.40695871\n",
      "Iteration 71, loss = 0.40686286\n",
      "Iteration 72, loss = 0.40695440\n",
      "Iteration 73, loss = 0.40643808\n",
      "Iteration 74, loss = 0.40674594\n",
      "Iteration 75, loss = 0.40731550\n",
      "Iteration 76, loss = 0.40752206\n",
      "Iteration 77, loss = 0.40638877\n",
      "Iteration 78, loss = 0.40656136\n",
      "Iteration 79, loss = 0.40694636\n",
      "Iteration 80, loss = 0.40781185\n",
      "Iteration 81, loss = 0.40609168\n",
      "Iteration 82, loss = 0.40571638\n",
      "Iteration 83, loss = 0.40560936\n",
      "Iteration 84, loss = 0.40597150\n",
      "Iteration 85, loss = 0.40547375\n",
      "Iteration 86, loss = 0.40622266\n",
      "Iteration 87, loss = 0.40508449\n",
      "Iteration 88, loss = 0.40502563\n",
      "Iteration 89, loss = 0.40481326\n",
      "Iteration 90, loss = 0.40524930\n",
      "Iteration 91, loss = 0.40539371\n",
      "Iteration 92, loss = 0.40462537\n",
      "Iteration 93, loss = 0.40508151\n",
      "Iteration 94, loss = 0.40432732\n",
      "Iteration 95, loss = 0.40514082\n",
      "Iteration 96, loss = 0.40423193\n",
      "Iteration 97, loss = 0.40338439\n",
      "Iteration 98, loss = 0.40399025\n",
      "Iteration 99, loss = 0.40489645\n",
      "Iteration 100, loss = 0.40423553\n",
      "Iteration 101, loss = 0.40361070\n",
      "Iteration 102, loss = 0.40394288\n",
      "Iteration 103, loss = 0.40232942\n",
      "Iteration 104, loss = 0.40384147\n",
      "Iteration 105, loss = 0.40260706\n",
      "Iteration 106, loss = 0.40246557\n",
      "Iteration 107, loss = 0.40304924\n",
      "Iteration 108, loss = 0.40219312\n",
      "Iteration 109, loss = 0.40277149\n",
      "Iteration 110, loss = 0.40275593\n",
      "Iteration 111, loss = 0.40246351\n",
      "Iteration 112, loss = 0.40164892\n",
      "Iteration 113, loss = 0.40232249\n",
      "Iteration 114, loss = 0.40210694\n",
      "Iteration 115, loss = 0.40238941\n",
      "Iteration 116, loss = 0.40098379\n",
      "Iteration 117, loss = 0.40142758\n",
      "Iteration 118, loss = 0.40125144\n",
      "Iteration 119, loss = 0.40140358\n",
      "Iteration 120, loss = 0.40163113\n",
      "Iteration 121, loss = 0.40169174\n",
      "Iteration 122, loss = 0.40074402\n",
      "Iteration 123, loss = 0.40055692\n",
      "Iteration 124, loss = 0.40039127\n",
      "Iteration 125, loss = 0.40035988\n",
      "Iteration 126, loss = 0.39977611\n",
      "Iteration 127, loss = 0.39991751\n",
      "Iteration 128, loss = 0.40003515\n",
      "Iteration 129, loss = 0.39940058\n",
      "Iteration 130, loss = 0.39909854\n",
      "Iteration 131, loss = 0.39904176\n",
      "Iteration 132, loss = 0.39913557\n",
      "Iteration 133, loss = 0.40009317\n",
      "Iteration 134, loss = 0.39914283\n",
      "Iteration 135, loss = 0.39964327\n",
      "Iteration 136, loss = 0.39817078\n",
      "Iteration 137, loss = 0.39879018\n",
      "Iteration 138, loss = 0.39930049\n",
      "Iteration 139, loss = 0.39847244\n",
      "Iteration 140, loss = 0.39790706\n",
      "Iteration 141, loss = 0.39854930\n",
      "Iteration 142, loss = 0.39930722\n",
      "Iteration 143, loss = 0.39839183\n",
      "Iteration 144, loss = 0.39774864\n",
      "Iteration 145, loss = 0.39833611\n",
      "Iteration 146, loss = 0.39792688\n",
      "Iteration 147, loss = 0.39767957\n",
      "Iteration 148, loss = 0.39748798\n",
      "Iteration 149, loss = 0.39691297\n",
      "Iteration 150, loss = 0.39711367\n",
      "Iteration 151, loss = 0.39733835\n",
      "Iteration 152, loss = 0.39820669\n",
      "Iteration 153, loss = 0.39663949\n",
      "Iteration 154, loss = 0.39686565\n",
      "Iteration 155, loss = 0.39685522\n",
      "Iteration 156, loss = 0.39656424\n",
      "Iteration 157, loss = 0.39590692\n",
      "Iteration 158, loss = 0.39620919\n",
      "Iteration 159, loss = 0.39729384\n",
      "Iteration 160, loss = 0.39648504\n",
      "Iteration 161, loss = 0.39633224\n",
      "Iteration 162, loss = 0.39696685\n",
      "Iteration 163, loss = 0.39619043\n",
      "Iteration 164, loss = 0.39616339\n",
      "Iteration 165, loss = 0.39568805\n",
      "Iteration 166, loss = 0.39649078\n",
      "Iteration 167, loss = 0.39542900\n",
      "Iteration 168, loss = 0.39633085\n",
      "Iteration 169, loss = 0.39539771\n",
      "Iteration 170, loss = 0.39581325\n",
      "Iteration 171, loss = 0.39568695\n",
      "Iteration 172, loss = 0.39558713\n",
      "Iteration 173, loss = 0.39554949\n",
      "Iteration 174, loss = 0.39501786\n",
      "Iteration 175, loss = 0.39561923\n",
      "Iteration 176, loss = 0.39428151\n",
      "Iteration 177, loss = 0.39594235\n",
      "Iteration 178, loss = 0.39385057\n",
      "Iteration 179, loss = 0.39398864\n",
      "Iteration 180, loss = 0.39448869\n",
      "Iteration 181, loss = 0.39504833\n",
      "Iteration 182, loss = 0.39360165\n",
      "Iteration 183, loss = 0.39487308\n",
      "Iteration 184, loss = 0.39527242\n",
      "Iteration 185, loss = 0.39496004\n",
      "Iteration 186, loss = 0.39430639\n",
      "Iteration 187, loss = 0.39378565\n",
      "Iteration 188, loss = 0.39437437\n",
      "Iteration 189, loss = 0.39402453\n",
      "Iteration 190, loss = 0.39374084\n",
      "Iteration 191, loss = 0.39451690\n",
      "Iteration 192, loss = 0.39402417\n",
      "Iteration 193, loss = 0.39292565\n",
      "Iteration 194, loss = 0.39495251\n",
      "Iteration 195, loss = 0.39329032\n",
      "Iteration 196, loss = 0.39497715\n",
      "Iteration 197, loss = 0.39468239\n",
      "Iteration 198, loss = 0.39367200\n",
      "Iteration 199, loss = 0.39493744\n",
      "Iteration 200, loss = 0.39372539\n",
      "Iteration 201, loss = 0.39356757\n",
      "Iteration 202, loss = 0.39282133\n",
      "Iteration 203, loss = 0.39300349\n",
      "Iteration 204, loss = 0.39342013\n",
      "Iteration 205, loss = 0.39287657\n",
      "Iteration 206, loss = 0.39296626\n",
      "Iteration 207, loss = 0.39356667\n",
      "Iteration 208, loss = 0.39255701\n",
      "Iteration 209, loss = 0.39226063\n",
      "Iteration 210, loss = 0.39271339\n",
      "Iteration 211, loss = 0.39303749\n",
      "Iteration 212, loss = 0.39349815\n",
      "Iteration 213, loss = 0.39260484\n",
      "Iteration 214, loss = 0.39190545\n",
      "Iteration 215, loss = 0.39301671\n",
      "Iteration 216, loss = 0.39391710\n",
      "Iteration 217, loss = 0.39167300\n",
      "Iteration 218, loss = 0.39266476\n",
      "Iteration 219, loss = 0.39214611\n",
      "Iteration 220, loss = 0.39262921\n",
      "Iteration 221, loss = 0.39283172\n",
      "Iteration 222, loss = 0.39169493\n",
      "Iteration 223, loss = 0.39164245\n",
      "Iteration 224, loss = 0.39253054\n",
      "Iteration 225, loss = 0.39193143\n",
      "Iteration 226, loss = 0.39189665\n",
      "Iteration 227, loss = 0.39130568\n",
      "Iteration 228, loss = 0.39156227\n",
      "Iteration 229, loss = 0.39162052\n",
      "Iteration 230, loss = 0.39132993\n",
      "Iteration 231, loss = 0.39243365\n",
      "Iteration 232, loss = 0.39227731\n",
      "Iteration 233, loss = 0.39201055\n",
      "Iteration 234, loss = 0.39142996\n",
      "Iteration 235, loss = 0.39149768\n",
      "Iteration 236, loss = 0.39271652\n",
      "Iteration 237, loss = 0.39122473\n",
      "Iteration 238, loss = 0.39097170\n",
      "Iteration 239, loss = 0.39176545\n",
      "Iteration 240, loss = 0.39118955\n",
      "Iteration 241, loss = 0.39051195\n",
      "Iteration 242, loss = 0.39010838\n",
      "Iteration 243, loss = 0.39237497\n",
      "Iteration 244, loss = 0.39111874\n",
      "Iteration 245, loss = 0.39086831\n",
      "Iteration 246, loss = 0.39116918\n",
      "Iteration 247, loss = 0.39113693\n",
      "Iteration 248, loss = 0.39079370\n",
      "Iteration 249, loss = 0.39090439\n",
      "Iteration 250, loss = 0.39028244\n",
      "Iteration 251, loss = 0.39037588\n",
      "Iteration 252, loss = 0.39044778\n",
      "Iteration 253, loss = 0.39159319\n",
      "Training loss did not improve more than tol=0.000010 for 10 consecutive epochs. Stopping.\n"
     ]
    },
    {
     "data": {
      "text/html": [
       "<style>#sk-container-id-2 {color: black;}#sk-container-id-2 pre{padding: 0;}#sk-container-id-2 div.sk-toggleable {background-color: white;}#sk-container-id-2 label.sk-toggleable__label {cursor: pointer;display: block;width: 100%;margin-bottom: 0;padding: 0.3em;box-sizing: border-box;text-align: center;}#sk-container-id-2 label.sk-toggleable__label-arrow:before {content: \"▸\";float: left;margin-right: 0.25em;color: #696969;}#sk-container-id-2 label.sk-toggleable__label-arrow:hover:before {color: black;}#sk-container-id-2 div.sk-estimator:hover label.sk-toggleable__label-arrow:before {color: black;}#sk-container-id-2 div.sk-toggleable__content {max-height: 0;max-width: 0;overflow: hidden;text-align: left;background-color: #f0f8ff;}#sk-container-id-2 div.sk-toggleable__content pre {margin: 0.2em;color: black;border-radius: 0.25em;background-color: #f0f8ff;}#sk-container-id-2 input.sk-toggleable__control:checked~div.sk-toggleable__content {max-height: 200px;max-width: 100%;overflow: auto;}#sk-container-id-2 input.sk-toggleable__control:checked~label.sk-toggleable__label-arrow:before {content: \"▾\";}#sk-container-id-2 div.sk-estimator input.sk-toggleable__control:checked~label.sk-toggleable__label {background-color: #d4ebff;}#sk-container-id-2 div.sk-label input.sk-toggleable__control:checked~label.sk-toggleable__label {background-color: #d4ebff;}#sk-container-id-2 input.sk-hidden--visually {border: 0;clip: rect(1px 1px 1px 1px);clip: rect(1px, 1px, 1px, 1px);height: 1px;margin: -1px;overflow: hidden;padding: 0;position: absolute;width: 1px;}#sk-container-id-2 div.sk-estimator {font-family: monospace;background-color: #f0f8ff;border: 1px dotted black;border-radius: 0.25em;box-sizing: border-box;margin-bottom: 0.5em;}#sk-container-id-2 div.sk-estimator:hover {background-color: #d4ebff;}#sk-container-id-2 div.sk-parallel-item::after {content: \"\";width: 100%;border-bottom: 1px solid gray;flex-grow: 1;}#sk-container-id-2 div.sk-label:hover label.sk-toggleable__label {background-color: #d4ebff;}#sk-container-id-2 div.sk-serial::before {content: \"\";position: absolute;border-left: 1px solid gray;box-sizing: border-box;top: 0;bottom: 0;left: 50%;z-index: 0;}#sk-container-id-2 div.sk-serial {display: flex;flex-direction: column;align-items: center;background-color: white;padding-right: 0.2em;padding-left: 0.2em;position: relative;}#sk-container-id-2 div.sk-item {position: relative;z-index: 1;}#sk-container-id-2 div.sk-parallel {display: flex;align-items: stretch;justify-content: center;background-color: white;position: relative;}#sk-container-id-2 div.sk-item::before, #sk-container-id-2 div.sk-parallel-item::before {content: \"\";position: absolute;border-left: 1px solid gray;box-sizing: border-box;top: 0;bottom: 0;left: 50%;z-index: -1;}#sk-container-id-2 div.sk-parallel-item {display: flex;flex-direction: column;z-index: 1;position: relative;background-color: white;}#sk-container-id-2 div.sk-parallel-item:first-child::after {align-self: flex-end;width: 50%;}#sk-container-id-2 div.sk-parallel-item:last-child::after {align-self: flex-start;width: 50%;}#sk-container-id-2 div.sk-parallel-item:only-child::after {width: 0;}#sk-container-id-2 div.sk-dashed-wrapped {border: 1px dashed gray;margin: 0 0.4em 0.5em 0.4em;box-sizing: border-box;padding-bottom: 0.4em;background-color: white;}#sk-container-id-2 div.sk-label label {font-family: monospace;font-weight: bold;display: inline-block;line-height: 1.2em;}#sk-container-id-2 div.sk-label-container {text-align: center;}#sk-container-id-2 div.sk-container {/* jupyter's `normalize.less` sets `[hidden] { display: none; }` but bootstrap.min.css set `[hidden] { display: none !important; }` so we also need the `!important` here to be able to override the default hidden behavior on the sphinx rendered scikit-learn.org. See: https://github.com/scikit-learn/scikit-learn/issues/21755 */display: inline-block !important;position: relative;}#sk-container-id-2 div.sk-text-repr-fallback {display: none;}</style><div id=\"sk-container-id-2\" class=\"sk-top-container\"><div class=\"sk-text-repr-fallback\"><pre>MLPClassifier(hidden_layer_sizes=(21, 21), max_iter=1000, tol=1e-05,\n",
       "              verbose=True)</pre><b>In a Jupyter environment, please rerun this cell to show the HTML representation or trust the notebook. <br />On GitHub, the HTML representation is unable to render, please try loading this page with nbviewer.org.</b></div><div class=\"sk-container\" hidden><div class=\"sk-item\"><div class=\"sk-estimator sk-toggleable\"><input class=\"sk-toggleable__control sk-hidden--visually\" id=\"sk-estimator-id-2\" type=\"checkbox\" checked><label for=\"sk-estimator-id-2\" class=\"sk-toggleable__label sk-toggleable__label-arrow\">MLPClassifier</label><div class=\"sk-toggleable__content\"><pre>MLPClassifier(hidden_layer_sizes=(21, 21), max_iter=1000, tol=1e-05,\n",
       "              verbose=True)</pre></div></div></div></div></div>"
      ],
      "text/plain": [
       "MLPClassifier(hidden_layer_sizes=(21, 21), max_iter=1000, tol=1e-05,\n",
       "              verbose=True)"
      ]
     },
     "execution_count": 16,
     "metadata": {},
     "output_type": "execute_result"
    }
   ],
   "source": [
    "neural_network_ros = MLPClassifier(verbose = True, max_iter = 1000, tol = 0.000010, hidden_layer_sizes = (21,21))\n",
    "neural_network_ros.fit(X_census_training_set_ros, y_census_training_set_ros)"
   ]
  },
  {
   "cell_type": "code",
   "execution_count": 17,
   "metadata": {},
   "outputs": [
    {
     "data": {
      "text/plain": [
       "array([' >50K', ' <=50K', ' >50K', ..., ' <=50K', ' <=50K', ' >50K'],\n",
       "      dtype='<U6')"
      ]
     },
     "execution_count": 17,
     "metadata": {},
     "output_type": "execute_result"
    }
   ],
   "source": [
    "predictor_ros = neural_network_ros.predict(X_census_test_set_ros)\n",
    "predictor_ros"
   ]
  },
  {
   "cell_type": "code",
   "execution_count": 18,
   "metadata": {},
   "outputs": [
    {
     "data": {
      "text/plain": [
       "array([' >50K', ' <=50K', ' >50K', ..., ' <=50K', ' <=50K', ' <=50K'],\n",
       "      dtype=object)"
      ]
     },
     "execution_count": 18,
     "metadata": {},
     "output_type": "execute_result"
    }
   ],
   "source": [
    "y_census_test_set_ros"
   ]
  },
  {
   "cell_type": "markdown",
   "metadata": {},
   "source": [
    "##### ↬ **Estatísticas de Classificação e Matriz de Confusão**"
   ]
  },
  {
   "cell_type": "code",
   "execution_count": 19,
   "metadata": {},
   "outputs": [
    {
     "data": {
      "text/plain": [
       "0.774021716861299"
      ]
     },
     "execution_count": 19,
     "metadata": {},
     "output_type": "execute_result"
    }
   ],
   "source": [
    "accuracy_score(y_census_test_set_ros, predictor_ros)"
   ]
  },
  {
   "cell_type": "code",
   "execution_count": 20,
   "metadata": {},
   "outputs": [
    {
     "name": "stdout",
     "output_type": "stream",
     "text": [
      "              precision    recall  f1-score   support\n",
      "\n",
      "       <=50K       0.94      0.74      0.83      3653\n",
      "        >50K       0.53      0.87      0.66      1228\n",
      "\n",
      "    accuracy                           0.77      4881\n",
      "   macro avg       0.74      0.81      0.75      4881\n",
      "weighted avg       0.84      0.77      0.79      4881\n",
      "\n"
     ]
    }
   ],
   "source": [
    "print(classification_report(y_census_test_set_ros, predictor_ros))"
   ]
  },
  {
   "cell_type": "code",
   "execution_count": 21,
   "metadata": {},
   "outputs": [
    {
     "data": {
      "text/plain": [
       "0.774021716861299"
      ]
     },
     "execution_count": 21,
     "metadata": {},
     "output_type": "execute_result"
    },
    {
     "data": {
      "image/png": "[encoded data removed]",
      "text/plain": [
       "<Figure size 800x550 with 1 Axes>"
      ]
     },
     "metadata": {},
     "output_type": "display_data"
    }
   ],
   "source": [
    "cm = ConfusionMatrix(neural_network_ros)\n",
    "cm.fit(X_census_training_set_ros, y_census_training_set_ros)\n",
    "cm.score(X_census_test_set_ros, y_census_test_set_ros)"
   ]
  },
  {
   "cell_type": "markdown",
   "metadata": {},
   "source": [
    "### 📌 **Árvore de Decisão: conjunto com balanceamento do tipo 'SMOTE'**"
   ]
  },
  {
   "cell_type": "code",
   "execution_count": 22,
   "metadata": {},
   "outputs": [],
   "source": [
    "with open('../sample_data/census_smote.pkl', 'rb') as f_smote:\n",
    "    X_census_training_set_smote, y_census_training_set_smote, X_census_test_set_smote, y_census_test_set_smote, df_transformed, one_hot_encoder_census = pk.load(f_smote)"
   ]
  },
  {
   "cell_type": "code",
   "execution_count": 23,
   "metadata": {},
   "outputs": [
    {
     "data": {
      "text/plain": [
       "((42090, 41), (42090,))"
      ]
     },
     "execution_count": 23,
     "metadata": {},
     "output_type": "execute_result"
    }
   ],
   "source": [
    "X_census_training_set_smote.shape, y_census_training_set_smote.shape"
   ]
  },
  {
   "cell_type": "code",
   "execution_count": 24,
   "metadata": {},
   "outputs": [
    {
     "data": {
      "text/plain": [
       "((4881, 41), (4881,))"
      ]
     },
     "execution_count": 24,
     "metadata": {},
     "output_type": "execute_result"
    }
   ],
   "source": [
    "X_census_test_set_smote.shape, y_census_test_set_smote.shape"
   ]
  },
  {
   "cell_type": "code",
   "execution_count": 25,
   "metadata": {},
   "outputs": [
    {
     "name": "stdout",
     "output_type": "stream",
     "text": [
      "Iteration 1, loss = 0.67068729\n",
      "Iteration 2, loss = 0.43846402\n",
      "Iteration 3, loss = 0.41566196\n",
      "Iteration 4, loss = 0.41067594\n",
      "Iteration 5, loss = 0.40737574\n",
      "Iteration 6, loss = 0.40423618\n",
      "Iteration 7, loss = 0.40427465\n",
      "Iteration 8, loss = 0.40508498\n",
      "Iteration 9, loss = 0.40214914\n",
      "Iteration 10, loss = 0.40271278\n",
      "Iteration 11, loss = 0.40191851\n",
      "Iteration 12, loss = 0.39957809\n",
      "Iteration 13, loss = 0.39946328\n",
      "Iteration 14, loss = 0.39929421\n",
      "Iteration 15, loss = 0.39850687\n",
      "Iteration 16, loss = 0.39866489\n",
      "Iteration 17, loss = 0.39604716\n",
      "Iteration 18, loss = 0.39529722\n",
      "Iteration 19, loss = 0.39551792\n",
      "Iteration 20, loss = 0.39475042\n",
      "Iteration 21, loss = 0.39348347\n",
      "Iteration 22, loss = 0.39347874\n",
      "Iteration 23, loss = 0.39184520\n",
      "Iteration 24, loss = 0.39383982\n",
      "Iteration 25, loss = 0.39225340\n",
      "Iteration 26, loss = 0.39028614\n",
      "Iteration 27, loss = 0.39092134\n",
      "Iteration 28, loss = 0.39122838\n",
      "Iteration 29, loss = 0.39000959\n",
      "Iteration 30, loss = 0.39090758\n",
      "Iteration 31, loss = 0.38947645\n",
      "Iteration 32, loss = 0.38970552\n",
      "Iteration 33, loss = 0.38909693\n",
      "Iteration 34, loss = 0.38861113\n",
      "Iteration 35, loss = 0.38791819\n",
      "Iteration 36, loss = 0.38786785\n",
      "Iteration 37, loss = 0.38896035\n",
      "Iteration 38, loss = 0.38767300\n",
      "Iteration 39, loss = 0.38659646\n",
      "Iteration 40, loss = 0.38646041\n",
      "Iteration 41, loss = 0.38500813\n",
      "Iteration 42, loss = 0.38508688\n",
      "Iteration 43, loss = 0.38575857\n",
      "Iteration 44, loss = 0.38493211\n",
      "Iteration 45, loss = 0.38579318\n",
      "Iteration 46, loss = 0.38421900\n",
      "Iteration 47, loss = 0.38396859\n",
      "Iteration 48, loss = 0.38304800\n",
      "Iteration 49, loss = 0.38293222\n",
      "Iteration 50, loss = 0.38238180\n",
      "Iteration 51, loss = 0.38291099\n",
      "Iteration 52, loss = 0.38196998\n",
      "Iteration 53, loss = 0.38148569\n",
      "Iteration 54, loss = 0.38206861\n",
      "Iteration 55, loss = 0.38099403\n",
      "Iteration 56, loss = 0.38150677\n",
      "Iteration 57, loss = 0.38058726\n",
      "Iteration 58, loss = 0.38040755\n",
      "Iteration 59, loss = 0.37994705\n",
      "Iteration 60, loss = 0.38166239\n",
      "Iteration 61, loss = 0.37917869\n",
      "Iteration 62, loss = 0.37953957\n",
      "Iteration 63, loss = 0.37853735\n",
      "Iteration 64, loss = 0.37863516\n",
      "Iteration 65, loss = 0.37895366\n",
      "Iteration 66, loss = 0.37745111\n",
      "Iteration 67, loss = 0.37840614\n",
      "Iteration 68, loss = 0.37782495\n",
      "Iteration 69, loss = 0.37742095\n",
      "Iteration 70, loss = 0.37712244\n",
      "Iteration 71, loss = 0.37794200\n",
      "Iteration 72, loss = 0.37613047\n",
      "Iteration 73, loss = 0.37639169\n",
      "Iteration 74, loss = 0.37568393\n",
      "Iteration 75, loss = 0.37561020\n",
      "Iteration 76, loss = 0.37570906\n",
      "Iteration 77, loss = 0.37560280\n",
      "Iteration 78, loss = 0.37611807\n",
      "Iteration 79, loss = 0.37529519\n",
      "Iteration 80, loss = 0.37401068\n",
      "Iteration 81, loss = 0.37516517\n",
      "Iteration 82, loss = 0.37490537\n",
      "Iteration 83, loss = 0.37421494\n",
      "Iteration 84, loss = 0.37387282\n",
      "Iteration 85, loss = 0.37415769\n",
      "Iteration 86, loss = 0.37287411\n",
      "Iteration 87, loss = 0.37366523\n",
      "Iteration 88, loss = 0.37327149\n",
      "Iteration 89, loss = 0.37182109\n",
      "Iteration 90, loss = 0.37282535\n",
      "Iteration 91, loss = 0.37281435\n",
      "Iteration 92, loss = 0.37343240\n",
      "Iteration 93, loss = 0.37248104\n",
      "Iteration 94, loss = 0.37122525\n",
      "Iteration 95, loss = 0.37035262\n",
      "Iteration 96, loss = 0.37024736\n",
      "Iteration 97, loss = 0.37135223\n",
      "Iteration 98, loss = 0.37170938\n",
      "Iteration 99, loss = 0.37111371\n",
      "Iteration 100, loss = 0.37071482\n",
      "Iteration 101, loss = 0.37101969\n",
      "Iteration 102, loss = 0.37184176\n",
      "Iteration 103, loss = 0.36994726\n",
      "Iteration 104, loss = 0.36998899\n",
      "Iteration 105, loss = 0.36870627\n",
      "Iteration 106, loss = 0.36961410\n",
      "Iteration 107, loss = 0.37004617\n",
      "Iteration 108, loss = 0.36988218\n",
      "Iteration 109, loss = 0.36878603\n",
      "Iteration 110, loss = 0.36894425\n",
      "Iteration 111, loss = 0.36859042\n",
      "Iteration 112, loss = 0.36992340\n",
      "Iteration 113, loss = 0.36837774\n",
      "Iteration 114, loss = 0.36906760\n",
      "Iteration 115, loss = 0.36766272\n",
      "Iteration 116, loss = 0.36847945\n",
      "Iteration 117, loss = 0.36710920\n",
      "Iteration 118, loss = 0.36635935\n",
      "Iteration 119, loss = 0.36778082\n",
      "Iteration 120, loss = 0.36737484\n",
      "Iteration 121, loss = 0.36769307\n",
      "Iteration 122, loss = 0.36908767\n",
      "Iteration 123, loss = 0.36706738\n",
      "Iteration 124, loss = 0.36763471\n",
      "Iteration 125, loss = 0.36687721\n",
      "Iteration 126, loss = 0.36557645\n",
      "Iteration 127, loss = 0.36714825\n",
      "Iteration 128, loss = 0.36597185\n",
      "Iteration 129, loss = 0.36729820\n",
      "Iteration 130, loss = 0.36703751\n",
      "Iteration 131, loss = 0.36505985\n",
      "Iteration 132, loss = 0.36535560\n",
      "Iteration 133, loss = 0.36573242\n",
      "Iteration 134, loss = 0.36553454\n",
      "Iteration 135, loss = 0.36587334\n",
      "Iteration 136, loss = 0.36640738\n",
      "Iteration 137, loss = 0.36472551\n",
      "Iteration 138, loss = 0.36464597\n",
      "Iteration 139, loss = 0.36452397\n",
      "Iteration 140, loss = 0.36519657\n",
      "Iteration 141, loss = 0.36422658\n",
      "Iteration 142, loss = 0.36432180\n",
      "Iteration 143, loss = 0.36501373\n",
      "Iteration 144, loss = 0.36416980\n",
      "Iteration 145, loss = 0.36377983\n",
      "Iteration 146, loss = 0.36342088\n",
      "Iteration 147, loss = 0.36488446\n",
      "Iteration 148, loss = 0.36383898\n",
      "Iteration 149, loss = 0.36305233\n",
      "Iteration 150, loss = 0.36370130\n",
      "Iteration 151, loss = 0.36425582\n",
      "Iteration 152, loss = 0.36298908\n",
      "Iteration 153, loss = 0.36372457\n",
      "Iteration 154, loss = 0.36276076\n",
      "Iteration 155, loss = 0.36281752\n",
      "Iteration 156, loss = 0.36390315\n",
      "Iteration 157, loss = 0.36377339\n",
      "Iteration 158, loss = 0.36273613\n",
      "Iteration 159, loss = 0.36297500\n",
      "Iteration 160, loss = 0.36230952\n",
      "Iteration 161, loss = 0.36261268\n",
      "Iteration 162, loss = 0.36223851\n",
      "Iteration 163, loss = 0.36265435\n",
      "Iteration 164, loss = 0.36258839\n",
      "Iteration 165, loss = 0.36190752\n",
      "Iteration 166, loss = 0.36058680\n",
      "Iteration 167, loss = 0.36259261\n",
      "Iteration 168, loss = 0.36197879\n",
      "Iteration 169, loss = 0.36105757\n",
      "Iteration 170, loss = 0.36153309\n",
      "Iteration 171, loss = 0.36123568\n",
      "Iteration 172, loss = 0.36071688\n",
      "Iteration 173, loss = 0.36087786\n",
      "Iteration 174, loss = 0.36029131\n",
      "Iteration 175, loss = 0.36050468\n",
      "Iteration 176, loss = 0.36016861\n",
      "Iteration 177, loss = 0.36004480\n",
      "Iteration 178, loss = 0.36005195\n",
      "Iteration 179, loss = 0.35954619\n",
      "Iteration 180, loss = 0.35974588\n",
      "Iteration 181, loss = 0.35866472\n",
      "Iteration 182, loss = 0.36092723\n",
      "Iteration 183, loss = 0.35851564\n",
      "Iteration 184, loss = 0.35827163\n",
      "Iteration 185, loss = 0.36036121\n",
      "Iteration 186, loss = 0.35862431\n",
      "Iteration 187, loss = 0.35974368\n",
      "Iteration 188, loss = 0.35844973\n",
      "Iteration 189, loss = 0.35813708\n",
      "Iteration 190, loss = 0.35861766\n",
      "Iteration 191, loss = 0.35978659\n",
      "Iteration 192, loss = 0.35879100\n",
      "Iteration 193, loss = 0.35908025\n",
      "Iteration 194, loss = 0.35879217\n",
      "Iteration 195, loss = 0.35860911\n",
      "Iteration 196, loss = 0.35859043\n",
      "Iteration 197, loss = 0.35891453\n",
      "Iteration 198, loss = 0.35865676\n",
      "Iteration 199, loss = 0.35804928\n",
      "Iteration 200, loss = 0.35835395\n",
      "Iteration 201, loss = 0.35792015\n",
      "Iteration 202, loss = 0.35712986\n",
      "Iteration 203, loss = 0.35775929\n",
      "Iteration 204, loss = 0.35674626\n",
      "Iteration 205, loss = 0.35695627\n",
      "Iteration 206, loss = 0.35644027\n",
      "Iteration 207, loss = 0.35758577\n",
      "Iteration 208, loss = 0.35834308\n",
      "Iteration 209, loss = 0.35714660\n",
      "Iteration 210, loss = 0.35884155\n",
      "Iteration 211, loss = 0.35583814\n",
      "Iteration 212, loss = 0.35641839\n",
      "Iteration 213, loss = 0.35844927\n",
      "Iteration 214, loss = 0.35726291\n",
      "Iteration 215, loss = 0.35773899\n",
      "Iteration 216, loss = 0.35702744\n",
      "Iteration 217, loss = 0.35610045\n",
      "Iteration 218, loss = 0.35619234\n",
      "Iteration 219, loss = 0.35757988\n",
      "Iteration 220, loss = 0.35598224\n",
      "Iteration 221, loss = 0.35466667\n",
      "Iteration 222, loss = 0.35524038\n",
      "Iteration 223, loss = 0.35557651\n",
      "Iteration 224, loss = 0.35540181\n",
      "Iteration 225, loss = 0.35571538\n",
      "Iteration 226, loss = 0.35507804\n",
      "Iteration 227, loss = 0.35738287\n",
      "Iteration 228, loss = 0.35655417\n",
      "Iteration 229, loss = 0.35578620\n",
      "Iteration 230, loss = 0.35431052\n",
      "Iteration 231, loss = 0.35556203\n",
      "Iteration 232, loss = 0.35592450\n",
      "Iteration 233, loss = 0.35623083\n",
      "Iteration 234, loss = 0.35515875\n",
      "Iteration 235, loss = 0.35648900\n",
      "Iteration 236, loss = 0.35493940\n",
      "Iteration 237, loss = 0.35449077\n",
      "Iteration 238, loss = 0.35440057\n",
      "Iteration 239, loss = 0.35512530\n",
      "Iteration 240, loss = 0.35500269\n",
      "Iteration 241, loss = 0.35512047\n",
      "Training loss did not improve more than tol=0.000010 for 10 consecutive epochs. Stopping.\n"
     ]
    },
    {
     "data": {
      "text/html": [
       "<style>#sk-container-id-3 {color: black;}#sk-container-id-3 pre{padding: 0;}#sk-container-id-3 div.sk-toggleable {background-color: white;}#sk-container-id-3 label.sk-toggleable__label {cursor: pointer;display: block;width: 100%;margin-bottom: 0;padding: 0.3em;box-sizing: border-box;text-align: center;}#sk-container-id-3 label.sk-toggleable__label-arrow:before {content: \"▸\";float: left;margin-right: 0.25em;color: #696969;}#sk-container-id-3 label.sk-toggleable__label-arrow:hover:before {color: black;}#sk-container-id-3 div.sk-estimator:hover label.sk-toggleable__label-arrow:before {color: black;}#sk-container-id-3 div.sk-toggleable__content {max-height: 0;max-width: 0;overflow: hidden;text-align: left;background-color: #f0f8ff;}#sk-container-id-3 div.sk-toggleable__content pre {margin: 0.2em;color: black;border-radius: 0.25em;background-color: #f0f8ff;}#sk-container-id-3 input.sk-toggleable__control:checked~div.sk-toggleable__content {max-height: 200px;max-width: 100%;overflow: auto;}#sk-container-id-3 input.sk-toggleable__control:checked~label.sk-toggleable__label-arrow:before {content: \"▾\";}#sk-container-id-3 div.sk-estimator input.sk-toggleable__control:checked~label.sk-toggleable__label {background-color: #d4ebff;}#sk-container-id-3 div.sk-label input.sk-toggleable__control:checked~label.sk-toggleable__label {background-color: #d4ebff;}#sk-container-id-3 input.sk-hidden--visually {border: 0;clip: rect(1px 1px 1px 1px);clip: rect(1px, 1px, 1px, 1px);height: 1px;margin: -1px;overflow: hidden;padding: 0;position: absolute;width: 1px;}#sk-container-id-3 div.sk-estimator {font-family: monospace;background-color: #f0f8ff;border: 1px dotted black;border-radius: 0.25em;box-sizing: border-box;margin-bottom: 0.5em;}#sk-container-id-3 div.sk-estimator:hover {background-color: #d4ebff;}#sk-container-id-3 div.sk-parallel-item::after {content: \"\";width: 100%;border-bottom: 1px solid gray;flex-grow: 1;}#sk-container-id-3 div.sk-label:hover label.sk-toggleable__label {background-color: #d4ebff;}#sk-container-id-3 div.sk-serial::before {content: \"\";position: absolute;border-left: 1px solid gray;box-sizing: border-box;top: 0;bottom: 0;left: 50%;z-index: 0;}#sk-container-id-3 div.sk-serial {display: flex;flex-direction: column;align-items: center;background-color: white;padding-right: 0.2em;padding-left: 0.2em;position: relative;}#sk-container-id-3 div.sk-item {position: relative;z-index: 1;}#sk-container-id-3 div.sk-parallel {display: flex;align-items: stretch;justify-content: center;background-color: white;position: relative;}#sk-container-id-3 div.sk-item::before, #sk-container-id-3 div.sk-parallel-item::before {content: \"\";position: absolute;border-left: 1px solid gray;box-sizing: border-box;top: 0;bottom: 0;left: 50%;z-index: -1;}#sk-container-id-3 div.sk-parallel-item {display: flex;flex-direction: column;z-index: 1;position: relative;background-color: white;}#sk-container-id-3 div.sk-parallel-item:first-child::after {align-self: flex-end;width: 50%;}#sk-container-id-3 div.sk-parallel-item:last-child::after {align-self: flex-start;width: 50%;}#sk-container-id-3 div.sk-parallel-item:only-child::after {width: 0;}#sk-container-id-3 div.sk-dashed-wrapped {border: 1px dashed gray;margin: 0 0.4em 0.5em 0.4em;box-sizing: border-box;padding-bottom: 0.4em;background-color: white;}#sk-container-id-3 div.sk-label label {font-family: monospace;font-weight: bold;display: inline-block;line-height: 1.2em;}#sk-container-id-3 div.sk-label-container {text-align: center;}#sk-container-id-3 div.sk-container {/* jupyter's `normalize.less` sets `[hidden] { display: none; }` but bootstrap.min.css set `[hidden] { display: none !important; }` so we also need the `!important` here to be able to override the default hidden behavior on the sphinx rendered scikit-learn.org. See: https://github.com/scikit-learn/scikit-learn/issues/21755 */display: inline-block !important;position: relative;}#sk-container-id-3 div.sk-text-repr-fallback {display: none;}</style><div id=\"sk-container-id-3\" class=\"sk-top-container\"><div class=\"sk-text-repr-fallback\"><pre>MLPClassifier(hidden_layer_sizes=(21, 21), max_iter=1000, tol=1e-05,\n",
       "              verbose=True)</pre><b>In a Jupyter environment, please rerun this cell to show the HTML representation or trust the notebook. <br />On GitHub, the HTML representation is unable to render, please try loading this page with nbviewer.org.</b></div><div class=\"sk-container\" hidden><div class=\"sk-item\"><div class=\"sk-estimator sk-toggleable\"><input class=\"sk-toggleable__control sk-hidden--visually\" id=\"sk-estimator-id-3\" type=\"checkbox\" checked><label for=\"sk-estimator-id-3\" class=\"sk-toggleable__label sk-toggleable__label-arrow\">MLPClassifier</label><div class=\"sk-toggleable__content\"><pre>MLPClassifier(hidden_layer_sizes=(21, 21), max_iter=1000, tol=1e-05,\n",
       "              verbose=True)</pre></div></div></div></div></div>"
      ],
      "text/plain": [
       "MLPClassifier(hidden_layer_sizes=(21, 21), max_iter=1000, tol=1e-05,\n",
       "              verbose=True)"
      ]
     },
     "execution_count": 25,
     "metadata": {},
     "output_type": "execute_result"
    }
   ],
   "source": [
    "neural_network_smote = MLPClassifier(verbose = True, max_iter = 1000, tol = 0.000010, hidden_layer_sizes = (21,21))\n",
    "neural_network_smote.fit(X_census_training_set_smote, y_census_training_set_smote)"
   ]
  },
  {
   "cell_type": "code",
   "execution_count": 26,
   "metadata": {},
   "outputs": [
    {
     "data": {
      "text/plain": [
       "array([' >50K', ' <=50K', ' >50K', ..., ' <=50K', ' <=50K', ' >50K'],\n",
       "      dtype='<U6')"
      ]
     },
     "execution_count": 26,
     "metadata": {},
     "output_type": "execute_result"
    }
   ],
   "source": [
    "predictor_smote = neural_network_smote.predict(X_census_test_set_smote)\n",
    "predictor_smote"
   ]
  },
  {
   "cell_type": "code",
   "execution_count": 27,
   "metadata": {},
   "outputs": [
    {
     "data": {
      "text/plain": [
       "array([' >50K', ' <=50K', ' >50K', ..., ' <=50K', ' <=50K', ' <=50K'],\n",
       "      dtype=object)"
      ]
     },
     "execution_count": 27,
     "metadata": {},
     "output_type": "execute_result"
    }
   ],
   "source": [
    "y_census_test_set_smote"
   ]
  },
  {
   "cell_type": "markdown",
   "metadata": {},
   "source": [
    "##### ↬ **Estatísticas de Classificação e Matriz de Confusão**"
   ]
  },
  {
   "cell_type": "code",
   "execution_count": 28,
   "metadata": {},
   "outputs": [
    {
     "data": {
      "text/plain": [
       "0.7893874206105306"
      ]
     },
     "execution_count": 28,
     "metadata": {},
     "output_type": "execute_result"
    }
   ],
   "source": [
    "accuracy_score(y_census_test_set_smote, predictor_smote)"
   ]
  },
  {
   "cell_type": "code",
   "execution_count": 29,
   "metadata": {},
   "outputs": [
    {
     "name": "stdout",
     "output_type": "stream",
     "text": [
      "              precision    recall  f1-score   support\n",
      "\n",
      "       <=50K       0.93      0.77      0.85      3653\n",
      "        >50K       0.55      0.83      0.67      1228\n",
      "\n",
      "    accuracy                           0.79      4881\n",
      "   macro avg       0.74      0.80      0.76      4881\n",
      "weighted avg       0.84      0.79      0.80      4881\n",
      "\n"
     ]
    }
   ],
   "source": [
    "print(classification_report(y_census_test_set_smote, predictor_smote))"
   ]
  },
  {
   "cell_type": "code",
   "execution_count": 30,
   "metadata": {},
   "outputs": [
    {
     "data": {
      "text/plain": [
       "0.7893874206105306"
      ]
     },
     "execution_count": 30,
     "metadata": {},
     "output_type": "execute_result"
    },
    {
     "data": {
      "image/png": "[encoded data removed]",
      "text/plain": [
       "<Figure size 800x550 with 1 Axes>"
      ]
     },
     "metadata": {},
     "output_type": "display_data"
    }
   ],
   "source": [
    "cm = ConfusionMatrix(neural_network_smote)\n",
    "cm.fit(X_census_training_set_smote, y_census_training_set_smote)\n",
    "cm.score(X_census_test_set_smote, y_census_test_set_smote)"
   ]
  },
  {
   "cell_type": "markdown",
   "metadata": {},
   "source": [
    "### 📌 **Árvore de Decisão: conjunto com balanceamento do tipo 'Random Under Sampling'**"
   ]
  },
  {
   "cell_type": "code",
   "execution_count": 31,
   "metadata": {},
   "outputs": [],
   "source": [
    "with open('../sample_data/census_rus.pkl', 'rb') as f_rus:\n",
    "    X_census_training_set_rus, y_census_training_set_rus, X_census_test_set_rus, y_census_test_set_rus, df_transformed, one_hot_encoder_census = pk.load(f_rus)"
   ]
  },
  {
   "cell_type": "code",
   "execution_count": 32,
   "metadata": {},
   "outputs": [
    {
     "data": {
      "text/plain": [
       "((13222, 41), (13222,))"
      ]
     },
     "execution_count": 32,
     "metadata": {},
     "output_type": "execute_result"
    }
   ],
   "source": [
    "X_census_training_set_rus.shape, y_census_training_set_rus.shape"
   ]
  },
  {
   "cell_type": "code",
   "execution_count": 33,
   "metadata": {},
   "outputs": [
    {
     "data": {
      "text/plain": [
       "((4881, 41), (4881,))"
      ]
     },
     "execution_count": 33,
     "metadata": {},
     "output_type": "execute_result"
    }
   ],
   "source": [
    "X_census_test_set_rus.shape, y_census_test_set_rus.shape"
   ]
  },
  {
   "cell_type": "code",
   "execution_count": 34,
   "metadata": {},
   "outputs": [
    {
     "name": "stdout",
     "output_type": "stream",
     "text": [
      "Iteration 1, loss = 1.58575594\n",
      "Iteration 2, loss = 0.61208495\n",
      "Iteration 3, loss = 0.55550464\n",
      "Iteration 4, loss = 0.49773675\n",
      "Iteration 5, loss = 0.46040552\n",
      "Iteration 6, loss = 0.44549867\n",
      "Iteration 7, loss = 0.44297020\n",
      "Iteration 8, loss = 0.43538984\n",
      "Iteration 9, loss = 0.43369045\n",
      "Iteration 10, loss = 0.43063769\n",
      "Iteration 11, loss = 0.43042158\n",
      "Iteration 12, loss = 0.42898329\n",
      "Iteration 13, loss = 0.42852211\n",
      "Iteration 14, loss = 0.42878012\n",
      "Iteration 15, loss = 0.42689961\n",
      "Iteration 16, loss = 0.42616577\n",
      "Iteration 17, loss = 0.42662855\n",
      "Iteration 18, loss = 0.42421031\n",
      "Iteration 19, loss = 0.42403527\n",
      "Iteration 20, loss = 0.42316413\n",
      "Iteration 21, loss = 0.42311016\n",
      "Iteration 22, loss = 0.42253971\n",
      "Iteration 23, loss = 0.42450775\n",
      "Iteration 24, loss = 0.42360653\n",
      "Iteration 25, loss = 0.42134703\n",
      "Iteration 26, loss = 0.42468755\n",
      "Iteration 27, loss = 0.42116709\n",
      "Iteration 28, loss = 0.42076205\n",
      "Iteration 29, loss = 0.42035045\n",
      "Iteration 30, loss = 0.42141634\n",
      "Iteration 31, loss = 0.42212963\n",
      "Iteration 32, loss = 0.42143667\n",
      "Iteration 33, loss = 0.42143659\n",
      "Iteration 34, loss = 0.42267956\n",
      "Iteration 35, loss = 0.42150230\n",
      "Iteration 36, loss = 0.42209586\n",
      "Iteration 37, loss = 0.41982414\n",
      "Iteration 38, loss = 0.41973648\n",
      "Iteration 39, loss = 0.41923119\n",
      "Iteration 40, loss = 0.41869286\n",
      "Iteration 41, loss = 0.41955534\n",
      "Iteration 42, loss = 0.42116362\n",
      "Iteration 43, loss = 0.41869431\n",
      "Iteration 44, loss = 0.41798476\n",
      "Iteration 45, loss = 0.41891947\n",
      "Iteration 46, loss = 0.41856117\n",
      "Iteration 47, loss = 0.41754582\n",
      "Iteration 48, loss = 0.42225839\n",
      "Iteration 49, loss = 0.41837276\n",
      "Iteration 50, loss = 0.41737510\n",
      "Iteration 51, loss = 0.41629768\n",
      "Iteration 52, loss = 0.41946387\n",
      "Iteration 53, loss = 0.41931288\n",
      "Iteration 54, loss = 0.41831180\n",
      "Iteration 55, loss = 0.41633049\n",
      "Iteration 56, loss = 0.42173200\n",
      "Iteration 57, loss = 0.41603576\n",
      "Iteration 58, loss = 0.41772497\n",
      "Iteration 59, loss = 0.41459508\n",
      "Iteration 60, loss = 0.41455565\n",
      "Iteration 61, loss = 0.41646006\n",
      "Iteration 62, loss = 0.41466907\n",
      "Iteration 63, loss = 0.41809776\n",
      "Iteration 64, loss = 0.41496128\n",
      "Iteration 65, loss = 0.41486646\n",
      "Iteration 66, loss = 0.41320560\n",
      "Iteration 67, loss = 0.41654689\n",
      "Iteration 68, loss = 0.41418945\n",
      "Iteration 69, loss = 0.41610012\n",
      "Iteration 70, loss = 0.41340962\n",
      "Iteration 71, loss = 0.41294704\n",
      "Iteration 72, loss = 0.41235336\n",
      "Iteration 73, loss = 0.41321738\n",
      "Iteration 74, loss = 0.41302995\n",
      "Iteration 75, loss = 0.41224620\n",
      "Iteration 76, loss = 0.41614813\n",
      "Iteration 77, loss = 0.41334370\n",
      "Iteration 78, loss = 0.41168177\n",
      "Iteration 79, loss = 0.41340952\n",
      "Iteration 80, loss = 0.41109831\n",
      "Iteration 81, loss = 0.41072170\n",
      "Iteration 82, loss = 0.41300930\n",
      "Iteration 83, loss = 0.41204562\n",
      "Iteration 84, loss = 0.40927760\n",
      "Iteration 85, loss = 0.41034507\n",
      "Iteration 86, loss = 0.40948442\n",
      "Iteration 87, loss = 0.40987799\n",
      "Iteration 88, loss = 0.41087124\n",
      "Iteration 89, loss = 0.41165526\n",
      "Iteration 90, loss = 0.41009289\n",
      "Iteration 91, loss = 0.40895127\n",
      "Iteration 92, loss = 0.41132632\n",
      "Iteration 93, loss = 0.40914426\n",
      "Iteration 94, loss = 0.40871116\n",
      "Iteration 95, loss = 0.40874565\n",
      "Iteration 96, loss = 0.40843574\n",
      "Iteration 97, loss = 0.40879764\n",
      "Iteration 98, loss = 0.40758982\n",
      "Iteration 99, loss = 0.40863770\n",
      "Iteration 100, loss = 0.40982769\n",
      "Iteration 101, loss = 0.40749893\n",
      "Iteration 102, loss = 0.40847256\n",
      "Iteration 103, loss = 0.40993515\n",
      "Iteration 104, loss = 0.40661158\n",
      "Iteration 105, loss = 0.40811539\n",
      "Iteration 106, loss = 0.40756218\n",
      "Iteration 107, loss = 0.40702232\n",
      "Iteration 108, loss = 0.40709550\n",
      "Iteration 109, loss = 0.40860478\n",
      "Iteration 110, loss = 0.40802629\n",
      "Iteration 111, loss = 0.40663599\n",
      "Iteration 112, loss = 0.40675699\n",
      "Iteration 113, loss = 0.40733200\n",
      "Iteration 114, loss = 0.40757262\n",
      "Iteration 115, loss = 0.40803760\n",
      "Training loss did not improve more than tol=0.000010 for 10 consecutive epochs. Stopping.\n"
     ]
    },
    {
     "data": {
      "text/html": [
       "<style>#sk-container-id-4 {color: black;}#sk-container-id-4 pre{padding: 0;}#sk-container-id-4 div.sk-toggleable {background-color: white;}#sk-container-id-4 label.sk-toggleable__label {cursor: pointer;display: block;width: 100%;margin-bottom: 0;padding: 0.3em;box-sizing: border-box;text-align: center;}#sk-container-id-4 label.sk-toggleable__label-arrow:before {content: \"▸\";float: left;margin-right: 0.25em;color: #696969;}#sk-container-id-4 label.sk-toggleable__label-arrow:hover:before {color: black;}#sk-container-id-4 div.sk-estimator:hover label.sk-toggleable__label-arrow:before {color: black;}#sk-container-id-4 div.sk-toggleable__content {max-height: 0;max-width: 0;overflow: hidden;text-align: left;background-color: #f0f8ff;}#sk-container-id-4 div.sk-toggleable__content pre {margin: 0.2em;color: black;border-radius: 0.25em;background-color: #f0f8ff;}#sk-container-id-4 input.sk-toggleable__control:checked~div.sk-toggleable__content {max-height: 200px;max-width: 100%;overflow: auto;}#sk-container-id-4 input.sk-toggleable__control:checked~label.sk-toggleable__label-arrow:before {content: \"▾\";}#sk-container-id-4 div.sk-estimator input.sk-toggleable__control:checked~label.sk-toggleable__label {background-color: #d4ebff;}#sk-container-id-4 div.sk-label input.sk-toggleable__control:checked~label.sk-toggleable__label {background-color: #d4ebff;}#sk-container-id-4 input.sk-hidden--visually {border: 0;clip: rect(1px 1px 1px 1px);clip: rect(1px, 1px, 1px, 1px);height: 1px;margin: -1px;overflow: hidden;padding: 0;position: absolute;width: 1px;}#sk-container-id-4 div.sk-estimator {font-family: monospace;background-color: #f0f8ff;border: 1px dotted black;border-radius: 0.25em;box-sizing: border-box;margin-bottom: 0.5em;}#sk-container-id-4 div.sk-estimator:hover {background-color: #d4ebff;}#sk-container-id-4 div.sk-parallel-item::after {content: \"\";width: 100%;border-bottom: 1px solid gray;flex-grow: 1;}#sk-container-id-4 div.sk-label:hover label.sk-toggleable__label {background-color: #d4ebff;}#sk-container-id-4 div.sk-serial::before {content: \"\";position: absolute;border-left: 1px solid gray;box-sizing: border-box;top: 0;bottom: 0;left: 50%;z-index: 0;}#sk-container-id-4 div.sk-serial {display: flex;flex-direction: column;align-items: center;background-color: white;padding-right: 0.2em;padding-left: 0.2em;position: relative;}#sk-container-id-4 div.sk-item {position: relative;z-index: 1;}#sk-container-id-4 div.sk-parallel {display: flex;align-items: stretch;justify-content: center;background-color: white;position: relative;}#sk-container-id-4 div.sk-item::before, #sk-container-id-4 div.sk-parallel-item::before {content: \"\";position: absolute;border-left: 1px solid gray;box-sizing: border-box;top: 0;bottom: 0;left: 50%;z-index: -1;}#sk-container-id-4 div.sk-parallel-item {display: flex;flex-direction: column;z-index: 1;position: relative;background-color: white;}#sk-container-id-4 div.sk-parallel-item:first-child::after {align-self: flex-end;width: 50%;}#sk-container-id-4 div.sk-parallel-item:last-child::after {align-self: flex-start;width: 50%;}#sk-container-id-4 div.sk-parallel-item:only-child::after {width: 0;}#sk-container-id-4 div.sk-dashed-wrapped {border: 1px dashed gray;margin: 0 0.4em 0.5em 0.4em;box-sizing: border-box;padding-bottom: 0.4em;background-color: white;}#sk-container-id-4 div.sk-label label {font-family: monospace;font-weight: bold;display: inline-block;line-height: 1.2em;}#sk-container-id-4 div.sk-label-container {text-align: center;}#sk-container-id-4 div.sk-container {/* jupyter's `normalize.less` sets `[hidden] { display: none; }` but bootstrap.min.css set `[hidden] { display: none !important; }` so we also need the `!important` here to be able to override the default hidden behavior on the sphinx rendered scikit-learn.org. See: https://github.com/scikit-learn/scikit-learn/issues/21755 */display: inline-block !important;position: relative;}#sk-container-id-4 div.sk-text-repr-fallback {display: none;}</style><div id=\"sk-container-id-4\" class=\"sk-top-container\"><div class=\"sk-text-repr-fallback\"><pre>MLPClassifier(hidden_layer_sizes=(21, 21), max_iter=1000, tol=1e-05,\n",
       "              verbose=True)</pre><b>In a Jupyter environment, please rerun this cell to show the HTML representation or trust the notebook. <br />On GitHub, the HTML representation is unable to render, please try loading this page with nbviewer.org.</b></div><div class=\"sk-container\" hidden><div class=\"sk-item\"><div class=\"sk-estimator sk-toggleable\"><input class=\"sk-toggleable__control sk-hidden--visually\" id=\"sk-estimator-id-4\" type=\"checkbox\" checked><label for=\"sk-estimator-id-4\" class=\"sk-toggleable__label sk-toggleable__label-arrow\">MLPClassifier</label><div class=\"sk-toggleable__content\"><pre>MLPClassifier(hidden_layer_sizes=(21, 21), max_iter=1000, tol=1e-05,\n",
       "              verbose=True)</pre></div></div></div></div></div>"
      ],
      "text/plain": [
       "MLPClassifier(hidden_layer_sizes=(21, 21), max_iter=1000, tol=1e-05,\n",
       "              verbose=True)"
      ]
     },
     "execution_count": 34,
     "metadata": {},
     "output_type": "execute_result"
    }
   ],
   "source": [
    "neural_network_rus = MLPClassifier(verbose = True, max_iter = 1000, tol = 0.000010, hidden_layer_sizes = (21,21))\n",
    "neural_network_rus.fit(X_census_training_set_rus, y_census_training_set_rus)"
   ]
  },
  {
   "cell_type": "code",
   "execution_count": 35,
   "metadata": {},
   "outputs": [
    {
     "data": {
      "text/plain": [
       "array([' >50K', ' <=50K', ' >50K', ..., ' <=50K', ' <=50K', ' >50K'],\n",
       "      dtype='<U6')"
      ]
     },
     "execution_count": 35,
     "metadata": {},
     "output_type": "execute_result"
    }
   ],
   "source": [
    "predictor_rus = neural_network_rus.predict(X_census_test_set_rus)\n",
    "predictor_rus"
   ]
  },
  {
   "cell_type": "code",
   "execution_count": 36,
   "metadata": {},
   "outputs": [
    {
     "data": {
      "text/plain": [
       "array([' >50K', ' <=50K', ' >50K', ..., ' <=50K', ' <=50K', ' <=50K'],\n",
       "      dtype=object)"
      ]
     },
     "execution_count": 36,
     "metadata": {},
     "output_type": "execute_result"
    }
   ],
   "source": [
    "y_census_test_set_rus"
   ]
  },
  {
   "cell_type": "markdown",
   "metadata": {},
   "source": [
    "##### ↬ **Estatísticas de Classificação e Matriz de Confusão**"
   ]
  },
  {
   "cell_type": "code",
   "execution_count": 37,
   "metadata": {},
   "outputs": [
    {
     "data": {
      "text/plain": [
       "0.7912313050604385"
      ]
     },
     "execution_count": 37,
     "metadata": {},
     "output_type": "execute_result"
    }
   ],
   "source": [
    "accuracy_score(y_census_test_set_rus, predictor_rus)"
   ]
  },
  {
   "cell_type": "code",
   "execution_count": 38,
   "metadata": {},
   "outputs": [
    {
     "name": "stdout",
     "output_type": "stream",
     "text": [
      "              precision    recall  f1-score   support\n",
      "\n",
      "       <=50K       0.93      0.78      0.85      3653\n",
      "        >50K       0.56      0.83      0.67      1228\n",
      "\n",
      "    accuracy                           0.79      4881\n",
      "   macro avg       0.74      0.80      0.76      4881\n",
      "weighted avg       0.84      0.79      0.80      4881\n",
      "\n"
     ]
    }
   ],
   "source": [
    "print(classification_report(y_census_test_set_rus, predictor_rus))"
   ]
  },
  {
   "cell_type": "code",
   "execution_count": 39,
   "metadata": {},
   "outputs": [
    {
     "data": {
      "text/plain": [
       "0.7912313050604385"
      ]
     },
     "execution_count": 39,
     "metadata": {},
     "output_type": "execute_result"
    },
    {
     "data": {
      "image/png": "[encoded data removed]",
      "text/plain": [
       "<Figure size 800x550 with 1 Axes>"
      ]
     },
     "metadata": {},
     "output_type": "display_data"
    }
   ],
   "source": [
    "cm = ConfusionMatrix(neural_network_rus)\n",
    "cm.fit(X_census_training_set_rus, y_census_training_set_rus)\n",
    "cm.score(X_census_test_set_rus, y_census_test_set_rus)"
   ]
  },
  {
   "cell_type": "markdown",
   "metadata": {},
   "source": [
    "### 📌 **Árvore de Decisão: conjunto com balanceamento do tipo 'NearMiss'**"
   ]
  },
  {
   "cell_type": "code",
   "execution_count": 40,
   "metadata": {},
   "outputs": [],
   "source": [
    "with open('../sample_data/census_nearmiss.pkl', 'rb') as f_nearmiss:\n",
    "    X_census_training_set_nearmiss, y_census_training_set_nearmiss, X_census_test_set_nearmiss, y_census_test_set_nearmiss, df_transformed, one_hot_encoder_census = pk.load(f_nearmiss)"
   ]
  },
  {
   "cell_type": "code",
   "execution_count": 41,
   "metadata": {},
   "outputs": [
    {
     "data": {
      "text/plain": [
       "((13222, 41), (13222,))"
      ]
     },
     "execution_count": 41,
     "metadata": {},
     "output_type": "execute_result"
    }
   ],
   "source": [
    "X_census_training_set_nearmiss.shape, y_census_training_set_nearmiss.shape"
   ]
  },
  {
   "cell_type": "code",
   "execution_count": 42,
   "metadata": {},
   "outputs": [
    {
     "data": {
      "text/plain": [
       "((4881, 41), (4881,))"
      ]
     },
     "execution_count": 42,
     "metadata": {},
     "output_type": "execute_result"
    }
   ],
   "source": [
    "X_census_test_set_nearmiss.shape, y_census_test_set_nearmiss.shape"
   ]
  },
  {
   "cell_type": "code",
   "execution_count": 43,
   "metadata": {},
   "outputs": [
    {
     "name": "stdout",
     "output_type": "stream",
     "text": [
      "Iteration 1, loss = 0.74894499\n",
      "Iteration 2, loss = 0.64362337\n",
      "Iteration 3, loss = 0.62085823\n",
      "Iteration 4, loss = 0.60584292\n",
      "Iteration 5, loss = 0.59812481\n",
      "Iteration 6, loss = 0.59348644\n",
      "Iteration 7, loss = 0.58896999\n",
      "Iteration 8, loss = 0.58646327\n",
      "Iteration 9, loss = 0.58409631\n",
      "Iteration 10, loss = 0.58410917\n",
      "Iteration 11, loss = 0.58268945\n",
      "Iteration 12, loss = 0.58354818\n",
      "Iteration 13, loss = 0.58365502\n",
      "Iteration 14, loss = 0.58088456\n",
      "Iteration 15, loss = 0.58353769\n",
      "Iteration 16, loss = 0.58492672\n",
      "Iteration 17, loss = 0.57981981\n",
      "Iteration 18, loss = 0.57769493\n",
      "Iteration 19, loss = 0.57937319\n",
      "Iteration 20, loss = 0.57626261\n",
      "Iteration 21, loss = 0.57908568\n",
      "Iteration 22, loss = 0.57653048\n",
      "Iteration 23, loss = 0.57594420\n",
      "Iteration 24, loss = 0.57708351\n",
      "Iteration 25, loss = 0.57566812\n",
      "Iteration 26, loss = 0.57347521\n",
      "Iteration 27, loss = 0.57338677\n",
      "Iteration 28, loss = 0.57326558\n",
      "Iteration 29, loss = 0.57252959\n",
      "Iteration 30, loss = 0.57287958\n",
      "Iteration 31, loss = 0.57260689\n",
      "Iteration 32, loss = 0.57023505\n",
      "Iteration 33, loss = 0.56994136\n",
      "Iteration 34, loss = 0.57010874\n",
      "Iteration 35, loss = 0.56816458\n",
      "Iteration 36, loss = 0.57616908\n",
      "Iteration 37, loss = 0.56760673\n",
      "Iteration 38, loss = 0.56794156\n",
      "Iteration 39, loss = 0.56808461\n",
      "Iteration 40, loss = 0.56925062\n",
      "Iteration 41, loss = 0.56480187\n",
      "Iteration 42, loss = 0.56469722\n",
      "Iteration 43, loss = 0.56941010\n",
      "Iteration 44, loss = 0.56316506\n",
      "Iteration 45, loss = 0.56652821\n",
      "Iteration 46, loss = 0.56601572\n",
      "Iteration 47, loss = 0.56289806\n",
      "Iteration 48, loss = 0.56256894\n",
      "Iteration 49, loss = 0.56242280\n",
      "Iteration 50, loss = 0.56156422\n",
      "Iteration 51, loss = 0.56315097\n",
      "Iteration 52, loss = 0.56170448\n",
      "Iteration 53, loss = 0.55981349\n",
      "Iteration 54, loss = 0.56783846\n",
      "Iteration 55, loss = 0.56405663\n",
      "Iteration 56, loss = 0.55885667\n",
      "Iteration 57, loss = 0.55901600\n",
      "Iteration 58, loss = 0.56076347\n",
      "Iteration 59, loss = 0.55788591\n",
      "Iteration 60, loss = 0.56078540\n",
      "Iteration 61, loss = 0.55866705\n",
      "Iteration 62, loss = 0.56133156\n",
      "Iteration 63, loss = 0.55871239\n",
      "Iteration 64, loss = 0.56289137\n",
      "Iteration 65, loss = 0.56215339\n",
      "Iteration 66, loss = 0.55566299\n",
      "Iteration 67, loss = 0.55559614\n",
      "Iteration 68, loss = 0.55591459\n",
      "Iteration 69, loss = 0.55371307\n",
      "Iteration 70, loss = 0.55451525\n",
      "Iteration 71, loss = 0.55204673\n",
      "Iteration 72, loss = 0.55570145\n",
      "Iteration 73, loss = 0.55514498\n",
      "Iteration 74, loss = 0.55252937\n",
      "Iteration 75, loss = 0.55681705\n",
      "Iteration 76, loss = 0.55266638\n",
      "Iteration 77, loss = 0.55395626\n",
      "Iteration 78, loss = 0.55529402\n",
      "Iteration 79, loss = 0.55117806\n",
      "Iteration 80, loss = 0.55138379\n",
      "Iteration 81, loss = 0.55301528\n",
      "Iteration 82, loss = 0.54986054\n",
      "Iteration 83, loss = 0.55002511\n",
      "Iteration 84, loss = 0.55217711\n",
      "Iteration 85, loss = 0.54985308\n",
      "Iteration 86, loss = 0.55144062\n",
      "Iteration 87, loss = 0.55205903\n",
      "Iteration 88, loss = 0.55327033\n",
      "Iteration 89, loss = 0.55619143\n",
      "Iteration 90, loss = 0.55072688\n",
      "Iteration 91, loss = 0.55029058\n",
      "Iteration 92, loss = 0.54871839\n",
      "Iteration 93, loss = 0.55262793\n",
      "Iteration 94, loss = 0.54937419\n",
      "Iteration 95, loss = 0.54774056\n",
      "Iteration 96, loss = 0.54989387\n",
      "Iteration 97, loss = 0.54797076\n",
      "Iteration 98, loss = 0.54698403\n",
      "Iteration 99, loss = 0.54640262\n",
      "Iteration 100, loss = 0.54759620\n",
      "Iteration 101, loss = 0.55011301\n",
      "Iteration 102, loss = 0.55028840\n",
      "Iteration 103, loss = 0.54773291\n",
      "Iteration 104, loss = 0.54643173\n",
      "Iteration 105, loss = 0.54717897\n",
      "Iteration 106, loss = 0.54714390\n",
      "Iteration 107, loss = 0.54822034\n",
      "Iteration 108, loss = 0.54730168\n",
      "Iteration 109, loss = 0.54809565\n",
      "Iteration 110, loss = 0.54670680\n",
      "Training loss did not improve more than tol=0.000010 for 10 consecutive epochs. Stopping.\n"
     ]
    },
    {
     "data": {
      "text/html": [
       "<style>#sk-container-id-5 {color: black;}#sk-container-id-5 pre{padding: 0;}#sk-container-id-5 div.sk-toggleable {background-color: white;}#sk-container-id-5 label.sk-toggleable__label {cursor: pointer;display: block;width: 100%;margin-bottom: 0;padding: 0.3em;box-sizing: border-box;text-align: center;}#sk-container-id-5 label.sk-toggleable__label-arrow:before {content: \"▸\";float: left;margin-right: 0.25em;color: #696969;}#sk-container-id-5 label.sk-toggleable__label-arrow:hover:before {color: black;}#sk-container-id-5 div.sk-estimator:hover label.sk-toggleable__label-arrow:before {color: black;}#sk-container-id-5 div.sk-toggleable__content {max-height: 0;max-width: 0;overflow: hidden;text-align: left;background-color: #f0f8ff;}#sk-container-id-5 div.sk-toggleable__content pre {margin: 0.2em;color: black;border-radius: 0.25em;background-color: #f0f8ff;}#sk-container-id-5 input.sk-toggleable__control:checked~div.sk-toggleable__content {max-height: 200px;max-width: 100%;overflow: auto;}#sk-container-id-5 input.sk-toggleable__control:checked~label.sk-toggleable__label-arrow:before {content: \"▾\";}#sk-container-id-5 div.sk-estimator input.sk-toggleable__control:checked~label.sk-toggleable__label {background-color: #d4ebff;}#sk-container-id-5 div.sk-label input.sk-toggleable__control:checked~label.sk-toggleable__label {background-color: #d4ebff;}#sk-container-id-5 input.sk-hidden--visually {border: 0;clip: rect(1px 1px 1px 1px);clip: rect(1px, 1px, 1px, 1px);height: 1px;margin: -1px;overflow: hidden;padding: 0;position: absolute;width: 1px;}#sk-container-id-5 div.sk-estimator {font-family: monospace;background-color: #f0f8ff;border: 1px dotted black;border-radius: 0.25em;box-sizing: border-box;margin-bottom: 0.5em;}#sk-container-id-5 div.sk-estimator:hover {background-color: #d4ebff;}#sk-container-id-5 div.sk-parallel-item::after {content: \"\";width: 100%;border-bottom: 1px solid gray;flex-grow: 1;}#sk-container-id-5 div.sk-label:hover label.sk-toggleable__label {background-color: #d4ebff;}#sk-container-id-5 div.sk-serial::before {content: \"\";position: absolute;border-left: 1px solid gray;box-sizing: border-box;top: 0;bottom: 0;left: 50%;z-index: 0;}#sk-container-id-5 div.sk-serial {display: flex;flex-direction: column;align-items: center;background-color: white;padding-right: 0.2em;padding-left: 0.2em;position: relative;}#sk-container-id-5 div.sk-item {position: relative;z-index: 1;}#sk-container-id-5 div.sk-parallel {display: flex;align-items: stretch;justify-content: center;background-color: white;position: relative;}#sk-container-id-5 div.sk-item::before, #sk-container-id-5 div.sk-parallel-item::before {content: \"\";position: absolute;border-left: 1px solid gray;box-sizing: border-box;top: 0;bottom: 0;left: 50%;z-index: -1;}#sk-container-id-5 div.sk-parallel-item {display: flex;flex-direction: column;z-index: 1;position: relative;background-color: white;}#sk-container-id-5 div.sk-parallel-item:first-child::after {align-self: flex-end;width: 50%;}#sk-container-id-5 div.sk-parallel-item:last-child::after {align-self: flex-start;width: 50%;}#sk-container-id-5 div.sk-parallel-item:only-child::after {width: 0;}#sk-container-id-5 div.sk-dashed-wrapped {border: 1px dashed gray;margin: 0 0.4em 0.5em 0.4em;box-sizing: border-box;padding-bottom: 0.4em;background-color: white;}#sk-container-id-5 div.sk-label label {font-family: monospace;font-weight: bold;display: inline-block;line-height: 1.2em;}#sk-container-id-5 div.sk-label-container {text-align: center;}#sk-container-id-5 div.sk-container {/* jupyter's `normalize.less` sets `[hidden] { display: none; }` but bootstrap.min.css set `[hidden] { display: none !important; }` so we also need the `!important` here to be able to override the default hidden behavior on the sphinx rendered scikit-learn.org. See: https://github.com/scikit-learn/scikit-learn/issues/21755 */display: inline-block !important;position: relative;}#sk-container-id-5 div.sk-text-repr-fallback {display: none;}</style><div id=\"sk-container-id-5\" class=\"sk-top-container\"><div class=\"sk-text-repr-fallback\"><pre>MLPClassifier(hidden_layer_sizes=(21, 21), max_iter=1000, tol=1e-05,\n",
       "              verbose=True)</pre><b>In a Jupyter environment, please rerun this cell to show the HTML representation or trust the notebook. <br />On GitHub, the HTML representation is unable to render, please try loading this page with nbviewer.org.</b></div><div class=\"sk-container\" hidden><div class=\"sk-item\"><div class=\"sk-estimator sk-toggleable\"><input class=\"sk-toggleable__control sk-hidden--visually\" id=\"sk-estimator-id-5\" type=\"checkbox\" checked><label for=\"sk-estimator-id-5\" class=\"sk-toggleable__label sk-toggleable__label-arrow\">MLPClassifier</label><div class=\"sk-toggleable__content\"><pre>MLPClassifier(hidden_layer_sizes=(21, 21), max_iter=1000, tol=1e-05,\n",
       "              verbose=True)</pre></div></div></div></div></div>"
      ],
      "text/plain": [
       "MLPClassifier(hidden_layer_sizes=(21, 21), max_iter=1000, tol=1e-05,\n",
       "              verbose=True)"
      ]
     },
     "execution_count": 43,
     "metadata": {},
     "output_type": "execute_result"
    }
   ],
   "source": [
    "neural_network_nearmiss = MLPClassifier(verbose = True, max_iter = 1000, tol = 0.000010, hidden_layer_sizes = (21,21))\n",
    "neural_network_nearmiss.fit(X_census_training_set_nearmiss, y_census_training_set_nearmiss)"
   ]
  },
  {
   "cell_type": "code",
   "execution_count": 44,
   "metadata": {},
   "outputs": [
    {
     "data": {
      "text/plain": [
       "array([' >50K', ' <=50K', ' <=50K', ..., ' >50K', ' >50K', ' >50K'],\n",
       "      dtype='<U6')"
      ]
     },
     "execution_count": 44,
     "metadata": {},
     "output_type": "execute_result"
    }
   ],
   "source": [
    "predictor_nearmiss = neural_network_nearmiss.predict(X_census_test_set_nearmiss)\n",
    "predictor_nearmiss"
   ]
  },
  {
   "cell_type": "code",
   "execution_count": 45,
   "metadata": {},
   "outputs": [
    {
     "data": {
      "text/plain": [
       "array([' >50K', ' <=50K', ' >50K', ..., ' <=50K', ' <=50K', ' <=50K'],\n",
       "      dtype=object)"
      ]
     },
     "execution_count": 45,
     "metadata": {},
     "output_type": "execute_result"
    }
   ],
   "source": [
    "y_census_test_set"
   ]
  },
  {
   "cell_type": "markdown",
   "metadata": {},
   "source": [
    "##### ↬ **Estatísticas de Classificação e Matriz de Confusão**"
   ]
  },
  {
   "cell_type": "code",
   "execution_count": 46,
   "metadata": {},
   "outputs": [
    {
     "data": {
      "text/plain": [
       "0.6443351772177832"
      ]
     },
     "execution_count": 46,
     "metadata": {},
     "output_type": "execute_result"
    }
   ],
   "source": [
    "accuracy_score(y_census_test_set_nearmiss, predictor_nearmiss)"
   ]
  },
  {
   "cell_type": "code",
   "execution_count": 47,
   "metadata": {},
   "outputs": [
    {
     "name": "stdout",
     "output_type": "stream",
     "text": [
      "              precision    recall  f1-score   support\n",
      "\n",
      "       <=50K       0.87      0.62      0.72      3653\n",
      "        >50K       0.39      0.72      0.50      1228\n",
      "\n",
      "    accuracy                           0.64      4881\n",
      "   macro avg       0.63      0.67      0.61      4881\n",
      "weighted avg       0.75      0.64      0.67      4881\n",
      "\n"
     ]
    }
   ],
   "source": [
    "print(classification_report(y_census_test_set_nearmiss, predictor_nearmiss))"
   ]
  },
  {
   "cell_type": "code",
   "execution_count": 48,
   "metadata": {},
   "outputs": [
    {
     "data": {
      "text/plain": [
       "0.6443351772177832"
      ]
     },
     "execution_count": 48,
     "metadata": {},
     "output_type": "execute_result"
    },
    {
     "data": {
      "image/png": "[encoded data removed]",
      "text/plain": [
       "<Figure size 800x550 with 1 Axes>"
      ]
     },
     "metadata": {},
     "output_type": "display_data"
    }
   ],
   "source": [
    "cm = ConfusionMatrix(neural_network_nearmiss)\n",
    "cm.fit(X_census_training_set_nearmiss, y_census_training_set_nearmiss)\n",
    "cm.score(X_census_test_set_nearmiss, y_census_test_set_nearmiss)"
   ]
  }
 ],
 "metadata": {
  "kernelspec": {
   "display_name": "Python 3",
   "language": "python",
   "name": "python3"
  },
  "language_info": {
   "codemirror_mode": {
    "name": "ipython",
    "version": 3
   },
   "file_extension": ".py",
   "mimetype": "text/x-python",
   "name": "python",
   "nbconvert_exporter": "python",
   "pygments_lexer": "ipython3",
   "version": "3.11.6"
  }
 },
 "nbformat": 4,
 "nbformat_minor": 2
}
