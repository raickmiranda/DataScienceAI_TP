{
 "cells": [
  {
   "cell_type": "code",
   "execution_count": 1,
   "metadata": {},
   "outputs": [],
   "source": [
    "import pickle as pk\n",
    "import numpy as np\n",
    "import matplotlib.pyplot as plt\n",
    "\n",
    "from sklearn.neural_network import MLPClassifier"
   ]
  },
  {
   "cell_type": "code",
   "execution_count": 2,
   "metadata": {},
   "outputs": [],
   "source": [
    "# %pip install shap\n",
    "# %pip install tensorflow\n",
    "# %pip install --upgrade jupyter\n",
    "# %pip install --upgrade ipywidgets"
   ]
  },
  {
   "cell_type": "markdown",
   "metadata": {},
   "source": [
    "### 📌 **Redes Neurais: conjunto sem balanceamento**"
   ]
  },
  {
   "cell_type": "code",
   "execution_count": 3,
   "metadata": {},
   "outputs": [],
   "source": [
    "with open('../sample_data/census.pkl', 'rb') as f:\n",
    "    X_census_training_set, y_census_training_set, X_census_test_set, y_census_test_set, df_transformed, one_hot_encoder_census = pk.load(f)"
   ]
  },
  {
   "cell_type": "code",
   "execution_count": 4,
   "metadata": {},
   "outputs": [
    {
     "data": {
      "text/plain": [
       "((27656, 41), (27656,))"
      ]
     },
     "execution_count": 4,
     "metadata": {},
     "output_type": "execute_result"
    }
   ],
   "source": [
    "X_census_training_set.shape, y_census_training_set.shape"
   ]
  },
  {
   "cell_type": "code",
   "execution_count": 5,
   "metadata": {},
   "outputs": [
    {
     "data": {
      "text/plain": [
       "((4881, 41), (4881,))"
      ]
     },
     "execution_count": 5,
     "metadata": {},
     "output_type": "execute_result"
    }
   ],
   "source": [
    "X_census_test_set.shape, y_census_test_set.shape"
   ]
  },
  {
   "cell_type": "code",
   "execution_count": 6,
   "metadata": {},
   "outputs": [
    {
     "data": {
      "text/plain": [
       "21.0"
      ]
     },
     "execution_count": 6,
     "metadata": {},
     "output_type": "execute_result"
    }
   ],
   "source": [
    "(41 + 1) / 2"
   ]
  },
  {
   "cell_type": "code",
   "execution_count": 7,
   "metadata": {},
   "outputs": [
    {
     "name": "stdout",
     "output_type": "stream",
     "text": [
      "Iteration 1, loss = 0.47104240\n",
      "Iteration 2, loss = 0.38681825\n",
      "Iteration 3, loss = 0.37454916\n",
      "Iteration 4, loss = 0.36788736\n",
      "Iteration 5, loss = 0.36303741\n",
      "Iteration 6, loss = 0.35983569\n",
      "Iteration 7, loss = 0.35745798\n",
      "Iteration 8, loss = 0.35557521\n",
      "Iteration 9, loss = 0.35435447\n",
      "Iteration 10, loss = 0.35365491\n",
      "Iteration 11, loss = 0.35286959\n",
      "Iteration 12, loss = 0.35222405\n",
      "Iteration 13, loss = 0.35150400\n",
      "Iteration 14, loss = 0.35073240\n",
      "Iteration 15, loss = 0.35076913\n",
      "Iteration 16, loss = 0.35030778\n",
      "Iteration 17, loss = 0.34957196\n",
      "Iteration 18, loss = 0.34899046\n",
      "Iteration 19, loss = 0.34783541\n",
      "Iteration 20, loss = 0.34757244\n",
      "Iteration 21, loss = 0.34671625\n",
      "Iteration 22, loss = 0.34637332\n",
      "Iteration 23, loss = 0.34598580\n",
      "Iteration 24, loss = 0.34510707\n",
      "Iteration 25, loss = 0.34497674\n",
      "Iteration 26, loss = 0.34553204\n",
      "Iteration 27, loss = 0.34451746\n",
      "Iteration 28, loss = 0.34400923\n",
      "Iteration 29, loss = 0.34423008\n",
      "Iteration 30, loss = 0.34322608\n",
      "Iteration 31, loss = 0.34295688\n",
      "Iteration 32, loss = 0.34339449\n",
      "Iteration 33, loss = 0.34324111\n",
      "Iteration 34, loss = 0.34219701\n",
      "Iteration 35, loss = 0.34231548\n",
      "Iteration 36, loss = 0.34177829\n",
      "Iteration 37, loss = 0.34234805\n",
      "Iteration 38, loss = 0.34145543\n",
      "Iteration 39, loss = 0.34174097\n",
      "Iteration 40, loss = 0.34139778\n",
      "Iteration 41, loss = 0.34100680\n",
      "Iteration 42, loss = 0.34219932\n",
      "Iteration 43, loss = 0.34090636\n",
      "Iteration 44, loss = 0.34095001\n",
      "Iteration 45, loss = 0.34028683\n",
      "Iteration 46, loss = 0.34025570\n",
      "Iteration 47, loss = 0.34076716\n",
      "Iteration 48, loss = 0.34023795\n",
      "Iteration 49, loss = 0.33955346\n",
      "Iteration 50, loss = 0.34018970\n",
      "Iteration 51, loss = 0.33996514\n",
      "Iteration 52, loss = 0.33987967\n",
      "Iteration 53, loss = 0.33962923\n",
      "Iteration 54, loss = 0.33954257\n",
      "Iteration 55, loss = 0.33887058\n",
      "Iteration 56, loss = 0.33944643\n",
      "Iteration 57, loss = 0.33899844\n",
      "Iteration 58, loss = 0.33946822\n",
      "Iteration 59, loss = 0.33873934\n",
      "Iteration 60, loss = 0.33870771\n",
      "Iteration 61, loss = 0.33868730\n",
      "Iteration 62, loss = 0.33871078\n",
      "Iteration 63, loss = 0.33905597\n",
      "Iteration 64, loss = 0.33882125\n",
      "Iteration 65, loss = 0.33881848\n",
      "Iteration 66, loss = 0.33835564\n",
      "Iteration 67, loss = 0.33852604\n",
      "Iteration 68, loss = 0.33915297\n",
      "Iteration 69, loss = 0.33786459\n",
      "Iteration 70, loss = 0.33883051\n",
      "Iteration 71, loss = 0.33851613\n",
      "Iteration 72, loss = 0.33836072\n",
      "Iteration 73, loss = 0.33785642\n",
      "Iteration 74, loss = 0.33768611\n",
      "Iteration 75, loss = 0.33813564\n",
      "Iteration 76, loss = 0.33778239\n",
      "Iteration 77, loss = 0.33759667\n",
      "Iteration 78, loss = 0.33752237\n",
      "Iteration 79, loss = 0.33771000\n",
      "Iteration 80, loss = 0.33753442\n",
      "Iteration 81, loss = 0.33759016\n",
      "Iteration 82, loss = 0.33757280\n",
      "Iteration 83, loss = 0.33770204\n",
      "Iteration 84, loss = 0.33738086\n",
      "Iteration 85, loss = 0.33744188\n",
      "Iteration 86, loss = 0.33757943\n",
      "Iteration 87, loss = 0.33716255\n",
      "Iteration 88, loss = 0.33699691\n",
      "Iteration 89, loss = 0.33698294\n",
      "Iteration 90, loss = 0.33705860\n",
      "Iteration 91, loss = 0.33726383\n",
      "Iteration 92, loss = 0.33680678\n",
      "Iteration 93, loss = 0.33657803\n",
      "Iteration 94, loss = 0.33679950\n",
      "Iteration 95, loss = 0.33647856\n",
      "Iteration 96, loss = 0.33676794\n",
      "Iteration 97, loss = 0.33661819\n",
      "Iteration 98, loss = 0.33675969\n",
      "Iteration 99, loss = 0.33651091\n",
      "Iteration 100, loss = 0.33664973\n",
      "Iteration 101, loss = 0.33677581\n",
      "Iteration 102, loss = 0.33626972\n",
      "Iteration 103, loss = 0.33657007\n",
      "Iteration 104, loss = 0.33641173\n",
      "Iteration 105, loss = 0.33664305\n",
      "Iteration 106, loss = 0.33598277\n",
      "Iteration 107, loss = 0.33614280\n",
      "Iteration 108, loss = 0.33601938\n",
      "Iteration 109, loss = 0.33548442\n",
      "Iteration 110, loss = 0.33576254\n",
      "Iteration 111, loss = 0.33578420\n",
      "Iteration 112, loss = 0.33606635\n",
      "Iteration 113, loss = 0.33640071\n",
      "Iteration 114, loss = 0.33614129\n",
      "Iteration 115, loss = 0.33569998\n",
      "Iteration 116, loss = 0.33603404\n",
      "Iteration 117, loss = 0.33541619\n",
      "Iteration 118, loss = 0.33557504\n",
      "Iteration 119, loss = 0.33587979\n",
      "Iteration 120, loss = 0.33539398\n",
      "Iteration 121, loss = 0.33593513\n",
      "Iteration 122, loss = 0.33536734\n",
      "Iteration 123, loss = 0.33550374\n",
      "Iteration 124, loss = 0.33509631\n",
      "Iteration 125, loss = 0.33591567\n",
      "Iteration 126, loss = 0.33590886\n",
      "Iteration 127, loss = 0.33539292\n",
      "Iteration 128, loss = 0.33584462\n",
      "Iteration 129, loss = 0.33527129\n",
      "Iteration 130, loss = 0.33498212\n",
      "Iteration 131, loss = 0.33509412\n",
      "Iteration 132, loss = 0.33538828\n",
      "Iteration 133, loss = 0.33523321\n",
      "Iteration 134, loss = 0.33532093\n",
      "Iteration 135, loss = 0.33570052\n",
      "Iteration 136, loss = 0.33539387\n",
      "Iteration 137, loss = 0.33535721\n",
      "Iteration 138, loss = 0.33554777\n",
      "Iteration 139, loss = 0.33538265\n",
      "Iteration 140, loss = 0.33514212\n",
      "Iteration 141, loss = 0.33482940\n",
      "Iteration 142, loss = 0.33497003\n",
      "Iteration 143, loss = 0.33471246\n",
      "Iteration 144, loss = 0.33512173\n",
      "Iteration 145, loss = 0.33467918\n",
      "Iteration 146, loss = 0.33430980\n",
      "Iteration 147, loss = 0.33457263\n",
      "Iteration 148, loss = 0.33448332\n",
      "Iteration 149, loss = 0.33487396\n",
      "Iteration 150, loss = 0.33511335\n",
      "Iteration 151, loss = 0.33471785\n",
      "Iteration 152, loss = 0.33425625\n",
      "Iteration 153, loss = 0.33503163\n",
      "Iteration 154, loss = 0.33451945\n",
      "Iteration 155, loss = 0.33413470\n",
      "Iteration 156, loss = 0.33407115\n",
      "Iteration 157, loss = 0.33425598\n",
      "Iteration 158, loss = 0.33467547\n",
      "Iteration 159, loss = 0.33382858\n",
      "Iteration 160, loss = 0.33439720\n",
      "Iteration 161, loss = 0.33459455\n",
      "Iteration 162, loss = 0.33446695\n",
      "Iteration 163, loss = 0.33427440\n",
      "Iteration 164, loss = 0.33430033\n",
      "Iteration 165, loss = 0.33415217\n",
      "Iteration 166, loss = 0.33399972\n",
      "Iteration 167, loss = 0.33388185\n",
      "Iteration 168, loss = 0.33411639\n",
      "Iteration 169, loss = 0.33401305\n",
      "Iteration 170, loss = 0.33358473\n",
      "Iteration 171, loss = 0.33371367\n",
      "Iteration 172, loss = 0.33368547\n",
      "Iteration 173, loss = 0.33368896\n",
      "Iteration 174, loss = 0.33369851\n",
      "Iteration 175, loss = 0.33368769\n",
      "Iteration 176, loss = 0.33387390\n",
      "Iteration 177, loss = 0.33336993\n",
      "Iteration 178, loss = 0.33388010\n",
      "Iteration 179, loss = 0.33407509\n",
      "Iteration 180, loss = 0.33355629\n",
      "Iteration 181, loss = 0.33396313\n",
      "Iteration 182, loss = 0.33396528\n",
      "Iteration 183, loss = 0.33339361\n",
      "Iteration 184, loss = 0.33335157\n",
      "Iteration 185, loss = 0.33358382\n",
      "Iteration 186, loss = 0.33334804\n",
      "Iteration 187, loss = 0.33329942\n",
      "Iteration 188, loss = 0.33342987\n",
      "Iteration 189, loss = 0.33396589\n",
      "Iteration 190, loss = 0.33318971\n",
      "Iteration 191, loss = 0.33327884\n",
      "Iteration 192, loss = 0.33326814\n",
      "Iteration 193, loss = 0.33322733\n",
      "Iteration 194, loss = 0.33335283\n",
      "Iteration 195, loss = 0.33345792\n",
      "Iteration 196, loss = 0.33360077\n",
      "Iteration 197, loss = 0.33318479\n",
      "Iteration 198, loss = 0.33335998\n",
      "Iteration 199, loss = 0.33353292\n",
      "Iteration 200, loss = 0.33294335\n",
      "Iteration 201, loss = 0.33257101\n",
      "Iteration 202, loss = 0.33343550\n",
      "Iteration 203, loss = 0.33320457\n",
      "Iteration 204, loss = 0.33306142\n",
      "Iteration 205, loss = 0.33264440\n",
      "Iteration 206, loss = 0.33295897\n",
      "Iteration 207, loss = 0.33267395\n",
      "Iteration 208, loss = 0.33282123\n",
      "Iteration 209, loss = 0.33279822\n",
      "Iteration 210, loss = 0.33280958\n",
      "Iteration 211, loss = 0.33291197\n",
      "Iteration 212, loss = 0.33241482\n",
      "Iteration 213, loss = 0.33283920\n",
      "Iteration 214, loss = 0.33257785\n",
      "Iteration 215, loss = 0.33318393\n",
      "Iteration 216, loss = 0.33259476\n",
      "Iteration 217, loss = 0.33240987\n",
      "Iteration 218, loss = 0.33232141\n",
      "Iteration 219, loss = 0.33242234\n",
      "Iteration 220, loss = 0.33269463\n",
      "Iteration 221, loss = 0.33233036\n",
      "Iteration 222, loss = 0.33285432\n",
      "Iteration 223, loss = 0.33268886\n",
      "Iteration 224, loss = 0.33296877\n",
      "Iteration 225, loss = 0.33244020\n",
      "Iteration 226, loss = 0.33239146\n",
      "Iteration 227, loss = 0.33260006\n",
      "Iteration 228, loss = 0.33289899\n",
      "Iteration 229, loss = 0.33223090\n",
      "Iteration 230, loss = 0.33235832\n",
      "Iteration 231, loss = 0.33222206\n",
      "Iteration 232, loss = 0.33211865\n",
      "Iteration 233, loss = 0.33207517\n",
      "Iteration 234, loss = 0.33180608\n",
      "Iteration 235, loss = 0.33279249\n",
      "Iteration 236, loss = 0.33206760\n",
      "Iteration 237, loss = 0.33229312\n",
      "Iteration 238, loss = 0.33150354\n",
      "Iteration 239, loss = 0.33231348\n",
      "Iteration 240, loss = 0.33204796\n",
      "Iteration 241, loss = 0.33235417\n",
      "Iteration 242, loss = 0.33182074\n",
      "Iteration 243, loss = 0.33223120\n",
      "Iteration 244, loss = 0.33221683\n",
      "Iteration 245, loss = 0.33201163\n",
      "Iteration 246, loss = 0.33155946\n",
      "Iteration 247, loss = 0.33240033\n",
      "Iteration 248, loss = 0.33239537\n",
      "Iteration 249, loss = 0.33145759\n",
      "Iteration 250, loss = 0.33160518\n",
      "Iteration 251, loss = 0.33189834\n",
      "Iteration 252, loss = 0.33195581\n",
      "Iteration 253, loss = 0.33189934\n",
      "Iteration 254, loss = 0.33169267\n",
      "Iteration 255, loss = 0.33121750\n",
      "Iteration 256, loss = 0.33149792\n",
      "Iteration 257, loss = 0.33187999\n",
      "Iteration 258, loss = 0.33134768\n",
      "Iteration 259, loss = 0.33122792\n",
      "Iteration 260, loss = 0.33153627\n",
      "Iteration 261, loss = 0.33160383\n",
      "Iteration 262, loss = 0.33220997\n",
      "Iteration 263, loss = 0.33163884\n",
      "Iteration 264, loss = 0.33148942\n",
      "Iteration 265, loss = 0.33113136\n",
      "Iteration 266, loss = 0.33145248\n",
      "Iteration 267, loss = 0.33148107\n",
      "Iteration 268, loss = 0.33159351\n",
      "Iteration 269, loss = 0.33123275\n",
      "Iteration 270, loss = 0.33149943\n",
      "Iteration 271, loss = 0.33116430\n",
      "Iteration 272, loss = 0.33122924\n",
      "Iteration 273, loss = 0.33107537\n",
      "Iteration 274, loss = 0.33080287\n",
      "Iteration 275, loss = 0.33155453\n",
      "Iteration 276, loss = 0.33127734\n",
      "Iteration 277, loss = 0.33110538\n",
      "Iteration 278, loss = 0.33114014\n",
      "Iteration 279, loss = 0.33095415\n",
      "Iteration 280, loss = 0.33101662\n",
      "Iteration 281, loss = 0.33169377\n",
      "Iteration 282, loss = 0.33126220\n",
      "Iteration 283, loss = 0.33091656\n",
      "Iteration 284, loss = 0.33120022\n",
      "Iteration 285, loss = 0.33080267\n",
      "Training loss did not improve more than tol=0.000010 for 10 consecutive epochs. Stopping.\n"
     ]
    },
    {
     "data": {
      "text/html": [
       "<style>#sk-container-id-1 {color: black;}#sk-container-id-1 pre{padding: 0;}#sk-container-id-1 div.sk-toggleable {background-color: white;}#sk-container-id-1 label.sk-toggleable__label {cursor: pointer;display: block;width: 100%;margin-bottom: 0;padding: 0.3em;box-sizing: border-box;text-align: center;}#sk-container-id-1 label.sk-toggleable__label-arrow:before {content: \"▸\";float: left;margin-right: 0.25em;color: #696969;}#sk-container-id-1 label.sk-toggleable__label-arrow:hover:before {color: black;}#sk-container-id-1 div.sk-estimator:hover label.sk-toggleable__label-arrow:before {color: black;}#sk-container-id-1 div.sk-toggleable__content {max-height: 0;max-width: 0;overflow: hidden;text-align: left;background-color: #f0f8ff;}#sk-container-id-1 div.sk-toggleable__content pre {margin: 0.2em;color: black;border-radius: 0.25em;background-color: #f0f8ff;}#sk-container-id-1 input.sk-toggleable__control:checked~div.sk-toggleable__content {max-height: 200px;max-width: 100%;overflow: auto;}#sk-container-id-1 input.sk-toggleable__control:checked~label.sk-toggleable__label-arrow:before {content: \"▾\";}#sk-container-id-1 div.sk-estimator input.sk-toggleable__control:checked~label.sk-toggleable__label {background-color: #d4ebff;}#sk-container-id-1 div.sk-label input.sk-toggleable__control:checked~label.sk-toggleable__label {background-color: #d4ebff;}#sk-container-id-1 input.sk-hidden--visually {border: 0;clip: rect(1px 1px 1px 1px);clip: rect(1px, 1px, 1px, 1px);height: 1px;margin: -1px;overflow: hidden;padding: 0;position: absolute;width: 1px;}#sk-container-id-1 div.sk-estimator {font-family: monospace;background-color: #f0f8ff;border: 1px dotted black;border-radius: 0.25em;box-sizing: border-box;margin-bottom: 0.5em;}#sk-container-id-1 div.sk-estimator:hover {background-color: #d4ebff;}#sk-container-id-1 div.sk-parallel-item::after {content: \"\";width: 100%;border-bottom: 1px solid gray;flex-grow: 1;}#sk-container-id-1 div.sk-label:hover label.sk-toggleable__label {background-color: #d4ebff;}#sk-container-id-1 div.sk-serial::before {content: \"\";position: absolute;border-left: 1px solid gray;box-sizing: border-box;top: 0;bottom: 0;left: 50%;z-index: 0;}#sk-container-id-1 div.sk-serial {display: flex;flex-direction: column;align-items: center;background-color: white;padding-right: 0.2em;padding-left: 0.2em;position: relative;}#sk-container-id-1 div.sk-item {position: relative;z-index: 1;}#sk-container-id-1 div.sk-parallel {display: flex;align-items: stretch;justify-content: center;background-color: white;position: relative;}#sk-container-id-1 div.sk-item::before, #sk-container-id-1 div.sk-parallel-item::before {content: \"\";position: absolute;border-left: 1px solid gray;box-sizing: border-box;top: 0;bottom: 0;left: 50%;z-index: -1;}#sk-container-id-1 div.sk-parallel-item {display: flex;flex-direction: column;z-index: 1;position: relative;background-color: white;}#sk-container-id-1 div.sk-parallel-item:first-child::after {align-self: flex-end;width: 50%;}#sk-container-id-1 div.sk-parallel-item:last-child::after {align-self: flex-start;width: 50%;}#sk-container-id-1 div.sk-parallel-item:only-child::after {width: 0;}#sk-container-id-1 div.sk-dashed-wrapped {border: 1px dashed gray;margin: 0 0.4em 0.5em 0.4em;box-sizing: border-box;padding-bottom: 0.4em;background-color: white;}#sk-container-id-1 div.sk-label label {font-family: monospace;font-weight: bold;display: inline-block;line-height: 1.2em;}#sk-container-id-1 div.sk-label-container {text-align: center;}#sk-container-id-1 div.sk-container {/* jupyter's `normalize.less` sets `[hidden] { display: none; }` but bootstrap.min.css set `[hidden] { display: none !important; }` so we also need the `!important` here to be able to override the default hidden behavior on the sphinx rendered scikit-learn.org. See: https://github.com/scikit-learn/scikit-learn/issues/21755 */display: inline-block !important;position: relative;}#sk-container-id-1 div.sk-text-repr-fallback {display: none;}</style><div id=\"sk-container-id-1\" class=\"sk-top-container\"><div class=\"sk-text-repr-fallback\"><pre>MLPClassifier(hidden_layer_sizes=(14, 14, 14), max_iter=1000, tol=1e-05,\n",
       "              verbose=True)</pre><b>In a Jupyter environment, please rerun this cell to show the HTML representation or trust the notebook. <br />On GitHub, the HTML representation is unable to render, please try loading this page with nbviewer.org.</b></div><div class=\"sk-container\" hidden><div class=\"sk-item\"><div class=\"sk-estimator sk-toggleable\"><input class=\"sk-toggleable__control sk-hidden--visually\" id=\"sk-estimator-id-1\" type=\"checkbox\" checked><label for=\"sk-estimator-id-1\" class=\"sk-toggleable__label sk-toggleable__label-arrow\">MLPClassifier</label><div class=\"sk-toggleable__content\"><pre>MLPClassifier(hidden_layer_sizes=(14, 14, 14), max_iter=1000, tol=1e-05,\n",
       "              verbose=True)</pre></div></div></div></div></div>"
      ],
      "text/plain": [
       "MLPClassifier(hidden_layer_sizes=(14, 14, 14), max_iter=1000, tol=1e-05,\n",
       "              verbose=True)"
      ]
     },
     "execution_count": 7,
     "metadata": {},
     "output_type": "execute_result"
    }
   ],
   "source": [
    "neural_network = MLPClassifier(verbose = True, max_iter = 1000, tol = 0.000010, hidden_layer_sizes = (14,14,14))\n",
    "neural_network.fit(X_census_training_set, y_census_training_set)"
   ]
  },
  {
   "cell_type": "code",
   "execution_count": 8,
   "metadata": {},
   "outputs": [
    {
     "data": {
      "text/plain": [
       "array([' >50K', ' <=50K', ' <=50K', ..., ' <=50K', ' <=50K', ' >50K'],\n",
       "      dtype='<U6')"
      ]
     },
     "execution_count": 8,
     "metadata": {},
     "output_type": "execute_result"
    }
   ],
   "source": [
    "predictor = neural_network.predict(X_census_test_set)\n",
    "predictor"
   ]
  },
  {
   "cell_type": "code",
   "execution_count": 9,
   "metadata": {},
   "outputs": [
    {
     "data": {
      "text/plain": [
       "array([' >50K', ' <=50K', ' >50K', ..., ' <=50K', ' <=50K', ' <=50K'],\n",
       "      dtype=object)"
      ]
     },
     "execution_count": 9,
     "metadata": {},
     "output_type": "execute_result"
    }
   ],
   "source": [
    "y_census_test_set"
   ]
  },
  {
   "cell_type": "markdown",
   "metadata": {},
   "source": [
    "##### ↬ **Estatísticas de Classificação e Matriz de Confusão**"
   ]
  },
  {
   "cell_type": "code",
   "execution_count": 10,
   "metadata": {},
   "outputs": [],
   "source": [
    "from sklearn.metrics import accuracy_score, classification_report, confusion_matrix\n",
    "from yellowbrick.classifier import ConfusionMatrix"
   ]
  },
  {
   "cell_type": "code",
   "execution_count": 11,
   "metadata": {},
   "outputs": [
    {
     "data": {
      "text/plain": [
       "0.8393771768080311"
      ]
     },
     "execution_count": 11,
     "metadata": {},
     "output_type": "execute_result"
    }
   ],
   "source": [
    "accuracy_score(y_census_test_set, predictor)"
   ]
  },
  {
   "cell_type": "code",
   "execution_count": 12,
   "metadata": {},
   "outputs": [
    {
     "name": "stdout",
     "output_type": "stream",
     "text": [
      "              precision    recall  f1-score   support\n",
      "\n",
      "       <=50K       0.87      0.92      0.90      3653\n",
      "        >50K       0.72      0.59      0.65      1228\n",
      "\n",
      "    accuracy                           0.84      4881\n",
      "   macro avg       0.80      0.76      0.77      4881\n",
      "weighted avg       0.83      0.84      0.83      4881\n",
      "\n"
     ]
    }
   ],
   "source": [
    "print(classification_report(y_census_test_set, predictor))"
   ]
  },
  {
   "cell_type": "code",
   "execution_count": 13,
   "metadata": {},
   "outputs": [
    {
     "data": {
      "text/plain": [
       "0.8393771768080311"
      ]
     },
     "execution_count": 13,
     "metadata": {},
     "output_type": "execute_result"
    },
    {
     "data": {
      "image/png": "[encoded data removed]",
      "text/plain": [
       "<Figure size 800x550 with 1 Axes>"
      ]
     },
     "metadata": {},
     "output_type": "display_data"
    }
   ],
   "source": [
    "cm = ConfusionMatrix(neural_network)\n",
    "cm.fit(X_census_training_set, y_census_training_set)\n",
    "cm.score(X_census_test_set, y_census_test_set)"
   ]
  },
  {
   "cell_type": "markdown",
   "metadata": {},
   "source": [
    "### 📌 **Árvore de Decisão: conjunto com balanceamento do tipo 'Random Over Sampling'**"
   ]
  },
  {
   "cell_type": "code",
   "execution_count": 14,
   "metadata": {},
   "outputs": [],
   "source": [
    "with open('../sample_data/census_ros.pkl', 'rb') as f_ros:\n",
    "    X_census_training_set_ros, y_census_training_set_ros, X_census_test_set_ros, y_census_test_set_ros, df_transformed, one_hot_encoder_census = pk.load(f_ros)"
   ]
  },
  {
   "cell_type": "code",
   "execution_count": 15,
   "metadata": {},
   "outputs": [
    {
     "data": {
      "text/plain": [
       "((42090, 41), (42090,))"
      ]
     },
     "execution_count": 15,
     "metadata": {},
     "output_type": "execute_result"
    }
   ],
   "source": [
    "X_census_training_set_ros.shape, y_census_training_set_ros.shape"
   ]
  },
  {
   "cell_type": "code",
   "execution_count": 16,
   "metadata": {},
   "outputs": [
    {
     "data": {
      "text/plain": [
       "((4881, 41), (4881,))"
      ]
     },
     "execution_count": 16,
     "metadata": {},
     "output_type": "execute_result"
    }
   ],
   "source": [
    "X_census_test_set_ros.shape, y_census_test_set_ros.shape"
   ]
  },
  {
   "cell_type": "code",
   "execution_count": 17,
   "metadata": {},
   "outputs": [
    {
     "name": "stdout",
     "output_type": "stream",
     "text": [
      "Iteration 1, loss = 0.67862719\n",
      "Iteration 2, loss = 0.46219218\n",
      "Iteration 3, loss = 0.43817963\n",
      "Iteration 4, loss = 0.43172697\n",
      "Iteration 5, loss = 0.42656409\n",
      "Iteration 6, loss = 0.42537310\n",
      "Iteration 7, loss = 0.42402987\n",
      "Iteration 8, loss = 0.42249646\n",
      "Iteration 9, loss = 0.42180244\n",
      "Iteration 10, loss = 0.42028182\n",
      "Iteration 11, loss = 0.41902812\n",
      "Iteration 12, loss = 0.41836286\n",
      "Iteration 13, loss = 0.41713514\n",
      "Iteration 14, loss = 0.41645720\n",
      "Iteration 15, loss = 0.41641172\n",
      "Iteration 16, loss = 0.41501368\n",
      "Iteration 17, loss = 0.41454228\n",
      "Iteration 18, loss = 0.41476099\n",
      "Iteration 19, loss = 0.41390454\n",
      "Iteration 20, loss = 0.41574169\n",
      "Iteration 21, loss = 0.41319217\n",
      "Iteration 22, loss = 0.41422915\n",
      "Iteration 23, loss = 0.41358854\n",
      "Iteration 24, loss = 0.41189568\n",
      "Iteration 25, loss = 0.41266521\n",
      "Iteration 26, loss = 0.41217598\n",
      "Iteration 27, loss = 0.41036305\n",
      "Iteration 28, loss = 0.41158907\n",
      "Iteration 29, loss = 0.41064960\n",
      "Iteration 30, loss = 0.41067192\n",
      "Iteration 31, loss = 0.41005246\n",
      "Iteration 32, loss = 0.41195361\n",
      "Iteration 33, loss = 0.40953007\n",
      "Iteration 34, loss = 0.40946499\n",
      "Iteration 35, loss = 0.41050224\n",
      "Iteration 36, loss = 0.41022453\n",
      "Iteration 37, loss = 0.40964483\n",
      "Iteration 38, loss = 0.40957866\n",
      "Iteration 39, loss = 0.40960556\n",
      "Iteration 40, loss = 0.40966771\n",
      "Iteration 41, loss = 0.41001902\n",
      "Iteration 42, loss = 0.40860422\n",
      "Iteration 43, loss = 0.40877790\n",
      "Iteration 44, loss = 0.40814860\n",
      "Iteration 45, loss = 0.40905638\n",
      "Iteration 46, loss = 0.40876519\n",
      "Iteration 47, loss = 0.40884932\n",
      "Iteration 48, loss = 0.40822457\n",
      "Iteration 49, loss = 0.40870009\n",
      "Iteration 50, loss = 0.40933834\n",
      "Iteration 51, loss = 0.40869743\n",
      "Iteration 52, loss = 0.40859189\n",
      "Iteration 53, loss = 0.40752168\n",
      "Iteration 54, loss = 0.40693810\n",
      "Iteration 55, loss = 0.41074590\n",
      "Iteration 56, loss = 0.40722158\n",
      "Iteration 57, loss = 0.40730366\n",
      "Iteration 58, loss = 0.40775440\n",
      "Iteration 59, loss = 0.40795030\n",
      "Iteration 60, loss = 0.40735935\n",
      "Iteration 61, loss = 0.40763074\n",
      "Iteration 62, loss = 0.40661561\n",
      "Iteration 63, loss = 0.40786009\n",
      "Iteration 64, loss = 0.40668226\n",
      "Iteration 65, loss = 0.40634045\n",
      "Iteration 66, loss = 0.40652564\n",
      "Iteration 67, loss = 0.40647589\n",
      "Iteration 68, loss = 0.40687714\n",
      "Iteration 69, loss = 0.40566104\n",
      "Iteration 70, loss = 0.40633796\n",
      "Iteration 71, loss = 0.40615761\n",
      "Iteration 72, loss = 0.40591073\n",
      "Iteration 73, loss = 0.40636919\n",
      "Iteration 74, loss = 0.40637755\n",
      "Iteration 75, loss = 0.40533177\n",
      "Iteration 76, loss = 0.40603333\n",
      "Iteration 77, loss = 0.40695228\n",
      "Iteration 78, loss = 0.40553983\n",
      "Iteration 79, loss = 0.40608405\n",
      "Iteration 80, loss = 0.40493132\n",
      "Iteration 81, loss = 0.40603645\n",
      "Iteration 82, loss = 0.40508820\n",
      "Iteration 83, loss = 0.40566059\n",
      "Iteration 84, loss = 0.40496202\n",
      "Iteration 85, loss = 0.40531849\n",
      "Iteration 86, loss = 0.40458201\n",
      "Iteration 87, loss = 0.40566322\n",
      "Iteration 88, loss = 0.40504587\n",
      "Iteration 89, loss = 0.40609424\n",
      "Iteration 90, loss = 0.40535189\n",
      "Iteration 91, loss = 0.40439440\n",
      "Iteration 92, loss = 0.40451234\n",
      "Iteration 93, loss = 0.40438358\n",
      "Iteration 94, loss = 0.40599439\n",
      "Iteration 95, loss = 0.40400487\n",
      "Iteration 96, loss = 0.40402593\n",
      "Iteration 97, loss = 0.40467314\n",
      "Iteration 98, loss = 0.40462082\n",
      "Iteration 99, loss = 0.40366880\n",
      "Iteration 100, loss = 0.40492174\n",
      "Iteration 101, loss = 0.40485964\n",
      "Iteration 102, loss = 0.40330361\n",
      "Iteration 103, loss = 0.40435925\n",
      "Iteration 104, loss = 0.40392470\n",
      "Iteration 105, loss = 0.40306755\n",
      "Iteration 106, loss = 0.40403869\n",
      "Iteration 107, loss = 0.40331050\n",
      "Iteration 108, loss = 0.40419134\n",
      "Iteration 109, loss = 0.40257793\n",
      "Iteration 110, loss = 0.40341730\n",
      "Iteration 111, loss = 0.40287233\n",
      "Iteration 112, loss = 0.40271159\n",
      "Iteration 113, loss = 0.40237748\n",
      "Iteration 114, loss = 0.40251506\n",
      "Iteration 115, loss = 0.40296798\n",
      "Iteration 116, loss = 0.40305811\n",
      "Iteration 117, loss = 0.40274741\n",
      "Iteration 118, loss = 0.40272317\n",
      "Iteration 119, loss = 0.40273541\n",
      "Iteration 120, loss = 0.40245804\n",
      "Iteration 121, loss = 0.40266254\n",
      "Iteration 122, loss = 0.40278594\n",
      "Iteration 123, loss = 0.40174660\n",
      "Iteration 124, loss = 0.40247443\n",
      "Iteration 125, loss = 0.40236050\n",
      "Iteration 126, loss = 0.40253577\n",
      "Iteration 127, loss = 0.40254231\n",
      "Iteration 128, loss = 0.40175023\n",
      "Iteration 129, loss = 0.40211478\n",
      "Iteration 130, loss = 0.40178034\n",
      "Iteration 131, loss = 0.40253374\n",
      "Iteration 132, loss = 0.40266013\n",
      "Iteration 133, loss = 0.40148259\n",
      "Iteration 134, loss = 0.40173228\n",
      "Iteration 135, loss = 0.40246579\n",
      "Iteration 136, loss = 0.40059700\n",
      "Iteration 137, loss = 0.40266972\n",
      "Iteration 138, loss = 0.40192384\n",
      "Iteration 139, loss = 0.40141456\n",
      "Iteration 140, loss = 0.40090651\n",
      "Iteration 141, loss = 0.40264746\n",
      "Iteration 142, loss = 0.40161245\n",
      "Iteration 143, loss = 0.40123143\n",
      "Iteration 144, loss = 0.40360409\n",
      "Iteration 145, loss = 0.40177339\n",
      "Iteration 146, loss = 0.40163944\n",
      "Iteration 147, loss = 0.40230843\n",
      "Training loss did not improve more than tol=0.000010 for 10 consecutive epochs. Stopping.\n"
     ]
    },
    {
     "data": {
      "text/html": [
       "<style>#sk-container-id-2 {color: black;}#sk-container-id-2 pre{padding: 0;}#sk-container-id-2 div.sk-toggleable {background-color: white;}#sk-container-id-2 label.sk-toggleable__label {cursor: pointer;display: block;width: 100%;margin-bottom: 0;padding: 0.3em;box-sizing: border-box;text-align: center;}#sk-container-id-2 label.sk-toggleable__label-arrow:before {content: \"▸\";float: left;margin-right: 0.25em;color: #696969;}#sk-container-id-2 label.sk-toggleable__label-arrow:hover:before {color: black;}#sk-container-id-2 div.sk-estimator:hover label.sk-toggleable__label-arrow:before {color: black;}#sk-container-id-2 div.sk-toggleable__content {max-height: 0;max-width: 0;overflow: hidden;text-align: left;background-color: #f0f8ff;}#sk-container-id-2 div.sk-toggleable__content pre {margin: 0.2em;color: black;border-radius: 0.25em;background-color: #f0f8ff;}#sk-container-id-2 input.sk-toggleable__control:checked~div.sk-toggleable__content {max-height: 200px;max-width: 100%;overflow: auto;}#sk-container-id-2 input.sk-toggleable__control:checked~label.sk-toggleable__label-arrow:before {content: \"▾\";}#sk-container-id-2 div.sk-estimator input.sk-toggleable__control:checked~label.sk-toggleable__label {background-color: #d4ebff;}#sk-container-id-2 div.sk-label input.sk-toggleable__control:checked~label.sk-toggleable__label {background-color: #d4ebff;}#sk-container-id-2 input.sk-hidden--visually {border: 0;clip: rect(1px 1px 1px 1px);clip: rect(1px, 1px, 1px, 1px);height: 1px;margin: -1px;overflow: hidden;padding: 0;position: absolute;width: 1px;}#sk-container-id-2 div.sk-estimator {font-family: monospace;background-color: #f0f8ff;border: 1px dotted black;border-radius: 0.25em;box-sizing: border-box;margin-bottom: 0.5em;}#sk-container-id-2 div.sk-estimator:hover {background-color: #d4ebff;}#sk-container-id-2 div.sk-parallel-item::after {content: \"\";width: 100%;border-bottom: 1px solid gray;flex-grow: 1;}#sk-container-id-2 div.sk-label:hover label.sk-toggleable__label {background-color: #d4ebff;}#sk-container-id-2 div.sk-serial::before {content: \"\";position: absolute;border-left: 1px solid gray;box-sizing: border-box;top: 0;bottom: 0;left: 50%;z-index: 0;}#sk-container-id-2 div.sk-serial {display: flex;flex-direction: column;align-items: center;background-color: white;padding-right: 0.2em;padding-left: 0.2em;position: relative;}#sk-container-id-2 div.sk-item {position: relative;z-index: 1;}#sk-container-id-2 div.sk-parallel {display: flex;align-items: stretch;justify-content: center;background-color: white;position: relative;}#sk-container-id-2 div.sk-item::before, #sk-container-id-2 div.sk-parallel-item::before {content: \"\";position: absolute;border-left: 1px solid gray;box-sizing: border-box;top: 0;bottom: 0;left: 50%;z-index: -1;}#sk-container-id-2 div.sk-parallel-item {display: flex;flex-direction: column;z-index: 1;position: relative;background-color: white;}#sk-container-id-2 div.sk-parallel-item:first-child::after {align-self: flex-end;width: 50%;}#sk-container-id-2 div.sk-parallel-item:last-child::after {align-self: flex-start;width: 50%;}#sk-container-id-2 div.sk-parallel-item:only-child::after {width: 0;}#sk-container-id-2 div.sk-dashed-wrapped {border: 1px dashed gray;margin: 0 0.4em 0.5em 0.4em;box-sizing: border-box;padding-bottom: 0.4em;background-color: white;}#sk-container-id-2 div.sk-label label {font-family: monospace;font-weight: bold;display: inline-block;line-height: 1.2em;}#sk-container-id-2 div.sk-label-container {text-align: center;}#sk-container-id-2 div.sk-container {/* jupyter's `normalize.less` sets `[hidden] { display: none; }` but bootstrap.min.css set `[hidden] { display: none !important; }` so we also need the `!important` here to be able to override the default hidden behavior on the sphinx rendered scikit-learn.org. See: https://github.com/scikit-learn/scikit-learn/issues/21755 */display: inline-block !important;position: relative;}#sk-container-id-2 div.sk-text-repr-fallback {display: none;}</style><div id=\"sk-container-id-2\" class=\"sk-top-container\"><div class=\"sk-text-repr-fallback\"><pre>MLPClassifier(hidden_layer_sizes=(14, 14, 14), max_iter=1000, tol=1e-05,\n",
       "              verbose=True)</pre><b>In a Jupyter environment, please rerun this cell to show the HTML representation or trust the notebook. <br />On GitHub, the HTML representation is unable to render, please try loading this page with nbviewer.org.</b></div><div class=\"sk-container\" hidden><div class=\"sk-item\"><div class=\"sk-estimator sk-toggleable\"><input class=\"sk-toggleable__control sk-hidden--visually\" id=\"sk-estimator-id-2\" type=\"checkbox\" checked><label for=\"sk-estimator-id-2\" class=\"sk-toggleable__label sk-toggleable__label-arrow\">MLPClassifier</label><div class=\"sk-toggleable__content\"><pre>MLPClassifier(hidden_layer_sizes=(14, 14, 14), max_iter=1000, tol=1e-05,\n",
       "              verbose=True)</pre></div></div></div></div></div>"
      ],
      "text/plain": [
       "MLPClassifier(hidden_layer_sizes=(14, 14, 14), max_iter=1000, tol=1e-05,\n",
       "              verbose=True)"
      ]
     },
     "execution_count": 17,
     "metadata": {},
     "output_type": "execute_result"
    }
   ],
   "source": [
    "neural_network_ros = MLPClassifier(verbose = True, max_iter = 1000, tol = 0.000010, hidden_layer_sizes = (14,14,14))\n",
    "neural_network_ros.fit(X_census_training_set_ros, y_census_training_set_ros)"
   ]
  },
  {
   "cell_type": "code",
   "execution_count": 18,
   "metadata": {},
   "outputs": [
    {
     "data": {
      "text/plain": [
       "array([' >50K', ' <=50K', ' >50K', ..., ' <=50K', ' <=50K', ' >50K'],\n",
       "      dtype='<U6')"
      ]
     },
     "execution_count": 18,
     "metadata": {},
     "output_type": "execute_result"
    }
   ],
   "source": [
    "predictor_ros = neural_network_ros.predict(X_census_test_set_ros)\n",
    "predictor_ros"
   ]
  },
  {
   "cell_type": "code",
   "execution_count": 19,
   "metadata": {},
   "outputs": [
    {
     "data": {
      "text/plain": [
       "array([' >50K', ' <=50K', ' >50K', ..., ' <=50K', ' <=50K', ' <=50K'],\n",
       "      dtype=object)"
      ]
     },
     "execution_count": 19,
     "metadata": {},
     "output_type": "execute_result"
    }
   ],
   "source": [
    "y_census_test_set_ros"
   ]
  },
  {
   "cell_type": "markdown",
   "metadata": {},
   "source": [
    "##### ↬ **Estatísticas de Classificação e Matriz de Confusão**"
   ]
  },
  {
   "cell_type": "code",
   "execution_count": 20,
   "metadata": {},
   "outputs": [
    {
     "data": {
      "text/plain": [
       "0.7979922147101004"
      ]
     },
     "execution_count": 20,
     "metadata": {},
     "output_type": "execute_result"
    }
   ],
   "source": [
    "accuracy_score(y_census_test_set_ros, predictor_ros)"
   ]
  },
  {
   "cell_type": "code",
   "execution_count": 21,
   "metadata": {},
   "outputs": [
    {
     "name": "stdout",
     "output_type": "stream",
     "text": [
      "              precision    recall  f1-score   support\n",
      "\n",
      "       <=50K       0.94      0.78      0.85      3653\n",
      "        >50K       0.57      0.84      0.68      1228\n",
      "\n",
      "    accuracy                           0.80      4881\n",
      "   macro avg       0.75      0.81      0.77      4881\n",
      "weighted avg       0.84      0.80      0.81      4881\n",
      "\n"
     ]
    }
   ],
   "source": [
    "print(classification_report(y_census_test_set_ros, predictor_ros))"
   ]
  },
  {
   "cell_type": "code",
   "execution_count": 22,
   "metadata": {},
   "outputs": [
    {
     "data": {
      "text/plain": [
       "0.7979922147101004"
      ]
     },
     "execution_count": 22,
     "metadata": {},
     "output_type": "execute_result"
    },
    {
     "data": {
      "image/png": "[encoded data removed]",
      "text/plain": [
       "<Figure size 800x550 with 1 Axes>"
      ]
     },
     "metadata": {},
     "output_type": "display_data"
    }
   ],
   "source": [
    "cm = ConfusionMatrix(neural_network_ros)\n",
    "cm.fit(X_census_training_set_ros, y_census_training_set_ros)\n",
    "cm.score(X_census_test_set_ros, y_census_test_set_ros)"
   ]
  },
  {
   "cell_type": "markdown",
   "metadata": {},
   "source": [
    "### 📌 **Árvore de Decisão: conjunto com balanceamento do tipo 'SMOTE'**"
   ]
  },
  {
   "cell_type": "code",
   "execution_count": 23,
   "metadata": {},
   "outputs": [],
   "source": [
    "with open('../sample_data/census_smote.pkl', 'rb') as f_smote:\n",
    "    X_census_training_set_smote, y_census_training_set_smote, X_census_test_set_smote, y_census_test_set_smote, df_transformed, one_hot_encoder_census = pk.load(f_smote)"
   ]
  },
  {
   "cell_type": "code",
   "execution_count": 24,
   "metadata": {},
   "outputs": [
    {
     "data": {
      "text/plain": [
       "((42090, 41), (42090,))"
      ]
     },
     "execution_count": 24,
     "metadata": {},
     "output_type": "execute_result"
    }
   ],
   "source": [
    "X_census_training_set_smote.shape, y_census_training_set_smote.shape"
   ]
  },
  {
   "cell_type": "code",
   "execution_count": 25,
   "metadata": {},
   "outputs": [
    {
     "data": {
      "text/plain": [
       "((4881, 41), (4881,))"
      ]
     },
     "execution_count": 25,
     "metadata": {},
     "output_type": "execute_result"
    }
   ],
   "source": [
    "X_census_test_set_smote.shape, y_census_test_set_smote.shape"
   ]
  },
  {
   "cell_type": "code",
   "execution_count": 26,
   "metadata": {},
   "outputs": [
    {
     "name": "stdout",
     "output_type": "stream",
     "text": [
      "Iteration 1, loss = 0.54814598\n",
      "Iteration 2, loss = 0.43314001\n",
      "Iteration 3, loss = 0.41372099\n",
      "Iteration 4, loss = 0.40864848\n",
      "Iteration 5, loss = 0.40556271\n",
      "Iteration 6, loss = 0.40307146\n",
      "Iteration 7, loss = 0.40150942\n",
      "Iteration 8, loss = 0.40118794\n",
      "Iteration 9, loss = 0.39994207\n",
      "Iteration 10, loss = 0.39837992\n",
      "Iteration 11, loss = 0.39962645\n",
      "Iteration 12, loss = 0.39794329\n",
      "Iteration 13, loss = 0.39644356\n",
      "Iteration 14, loss = 0.39811709\n",
      "Iteration 15, loss = 0.39602626\n",
      "Iteration 16, loss = 0.39582614\n",
      "Iteration 17, loss = 0.39448116\n",
      "Iteration 18, loss = 0.39446211\n",
      "Iteration 19, loss = 0.39476114\n",
      "Iteration 20, loss = 0.39301440\n",
      "Iteration 21, loss = 0.39269590\n",
      "Iteration 22, loss = 0.39438801\n",
      "Iteration 23, loss = 0.39306016\n",
      "Iteration 24, loss = 0.39171610\n",
      "Iteration 25, loss = 0.39110413\n",
      "Iteration 26, loss = 0.39116871\n",
      "Iteration 27, loss = 0.38945222\n",
      "Iteration 28, loss = 0.39007599\n",
      "Iteration 29, loss = 0.39009518\n",
      "Iteration 30, loss = 0.38928261\n",
      "Iteration 31, loss = 0.38956606\n",
      "Iteration 32, loss = 0.39026263\n",
      "Iteration 33, loss = 0.38918863\n",
      "Iteration 34, loss = 0.38744469\n",
      "Iteration 35, loss = 0.38750094\n",
      "Iteration 36, loss = 0.38710404\n",
      "Iteration 37, loss = 0.38653638\n",
      "Iteration 38, loss = 0.38677593\n",
      "Iteration 39, loss = 0.38704615\n",
      "Iteration 40, loss = 0.38607059\n",
      "Iteration 41, loss = 0.38553748\n",
      "Iteration 42, loss = 0.38474685\n",
      "Iteration 43, loss = 0.38542263\n",
      "Iteration 44, loss = 0.38384030\n",
      "Iteration 45, loss = 0.38459157\n",
      "Iteration 46, loss = 0.38384180\n",
      "Iteration 47, loss = 0.38381749\n",
      "Iteration 48, loss = 0.38220437\n",
      "Iteration 49, loss = 0.38261454\n",
      "Iteration 50, loss = 0.38193367\n",
      "Iteration 51, loss = 0.38110478\n",
      "Iteration 52, loss = 0.38114325\n",
      "Iteration 53, loss = 0.38115432\n",
      "Iteration 54, loss = 0.38231262\n",
      "Iteration 55, loss = 0.38025654\n",
      "Iteration 56, loss = 0.38085918\n",
      "Iteration 57, loss = 0.37996611\n",
      "Iteration 58, loss = 0.37982104\n",
      "Iteration 59, loss = 0.37938021\n",
      "Iteration 60, loss = 0.38013397\n",
      "Iteration 61, loss = 0.37872811\n",
      "Iteration 62, loss = 0.37826319\n",
      "Iteration 63, loss = 0.37849614\n",
      "Iteration 64, loss = 0.37913439\n",
      "Iteration 65, loss = 0.37757362\n",
      "Iteration 66, loss = 0.37647123\n",
      "Iteration 67, loss = 0.37911527\n",
      "Iteration 68, loss = 0.37698428\n",
      "Iteration 69, loss = 0.37700038\n",
      "Iteration 70, loss = 0.37635990\n",
      "Iteration 71, loss = 0.37640587\n",
      "Iteration 72, loss = 0.37561023\n",
      "Iteration 73, loss = 0.37450024\n",
      "Iteration 74, loss = 0.37530774\n",
      "Iteration 75, loss = 0.37508672\n",
      "Iteration 76, loss = 0.37477658\n",
      "Iteration 77, loss = 0.37447349\n",
      "Iteration 78, loss = 0.37479438\n",
      "Iteration 79, loss = 0.37415469\n",
      "Iteration 80, loss = 0.37396039\n",
      "Iteration 81, loss = 0.37393474\n",
      "Iteration 82, loss = 0.37430016\n",
      "Iteration 83, loss = 0.37347876\n",
      "Iteration 84, loss = 0.37475015\n",
      "Iteration 85, loss = 0.37290499\n",
      "Iteration 86, loss = 0.37269768\n",
      "Iteration 87, loss = 0.37199856\n",
      "Iteration 88, loss = 0.37270147\n",
      "Iteration 89, loss = 0.37339939\n",
      "Iteration 90, loss = 0.37282108\n",
      "Iteration 91, loss = 0.37194118\n",
      "Iteration 92, loss = 0.37256505\n",
      "Iteration 93, loss = 0.37276083\n",
      "Iteration 94, loss = 0.37089607\n",
      "Iteration 95, loss = 0.37205581\n",
      "Iteration 96, loss = 0.37164601\n",
      "Iteration 97, loss = 0.37181281\n",
      "Iteration 98, loss = 0.37144255\n",
      "Iteration 99, loss = 0.37107690\n",
      "Iteration 100, loss = 0.37072305\n",
      "Iteration 101, loss = 0.37119266\n",
      "Iteration 102, loss = 0.37071373\n",
      "Iteration 103, loss = 0.36975561\n",
      "Iteration 104, loss = 0.36986681\n",
      "Iteration 105, loss = 0.37117248\n",
      "Iteration 106, loss = 0.37029492\n",
      "Iteration 107, loss = 0.37002170\n",
      "Iteration 108, loss = 0.37046921\n",
      "Iteration 109, loss = 0.37065348\n",
      "Iteration 110, loss = 0.36926189\n",
      "Iteration 111, loss = 0.36969394\n",
      "Iteration 112, loss = 0.36875585\n",
      "Iteration 113, loss = 0.36813797\n",
      "Iteration 114, loss = 0.37075564\n",
      "Iteration 115, loss = 0.36921338\n",
      "Iteration 116, loss = 0.36855021\n",
      "Iteration 117, loss = 0.36887958\n",
      "Iteration 118, loss = 0.36900101\n",
      "Iteration 119, loss = 0.36817148\n",
      "Iteration 120, loss = 0.36775268\n",
      "Iteration 121, loss = 0.36860028\n",
      "Iteration 122, loss = 0.36724920\n",
      "Iteration 123, loss = 0.36716867\n",
      "Iteration 124, loss = 0.36805802\n",
      "Iteration 125, loss = 0.36752133\n",
      "Iteration 126, loss = 0.36705481\n",
      "Iteration 127, loss = 0.36671384\n",
      "Iteration 128, loss = 0.36765733\n",
      "Iteration 129, loss = 0.36896364\n",
      "Iteration 130, loss = 0.36587242\n",
      "Iteration 131, loss = 0.36658046\n",
      "Iteration 132, loss = 0.36627730\n",
      "Iteration 133, loss = 0.36591084\n",
      "Iteration 134, loss = 0.36653466\n",
      "Iteration 135, loss = 0.36815435\n",
      "Iteration 136, loss = 0.36521076\n",
      "Iteration 137, loss = 0.36608300\n",
      "Iteration 138, loss = 0.36668287\n",
      "Iteration 139, loss = 0.36635151\n",
      "Iteration 140, loss = 0.36545913\n",
      "Iteration 141, loss = 0.36744749\n",
      "Iteration 142, loss = 0.36556494\n",
      "Iteration 143, loss = 0.36606143\n",
      "Iteration 144, loss = 0.36449329\n",
      "Iteration 145, loss = 0.36448034\n",
      "Iteration 146, loss = 0.36496745\n",
      "Iteration 147, loss = 0.36548380\n",
      "Iteration 148, loss = 0.36435404\n",
      "Iteration 149, loss = 0.36493973\n",
      "Iteration 150, loss = 0.36468525\n",
      "Iteration 151, loss = 0.36511540\n",
      "Iteration 152, loss = 0.36654111\n",
      "Iteration 153, loss = 0.36506488\n",
      "Iteration 154, loss = 0.36457710\n",
      "Iteration 155, loss = 0.36481324\n",
      "Iteration 156, loss = 0.36497826\n",
      "Iteration 157, loss = 0.36583985\n",
      "Iteration 158, loss = 0.36440190\n",
      "Iteration 159, loss = 0.36501719\n",
      "Training loss did not improve more than tol=0.000010 for 10 consecutive epochs. Stopping.\n"
     ]
    },
    {
     "data": {
      "text/html": [
       "<style>#sk-container-id-3 {color: black;}#sk-container-id-3 pre{padding: 0;}#sk-container-id-3 div.sk-toggleable {background-color: white;}#sk-container-id-3 label.sk-toggleable__label {cursor: pointer;display: block;width: 100%;margin-bottom: 0;padding: 0.3em;box-sizing: border-box;text-align: center;}#sk-container-id-3 label.sk-toggleable__label-arrow:before {content: \"▸\";float: left;margin-right: 0.25em;color: #696969;}#sk-container-id-3 label.sk-toggleable__label-arrow:hover:before {color: black;}#sk-container-id-3 div.sk-estimator:hover label.sk-toggleable__label-arrow:before {color: black;}#sk-container-id-3 div.sk-toggleable__content {max-height: 0;max-width: 0;overflow: hidden;text-align: left;background-color: #f0f8ff;}#sk-container-id-3 div.sk-toggleable__content pre {margin: 0.2em;color: black;border-radius: 0.25em;background-color: #f0f8ff;}#sk-container-id-3 input.sk-toggleable__control:checked~div.sk-toggleable__content {max-height: 200px;max-width: 100%;overflow: auto;}#sk-container-id-3 input.sk-toggleable__control:checked~label.sk-toggleable__label-arrow:before {content: \"▾\";}#sk-container-id-3 div.sk-estimator input.sk-toggleable__control:checked~label.sk-toggleable__label {background-color: #d4ebff;}#sk-container-id-3 div.sk-label input.sk-toggleable__control:checked~label.sk-toggleable__label {background-color: #d4ebff;}#sk-container-id-3 input.sk-hidden--visually {border: 0;clip: rect(1px 1px 1px 1px);clip: rect(1px, 1px, 1px, 1px);height: 1px;margin: -1px;overflow: hidden;padding: 0;position: absolute;width: 1px;}#sk-container-id-3 div.sk-estimator {font-family: monospace;background-color: #f0f8ff;border: 1px dotted black;border-radius: 0.25em;box-sizing: border-box;margin-bottom: 0.5em;}#sk-container-id-3 div.sk-estimator:hover {background-color: #d4ebff;}#sk-container-id-3 div.sk-parallel-item::after {content: \"\";width: 100%;border-bottom: 1px solid gray;flex-grow: 1;}#sk-container-id-3 div.sk-label:hover label.sk-toggleable__label {background-color: #d4ebff;}#sk-container-id-3 div.sk-serial::before {content: \"\";position: absolute;border-left: 1px solid gray;box-sizing: border-box;top: 0;bottom: 0;left: 50%;z-index: 0;}#sk-container-id-3 div.sk-serial {display: flex;flex-direction: column;align-items: center;background-color: white;padding-right: 0.2em;padding-left: 0.2em;position: relative;}#sk-container-id-3 div.sk-item {position: relative;z-index: 1;}#sk-container-id-3 div.sk-parallel {display: flex;align-items: stretch;justify-content: center;background-color: white;position: relative;}#sk-container-id-3 div.sk-item::before, #sk-container-id-3 div.sk-parallel-item::before {content: \"\";position: absolute;border-left: 1px solid gray;box-sizing: border-box;top: 0;bottom: 0;left: 50%;z-index: -1;}#sk-container-id-3 div.sk-parallel-item {display: flex;flex-direction: column;z-index: 1;position: relative;background-color: white;}#sk-container-id-3 div.sk-parallel-item:first-child::after {align-self: flex-end;width: 50%;}#sk-container-id-3 div.sk-parallel-item:last-child::after {align-self: flex-start;width: 50%;}#sk-container-id-3 div.sk-parallel-item:only-child::after {width: 0;}#sk-container-id-3 div.sk-dashed-wrapped {border: 1px dashed gray;margin: 0 0.4em 0.5em 0.4em;box-sizing: border-box;padding-bottom: 0.4em;background-color: white;}#sk-container-id-3 div.sk-label label {font-family: monospace;font-weight: bold;display: inline-block;line-height: 1.2em;}#sk-container-id-3 div.sk-label-container {text-align: center;}#sk-container-id-3 div.sk-container {/* jupyter's `normalize.less` sets `[hidden] { display: none; }` but bootstrap.min.css set `[hidden] { display: none !important; }` so we also need the `!important` here to be able to override the default hidden behavior on the sphinx rendered scikit-learn.org. See: https://github.com/scikit-learn/scikit-learn/issues/21755 */display: inline-block !important;position: relative;}#sk-container-id-3 div.sk-text-repr-fallback {display: none;}</style><div id=\"sk-container-id-3\" class=\"sk-top-container\"><div class=\"sk-text-repr-fallback\"><pre>MLPClassifier(hidden_layer_sizes=(14, 14, 14), max_iter=1000, tol=1e-05,\n",
       "              verbose=True)</pre><b>In a Jupyter environment, please rerun this cell to show the HTML representation or trust the notebook. <br />On GitHub, the HTML representation is unable to render, please try loading this page with nbviewer.org.</b></div><div class=\"sk-container\" hidden><div class=\"sk-item\"><div class=\"sk-estimator sk-toggleable\"><input class=\"sk-toggleable__control sk-hidden--visually\" id=\"sk-estimator-id-3\" type=\"checkbox\" checked><label for=\"sk-estimator-id-3\" class=\"sk-toggleable__label sk-toggleable__label-arrow\">MLPClassifier</label><div class=\"sk-toggleable__content\"><pre>MLPClassifier(hidden_layer_sizes=(14, 14, 14), max_iter=1000, tol=1e-05,\n",
       "              verbose=True)</pre></div></div></div></div></div>"
      ],
      "text/plain": [
       "MLPClassifier(hidden_layer_sizes=(14, 14, 14), max_iter=1000, tol=1e-05,\n",
       "              verbose=True)"
      ]
     },
     "execution_count": 26,
     "metadata": {},
     "output_type": "execute_result"
    }
   ],
   "source": [
    "neural_network_smote = MLPClassifier(verbose = True, max_iter = 1000, tol = 0.000010, hidden_layer_sizes = (14,14,14))\n",
    "neural_network_smote.fit(X_census_training_set_smote, y_census_training_set_smote)"
   ]
  },
  {
   "cell_type": "code",
   "execution_count": 27,
   "metadata": {},
   "outputs": [
    {
     "data": {
      "text/plain": [
       "array([' >50K', ' <=50K', ' >50K', ..., ' <=50K', ' <=50K', ' >50K'],\n",
       "      dtype='<U6')"
      ]
     },
     "execution_count": 27,
     "metadata": {},
     "output_type": "execute_result"
    }
   ],
   "source": [
    "predictor_smote = neural_network_smote.predict(X_census_test_set_smote)\n",
    "predictor_smote"
   ]
  },
  {
   "cell_type": "code",
   "execution_count": 28,
   "metadata": {},
   "outputs": [
    {
     "data": {
      "text/plain": [
       "array([' >50K', ' <=50K', ' >50K', ..., ' <=50K', ' <=50K', ' <=50K'],\n",
       "      dtype=object)"
      ]
     },
     "execution_count": 28,
     "metadata": {},
     "output_type": "execute_result"
    }
   ],
   "source": [
    "y_census_test_set_smote"
   ]
  },
  {
   "cell_type": "markdown",
   "metadata": {},
   "source": [
    "##### ↬ **Estatísticas de Classificação e Matriz de Confusão**"
   ]
  },
  {
   "cell_type": "code",
   "execution_count": 29,
   "metadata": {},
   "outputs": [
    {
     "data": {
      "text/plain": [
       "0.7992214710100389"
      ]
     },
     "execution_count": 29,
     "metadata": {},
     "output_type": "execute_result"
    }
   ],
   "source": [
    "accuracy_score(y_census_test_set_smote, predictor_smote)"
   ]
  },
  {
   "cell_type": "code",
   "execution_count": 30,
   "metadata": {},
   "outputs": [
    {
     "name": "stdout",
     "output_type": "stream",
     "text": [
      "              precision    recall  f1-score   support\n",
      "\n",
      "       <=50K       0.93      0.79      0.85      3653\n",
      "        >50K       0.57      0.83      0.68      1228\n",
      "\n",
      "    accuracy                           0.80      4881\n",
      "   macro avg       0.75      0.81      0.77      4881\n",
      "weighted avg       0.84      0.80      0.81      4881\n",
      "\n"
     ]
    }
   ],
   "source": [
    "print(classification_report(y_census_test_set_smote, predictor_smote))"
   ]
  },
  {
   "cell_type": "code",
   "execution_count": 31,
   "metadata": {},
   "outputs": [
    {
     "data": {
      "text/plain": [
       "0.7992214710100389"
      ]
     },
     "execution_count": 31,
     "metadata": {},
     "output_type": "execute_result"
    },
    {
     "data": {
      "image/png": "[encoded data removed]",
      "text/plain": [
       "<Figure size 800x550 with 1 Axes>"
      ]
     },
     "metadata": {},
     "output_type": "display_data"
    }
   ],
   "source": [
    "cm = ConfusionMatrix(neural_network_smote)\n",
    "cm.fit(X_census_training_set_smote, y_census_training_set_smote)\n",
    "cm.score(X_census_test_set_smote, y_census_test_set_smote)"
   ]
  },
  {
   "cell_type": "code",
   "execution_count": 32,
   "metadata": {},
   "outputs": [],
   "source": [
    "weights_first_hidden_layer = neural_network.coefs_[0]"
   ]
  },
  {
   "cell_type": "code",
   "execution_count": 33,
   "metadata": {},
   "outputs": [
    {
     "data": {
      "image/png": "[encoded data removed]",
      "text/plain": [
       "<Figure size 800x550 with 2 Axes>"
      ]
     },
     "metadata": {},
     "output_type": "display_data"
    }
   ],
   "source": [
    "fig, ax = plt.subplots()\n",
    "cax = ax.matshow(weights_first_hidden_layer, cmap='viridis')\n",
    "fig.colorbar(cax)\n",
    "plt.show()"
   ]
  },
  {
   "cell_type": "markdown",
   "metadata": {},
   "source": [
    "### 📌 **Árvore de Decisão: conjunto com balanceamento do tipo 'Random Under Sampling'**"
   ]
  },
  {
   "cell_type": "code",
   "execution_count": 34,
   "metadata": {},
   "outputs": [],
   "source": [
    "with open('../sample_data/census_rus.pkl', 'rb') as f_rus:\n",
    "    X_census_training_set_rus, y_census_training_set_rus, X_census_test_set_rus, y_census_test_set_rus, df_transformed, one_hot_encoder_census = pk.load(f_rus)"
   ]
  },
  {
   "cell_type": "code",
   "execution_count": 35,
   "metadata": {},
   "outputs": [
    {
     "data": {
      "text/plain": [
       "((13222, 41), (13222,))"
      ]
     },
     "execution_count": 35,
     "metadata": {},
     "output_type": "execute_result"
    }
   ],
   "source": [
    "X_census_training_set_rus.shape, y_census_training_set_rus.shape"
   ]
  },
  {
   "cell_type": "code",
   "execution_count": 36,
   "metadata": {},
   "outputs": [
    {
     "data": {
      "text/plain": [
       "((4881, 41), (4881,))"
      ]
     },
     "execution_count": 36,
     "metadata": {},
     "output_type": "execute_result"
    }
   ],
   "source": [
    "X_census_test_set_rus.shape, y_census_test_set_rus.shape"
   ]
  },
  {
   "cell_type": "code",
   "execution_count": 37,
   "metadata": {},
   "outputs": [
    {
     "name": "stdout",
     "output_type": "stream",
     "text": [
      "Iteration 1, loss = 0.70586411\n",
      "Iteration 2, loss = 0.50374956\n",
      "Iteration 3, loss = 0.45869209\n",
      "Iteration 4, loss = 0.44502168\n",
      "Iteration 5, loss = 0.43981183\n",
      "Iteration 6, loss = 0.44001017\n",
      "Iteration 7, loss = 0.43348116\n",
      "Iteration 8, loss = 0.43362431\n",
      "Iteration 9, loss = 0.43289795\n",
      "Iteration 10, loss = 0.43115801\n",
      "Iteration 11, loss = 0.42983467\n",
      "Iteration 12, loss = 0.42694077\n",
      "Iteration 13, loss = 0.42638019\n",
      "Iteration 14, loss = 0.42911511\n",
      "Iteration 15, loss = 0.42465779\n",
      "Iteration 16, loss = 0.42370112\n",
      "Iteration 17, loss = 0.42632379\n",
      "Iteration 18, loss = 0.42374485\n",
      "Iteration 19, loss = 0.42273610\n",
      "Iteration 20, loss = 0.42469873\n",
      "Iteration 21, loss = 0.42243870\n",
      "Iteration 22, loss = 0.42149576\n",
      "Iteration 23, loss = 0.42230929\n",
      "Iteration 24, loss = 0.42055053\n",
      "Iteration 25, loss = 0.42226985\n",
      "Iteration 26, loss = 0.42129450\n",
      "Iteration 27, loss = 0.42070455\n",
      "Iteration 28, loss = 0.42095718\n",
      "Iteration 29, loss = 0.42161492\n",
      "Iteration 30, loss = 0.41992027\n",
      "Iteration 31, loss = 0.42123470\n",
      "Iteration 32, loss = 0.41953453\n",
      "Iteration 33, loss = 0.41776105\n",
      "Iteration 34, loss = 0.41850750\n",
      "Iteration 35, loss = 0.41649876\n",
      "Iteration 36, loss = 0.41890105\n",
      "Iteration 37, loss = 0.41805917\n",
      "Iteration 38, loss = 0.41809059\n",
      "Iteration 39, loss = 0.41975434\n",
      "Iteration 40, loss = 0.41853520\n",
      "Iteration 41, loss = 0.41575679\n",
      "Iteration 42, loss = 0.41629182\n",
      "Iteration 43, loss = 0.41709065\n",
      "Iteration 44, loss = 0.41454939\n",
      "Iteration 45, loss = 0.41480266\n",
      "Iteration 46, loss = 0.41358474\n",
      "Iteration 47, loss = 0.41347925\n",
      "Iteration 48, loss = 0.41403404\n",
      "Iteration 49, loss = 0.41313433\n",
      "Iteration 50, loss = 0.41251329\n",
      "Iteration 51, loss = 0.41325572\n",
      "Iteration 52, loss = 0.41455212\n",
      "Iteration 53, loss = 0.41525205\n",
      "Iteration 54, loss = 0.41392243\n",
      "Iteration 55, loss = 0.41336777\n",
      "Iteration 56, loss = 0.41338384\n",
      "Iteration 57, loss = 0.41331429\n",
      "Iteration 58, loss = 0.41148951\n",
      "Iteration 59, loss = 0.41242538\n",
      "Iteration 60, loss = 0.41193728\n",
      "Iteration 61, loss = 0.41214025\n",
      "Iteration 62, loss = 0.41172966\n",
      "Iteration 63, loss = 0.41053864\n",
      "Iteration 64, loss = 0.41430229\n",
      "Iteration 65, loss = 0.41074554\n",
      "Iteration 66, loss = 0.41070354\n",
      "Iteration 67, loss = 0.41188163\n",
      "Iteration 68, loss = 0.41284290\n",
      "Iteration 69, loss = 0.41175054\n",
      "Iteration 70, loss = 0.41110963\n",
      "Iteration 71, loss = 0.40973478\n",
      "Iteration 72, loss = 0.40889633\n",
      "Iteration 73, loss = 0.41064556\n",
      "Iteration 74, loss = 0.41037229\n",
      "Iteration 75, loss = 0.40887431\n",
      "Iteration 76, loss = 0.40836526\n",
      "Iteration 77, loss = 0.40820595\n",
      "Iteration 78, loss = 0.40970940\n",
      "Iteration 79, loss = 0.40927307\n",
      "Iteration 80, loss = 0.40912988\n",
      "Iteration 81, loss = 0.40958697\n",
      "Iteration 82, loss = 0.41030427\n",
      "Iteration 83, loss = 0.40818575\n",
      "Iteration 84, loss = 0.40950099\n",
      "Iteration 85, loss = 0.40904734\n",
      "Iteration 86, loss = 0.40735783\n",
      "Iteration 87, loss = 0.40718947\n",
      "Iteration 88, loss = 0.40820231\n",
      "Iteration 89, loss = 0.40789974\n",
      "Iteration 90, loss = 0.40901846\n",
      "Iteration 91, loss = 0.40644335\n",
      "Iteration 92, loss = 0.40618647\n",
      "Iteration 93, loss = 0.40744743\n",
      "Iteration 94, loss = 0.40585161\n",
      "Iteration 95, loss = 0.40843659\n",
      "Iteration 96, loss = 0.40669269\n",
      "Iteration 97, loss = 0.40591230\n",
      "Iteration 98, loss = 0.40575295\n",
      "Iteration 99, loss = 0.40508015\n",
      "Iteration 100, loss = 0.40624771\n",
      "Iteration 101, loss = 0.40848044\n",
      "Iteration 102, loss = 0.40711329\n",
      "Iteration 103, loss = 0.40484304\n",
      "Iteration 104, loss = 0.40646734\n",
      "Iteration 105, loss = 0.40613986\n",
      "Iteration 106, loss = 0.40620171\n",
      "Iteration 107, loss = 0.40561184\n",
      "Iteration 108, loss = 0.40668218\n",
      "Iteration 109, loss = 0.40604541\n",
      "Iteration 110, loss = 0.40531464\n",
      "Iteration 111, loss = 0.40437004\n",
      "Iteration 112, loss = 0.40660066\n",
      "Iteration 113, loss = 0.40479895\n",
      "Iteration 114, loss = 0.40718475\n",
      "Iteration 115, loss = 0.40513532\n",
      "Iteration 116, loss = 0.40670742\n",
      "Iteration 117, loss = 0.40437970\n",
      "Iteration 118, loss = 0.40422694\n",
      "Iteration 119, loss = 0.40298539\n",
      "Iteration 120, loss = 0.40765985\n",
      "Iteration 121, loss = 0.40424078\n",
      "Iteration 122, loss = 0.40339289\n",
      "Iteration 123, loss = 0.40809444\n",
      "Iteration 124, loss = 0.40488379\n",
      "Iteration 125, loss = 0.40288777\n",
      "Iteration 126, loss = 0.40435961\n",
      "Iteration 127, loss = 0.40505369\n",
      "Iteration 128, loss = 0.40519529\n",
      "Iteration 129, loss = 0.40463215\n",
      "Iteration 130, loss = 0.40433688\n",
      "Iteration 131, loss = 0.40396450\n",
      "Iteration 132, loss = 0.40427851\n",
      "Iteration 133, loss = 0.40583150\n",
      "Iteration 134, loss = 0.40286354\n",
      "Iteration 135, loss = 0.40729828\n",
      "Iteration 136, loss = 0.40704810\n",
      "Iteration 137, loss = 0.40253576\n",
      "Iteration 138, loss = 0.40646824\n",
      "Iteration 139, loss = 0.40508807\n",
      "Iteration 140, loss = 0.40398507\n",
      "Iteration 141, loss = 0.40374290\n",
      "Iteration 142, loss = 0.40314747\n",
      "Iteration 143, loss = 0.40273644\n",
      "Iteration 144, loss = 0.40835776\n",
      "Iteration 145, loss = 0.40300487\n",
      "Iteration 146, loss = 0.40266095\n",
      "Iteration 147, loss = 0.40585009\n",
      "Iteration 148, loss = 0.40420281\n",
      "Training loss did not improve more than tol=0.000010 for 10 consecutive epochs. Stopping.\n"
     ]
    },
    {
     "data": {
      "text/html": [
       "<style>#sk-container-id-4 {color: black;}#sk-container-id-4 pre{padding: 0;}#sk-container-id-4 div.sk-toggleable {background-color: white;}#sk-container-id-4 label.sk-toggleable__label {cursor: pointer;display: block;width: 100%;margin-bottom: 0;padding: 0.3em;box-sizing: border-box;text-align: center;}#sk-container-id-4 label.sk-toggleable__label-arrow:before {content: \"▸\";float: left;margin-right: 0.25em;color: #696969;}#sk-container-id-4 label.sk-toggleable__label-arrow:hover:before {color: black;}#sk-container-id-4 div.sk-estimator:hover label.sk-toggleable__label-arrow:before {color: black;}#sk-container-id-4 div.sk-toggleable__content {max-height: 0;max-width: 0;overflow: hidden;text-align: left;background-color: #f0f8ff;}#sk-container-id-4 div.sk-toggleable__content pre {margin: 0.2em;color: black;border-radius: 0.25em;background-color: #f0f8ff;}#sk-container-id-4 input.sk-toggleable__control:checked~div.sk-toggleable__content {max-height: 200px;max-width: 100%;overflow: auto;}#sk-container-id-4 input.sk-toggleable__control:checked~label.sk-toggleable__label-arrow:before {content: \"▾\";}#sk-container-id-4 div.sk-estimator input.sk-toggleable__control:checked~label.sk-toggleable__label {background-color: #d4ebff;}#sk-container-id-4 div.sk-label input.sk-toggleable__control:checked~label.sk-toggleable__label {background-color: #d4ebff;}#sk-container-id-4 input.sk-hidden--visually {border: 0;clip: rect(1px 1px 1px 1px);clip: rect(1px, 1px, 1px, 1px);height: 1px;margin: -1px;overflow: hidden;padding: 0;position: absolute;width: 1px;}#sk-container-id-4 div.sk-estimator {font-family: monospace;background-color: #f0f8ff;border: 1px dotted black;border-radius: 0.25em;box-sizing: border-box;margin-bottom: 0.5em;}#sk-container-id-4 div.sk-estimator:hover {background-color: #d4ebff;}#sk-container-id-4 div.sk-parallel-item::after {content: \"\";width: 100%;border-bottom: 1px solid gray;flex-grow: 1;}#sk-container-id-4 div.sk-label:hover label.sk-toggleable__label {background-color: #d4ebff;}#sk-container-id-4 div.sk-serial::before {content: \"\";position: absolute;border-left: 1px solid gray;box-sizing: border-box;top: 0;bottom: 0;left: 50%;z-index: 0;}#sk-container-id-4 div.sk-serial {display: flex;flex-direction: column;align-items: center;background-color: white;padding-right: 0.2em;padding-left: 0.2em;position: relative;}#sk-container-id-4 div.sk-item {position: relative;z-index: 1;}#sk-container-id-4 div.sk-parallel {display: flex;align-items: stretch;justify-content: center;background-color: white;position: relative;}#sk-container-id-4 div.sk-item::before, #sk-container-id-4 div.sk-parallel-item::before {content: \"\";position: absolute;border-left: 1px solid gray;box-sizing: border-box;top: 0;bottom: 0;left: 50%;z-index: -1;}#sk-container-id-4 div.sk-parallel-item {display: flex;flex-direction: column;z-index: 1;position: relative;background-color: white;}#sk-container-id-4 div.sk-parallel-item:first-child::after {align-self: flex-end;width: 50%;}#sk-container-id-4 div.sk-parallel-item:last-child::after {align-self: flex-start;width: 50%;}#sk-container-id-4 div.sk-parallel-item:only-child::after {width: 0;}#sk-container-id-4 div.sk-dashed-wrapped {border: 1px dashed gray;margin: 0 0.4em 0.5em 0.4em;box-sizing: border-box;padding-bottom: 0.4em;background-color: white;}#sk-container-id-4 div.sk-label label {font-family: monospace;font-weight: bold;display: inline-block;line-height: 1.2em;}#sk-container-id-4 div.sk-label-container {text-align: center;}#sk-container-id-4 div.sk-container {/* jupyter's `normalize.less` sets `[hidden] { display: none; }` but bootstrap.min.css set `[hidden] { display: none !important; }` so we also need the `!important` here to be able to override the default hidden behavior on the sphinx rendered scikit-learn.org. See: https://github.com/scikit-learn/scikit-learn/issues/21755 */display: inline-block !important;position: relative;}#sk-container-id-4 div.sk-text-repr-fallback {display: none;}</style><div id=\"sk-container-id-4\" class=\"sk-top-container\"><div class=\"sk-text-repr-fallback\"><pre>MLPClassifier(hidden_layer_sizes=(14, 14, 14), max_iter=1000, tol=1e-05,\n",
       "              verbose=True)</pre><b>In a Jupyter environment, please rerun this cell to show the HTML representation or trust the notebook. <br />On GitHub, the HTML representation is unable to render, please try loading this page with nbviewer.org.</b></div><div class=\"sk-container\" hidden><div class=\"sk-item\"><div class=\"sk-estimator sk-toggleable\"><input class=\"sk-toggleable__control sk-hidden--visually\" id=\"sk-estimator-id-4\" type=\"checkbox\" checked><label for=\"sk-estimator-id-4\" class=\"sk-toggleable__label sk-toggleable__label-arrow\">MLPClassifier</label><div class=\"sk-toggleable__content\"><pre>MLPClassifier(hidden_layer_sizes=(14, 14, 14), max_iter=1000, tol=1e-05,\n",
       "              verbose=True)</pre></div></div></div></div></div>"
      ],
      "text/plain": [
       "MLPClassifier(hidden_layer_sizes=(14, 14, 14), max_iter=1000, tol=1e-05,\n",
       "              verbose=True)"
      ]
     },
     "execution_count": 37,
     "metadata": {},
     "output_type": "execute_result"
    }
   ],
   "source": [
    "neural_network_rus = MLPClassifier(verbose = True, max_iter = 1000, tol = 0.000010, hidden_layer_sizes = (14,14,14))\n",
    "neural_network_rus.fit(X_census_training_set_rus, y_census_training_set_rus)"
   ]
  },
  {
   "cell_type": "code",
   "execution_count": 38,
   "metadata": {},
   "outputs": [
    {
     "data": {
      "text/plain": [
       "array([' >50K', ' <=50K', ' >50K', ..., ' <=50K', ' <=50K', ' >50K'],\n",
       "      dtype='<U6')"
      ]
     },
     "execution_count": 38,
     "metadata": {},
     "output_type": "execute_result"
    }
   ],
   "source": [
    "predictor_rus = neural_network_rus.predict(X_census_test_set_rus)\n",
    "predictor_rus"
   ]
  },
  {
   "cell_type": "code",
   "execution_count": 39,
   "metadata": {},
   "outputs": [
    {
     "data": {
      "text/plain": [
       "array([' >50K', ' <=50K', ' >50K', ..., ' <=50K', ' <=50K', ' <=50K'],\n",
       "      dtype=object)"
      ]
     },
     "execution_count": 39,
     "metadata": {},
     "output_type": "execute_result"
    }
   ],
   "source": [
    "y_census_test_set_rus"
   ]
  },
  {
   "cell_type": "markdown",
   "metadata": {},
   "source": [
    "##### ↬ **Estatísticas de Classificação e Matriz de Confusão**"
   ]
  },
  {
   "cell_type": "code",
   "execution_count": 40,
   "metadata": {},
   "outputs": [
    {
     "data": {
      "text/plain": [
       "0.7887727924605613"
      ]
     },
     "execution_count": 40,
     "metadata": {},
     "output_type": "execute_result"
    }
   ],
   "source": [
    "accuracy_score(y_census_test_set_rus, predictor_rus)"
   ]
  },
  {
   "cell_type": "code",
   "execution_count": 41,
   "metadata": {},
   "outputs": [
    {
     "name": "stdout",
     "output_type": "stream",
     "text": [
      "              precision    recall  f1-score   support\n",
      "\n",
      "       <=50K       0.94      0.77      0.84      3653\n",
      "        >50K       0.55      0.85      0.67      1228\n",
      "\n",
      "    accuracy                           0.79      4881\n",
      "   macro avg       0.74      0.81      0.76      4881\n",
      "weighted avg       0.84      0.79      0.80      4881\n",
      "\n"
     ]
    }
   ],
   "source": [
    "print(classification_report(y_census_test_set_rus, predictor_rus))"
   ]
  },
  {
   "cell_type": "code",
   "execution_count": 42,
   "metadata": {},
   "outputs": [
    {
     "data": {
      "text/plain": [
       "0.7887727924605613"
      ]
     },
     "execution_count": 42,
     "metadata": {},
     "output_type": "execute_result"
    },
    {
     "data": {
      "image/png": "[encoded data removed]",
      "text/plain": [
       "<Figure size 800x550 with 1 Axes>"
      ]
     },
     "metadata": {},
     "output_type": "display_data"
    }
   ],
   "source": [
    "cm = ConfusionMatrix(neural_network_rus)\n",
    "cm.fit(X_census_training_set_rus, y_census_training_set_rus)\n",
    "cm.score(X_census_test_set_rus, y_census_test_set_rus)"
   ]
  },
  {
   "cell_type": "markdown",
   "metadata": {},
   "source": [
    "### 📌 **Árvore de Decisão: conjunto com balanceamento do tipo 'NearMiss'**"
   ]
  },
  {
   "cell_type": "code",
   "execution_count": 43,
   "metadata": {},
   "outputs": [],
   "source": [
    "with open('../sample_data/census_nearmiss.pkl', 'rb') as f_nearmiss:\n",
    "    X_census_training_set_nearmiss, y_census_training_set_nearmiss, X_census_test_set_nearmiss, y_census_test_set_nearmiss, df_transformed, one_hot_encoder_census = pk.load(f_nearmiss)"
   ]
  },
  {
   "cell_type": "code",
   "execution_count": 44,
   "metadata": {},
   "outputs": [
    {
     "data": {
      "text/plain": [
       "((13222, 41), (13222,))"
      ]
     },
     "execution_count": 44,
     "metadata": {},
     "output_type": "execute_result"
    }
   ],
   "source": [
    "X_census_training_set_nearmiss.shape, y_census_training_set_nearmiss.shape"
   ]
  },
  {
   "cell_type": "code",
   "execution_count": 45,
   "metadata": {},
   "outputs": [
    {
     "data": {
      "text/plain": [
       "((4881, 41), (4881,))"
      ]
     },
     "execution_count": 45,
     "metadata": {},
     "output_type": "execute_result"
    }
   ],
   "source": [
    "X_census_test_set_nearmiss.shape, y_census_test_set_nearmiss.shape"
   ]
  },
  {
   "cell_type": "code",
   "execution_count": 46,
   "metadata": {},
   "outputs": [
    {
     "name": "stdout",
     "output_type": "stream",
     "text": [
      "Iteration 1, loss = 0.74817117\n",
      "Iteration 2, loss = 0.66828696\n",
      "Iteration 3, loss = 0.64098757\n",
      "Iteration 4, loss = 0.61525956\n",
      "Iteration 5, loss = 0.59412566\n",
      "Iteration 6, loss = 0.58481043\n",
      "Iteration 7, loss = 0.57965511\n",
      "Iteration 8, loss = 0.57707834\n",
      "Iteration 9, loss = 0.57403806\n",
      "Iteration 10, loss = 0.57332139\n",
      "Iteration 11, loss = 0.56990934\n",
      "Iteration 12, loss = 0.57120684\n",
      "Iteration 13, loss = 0.57030723\n",
      "Iteration 14, loss = 0.56993286\n",
      "Iteration 15, loss = 0.56817516\n",
      "Iteration 16, loss = 0.56562451\n",
      "Iteration 17, loss = 0.56807187\n",
      "Iteration 18, loss = 0.56576704\n",
      "Iteration 19, loss = 0.56425608\n",
      "Iteration 20, loss = 0.56376524\n",
      "Iteration 21, loss = 0.56263030\n",
      "Iteration 22, loss = 0.56297267\n",
      "Iteration 23, loss = 0.56264763\n",
      "Iteration 24, loss = 0.56277354\n",
      "Iteration 25, loss = 0.56108681\n",
      "Iteration 26, loss = 0.56130324\n",
      "Iteration 27, loss = 0.56475838\n",
      "Iteration 28, loss = 0.56040236\n",
      "Iteration 29, loss = 0.56119224\n",
      "Iteration 30, loss = 0.56196472\n",
      "Iteration 31, loss = 0.55835731\n",
      "Iteration 32, loss = 0.55738484\n",
      "Iteration 33, loss = 0.55845988\n",
      "Iteration 34, loss = 0.55616384\n",
      "Iteration 35, loss = 0.55663112\n",
      "Iteration 36, loss = 0.55817702\n",
      "Iteration 37, loss = 0.55575102\n",
      "Iteration 38, loss = 0.55633460\n",
      "Iteration 39, loss = 0.55492859\n",
      "Iteration 40, loss = 0.55420772\n",
      "Iteration 41, loss = 0.55696818\n",
      "Iteration 42, loss = 0.55291428\n",
      "Iteration 43, loss = 0.55518352\n",
      "Iteration 44, loss = 0.55348946\n",
      "Iteration 45, loss = 0.55472087\n",
      "Iteration 46, loss = 0.55569756\n",
      "Iteration 47, loss = 0.55414613\n",
      "Iteration 48, loss = 0.55269023\n",
      "Iteration 49, loss = 0.55309539\n",
      "Iteration 50, loss = 0.55251002\n",
      "Iteration 51, loss = 0.55117906\n",
      "Iteration 52, loss = 0.55111016\n",
      "Iteration 53, loss = 0.55108335\n",
      "Iteration 54, loss = 0.55208076\n",
      "Iteration 55, loss = 0.54996041\n",
      "Iteration 56, loss = 0.55135273\n",
      "Iteration 57, loss = 0.55124032\n",
      "Iteration 58, loss = 0.55143331\n",
      "Iteration 59, loss = 0.55069481\n",
      "Iteration 60, loss = 0.55175960\n",
      "Iteration 61, loss = 0.55004900\n",
      "Iteration 62, loss = 0.54956273\n",
      "Iteration 63, loss = 0.55133805\n",
      "Iteration 64, loss = 0.55240641\n",
      "Iteration 65, loss = 0.55080340\n",
      "Iteration 66, loss = 0.54803432\n",
      "Iteration 67, loss = 0.54934367\n",
      "Iteration 68, loss = 0.55074840\n",
      "Iteration 69, loss = 0.54814432\n",
      "Iteration 70, loss = 0.54890774\n",
      "Iteration 71, loss = 0.54931587\n",
      "Iteration 72, loss = 0.54809711\n",
      "Iteration 73, loss = 0.54808879\n",
      "Iteration 74, loss = 0.54738949\n",
      "Iteration 75, loss = 0.54755411\n",
      "Iteration 76, loss = 0.54656063\n",
      "Iteration 77, loss = 0.54747633\n",
      "Iteration 78, loss = 0.54683642\n",
      "Iteration 79, loss = 0.54686428\n",
      "Iteration 80, loss = 0.54597824\n",
      "Iteration 81, loss = 0.54702302\n",
      "Iteration 82, loss = 0.54583115\n",
      "Iteration 83, loss = 0.54495915\n",
      "Iteration 84, loss = 0.54584345\n",
      "Iteration 85, loss = 0.54835383\n",
      "Iteration 86, loss = 0.54669055\n",
      "Iteration 87, loss = 0.54578866\n",
      "Iteration 88, loss = 0.54676888\n",
      "Iteration 89, loss = 0.54416946\n",
      "Iteration 90, loss = 0.54543904\n",
      "Iteration 91, loss = 0.54319236\n",
      "Iteration 92, loss = 0.54486709\n",
      "Iteration 93, loss = 0.54794882\n",
      "Iteration 94, loss = 0.54500486\n",
      "Iteration 95, loss = 0.54270819\n",
      "Iteration 96, loss = 0.54333742\n",
      "Iteration 97, loss = 0.54465405\n",
      "Iteration 98, loss = 0.54560687\n",
      "Iteration 99, loss = 0.54263702\n",
      "Iteration 100, loss = 0.54547248\n",
      "Iteration 101, loss = 0.54388803\n",
      "Iteration 102, loss = 0.54294282\n",
      "Iteration 103, loss = 0.54405622\n",
      "Iteration 104, loss = 0.54537869\n",
      "Iteration 105, loss = 0.54406149\n",
      "Iteration 106, loss = 0.54216683\n",
      "Iteration 107, loss = 0.54102489\n",
      "Iteration 108, loss = 0.54357882\n",
      "Iteration 109, loss = 0.54471183\n",
      "Iteration 110, loss = 0.54211525\n",
      "Iteration 111, loss = 0.54203213\n",
      "Iteration 112, loss = 0.54125482\n",
      "Iteration 113, loss = 0.54297926\n",
      "Iteration 114, loss = 0.54217238\n",
      "Iteration 115, loss = 0.54356622\n",
      "Iteration 116, loss = 0.54003113\n",
      "Iteration 117, loss = 0.54230376\n",
      "Iteration 118, loss = 0.54239143\n",
      "Iteration 119, loss = 0.54016187\n",
      "Iteration 120, loss = 0.54019018\n",
      "Iteration 121, loss = 0.54172192\n",
      "Iteration 122, loss = 0.53982211\n",
      "Iteration 123, loss = 0.53942212\n",
      "Iteration 124, loss = 0.53953972\n",
      "Iteration 125, loss = 0.53947655\n",
      "Iteration 126, loss = 0.54157646\n",
      "Iteration 127, loss = 0.54268351\n",
      "Iteration 128, loss = 0.53992809\n",
      "Iteration 129, loss = 0.53872306\n",
      "Iteration 130, loss = 0.54046599\n",
      "Iteration 131, loss = 0.53859313\n",
      "Iteration 132, loss = 0.54045075\n",
      "Iteration 133, loss = 0.53899759\n",
      "Iteration 134, loss = 0.54160455\n",
      "Iteration 135, loss = 0.53778118\n",
      "Iteration 136, loss = 0.53851037\n",
      "Iteration 137, loss = 0.53874262\n",
      "Iteration 138, loss = 0.54035003\n",
      "Iteration 139, loss = 0.54034716\n",
      "Iteration 140, loss = 0.53855402\n",
      "Iteration 141, loss = 0.53905653\n",
      "Iteration 142, loss = 0.53977143\n",
      "Iteration 143, loss = 0.53973059\n",
      "Iteration 144, loss = 0.53764097\n",
      "Iteration 145, loss = 0.53839218\n",
      "Iteration 146, loss = 0.53883922\n",
      "Iteration 147, loss = 0.53766098\n",
      "Iteration 148, loss = 0.53734240\n",
      "Iteration 149, loss = 0.53712309\n",
      "Iteration 150, loss = 0.53937820\n",
      "Iteration 151, loss = 0.53706883\n",
      "Iteration 152, loss = 0.53683984\n",
      "Iteration 153, loss = 0.53763328\n",
      "Iteration 154, loss = 0.53691744\n",
      "Iteration 155, loss = 0.53772169\n",
      "Iteration 156, loss = 0.53765410\n",
      "Iteration 157, loss = 0.53637562\n",
      "Iteration 158, loss = 0.53692427\n",
      "Iteration 159, loss = 0.53710030\n",
      "Iteration 160, loss = 0.53558399\n",
      "Iteration 161, loss = 0.53660615\n",
      "Iteration 162, loss = 0.53892065\n",
      "Iteration 163, loss = 0.53720992\n",
      "Iteration 164, loss = 0.53708544\n",
      "Iteration 165, loss = 0.54071835\n",
      "Iteration 166, loss = 0.53753075\n",
      "Iteration 167, loss = 0.53711488\n",
      "Iteration 168, loss = 0.53613336\n",
      "Iteration 169, loss = 0.53649974\n",
      "Iteration 170, loss = 0.53838650\n",
      "Iteration 171, loss = 0.53589230\n",
      "Training loss did not improve more than tol=0.000010 for 10 consecutive epochs. Stopping.\n"
     ]
    },
    {
     "data": {
      "text/html": [
       "<style>#sk-container-id-5 {color: black;}#sk-container-id-5 pre{padding: 0;}#sk-container-id-5 div.sk-toggleable {background-color: white;}#sk-container-id-5 label.sk-toggleable__label {cursor: pointer;display: block;width: 100%;margin-bottom: 0;padding: 0.3em;box-sizing: border-box;text-align: center;}#sk-container-id-5 label.sk-toggleable__label-arrow:before {content: \"▸\";float: left;margin-right: 0.25em;color: #696969;}#sk-container-id-5 label.sk-toggleable__label-arrow:hover:before {color: black;}#sk-container-id-5 div.sk-estimator:hover label.sk-toggleable__label-arrow:before {color: black;}#sk-container-id-5 div.sk-toggleable__content {max-height: 0;max-width: 0;overflow: hidden;text-align: left;background-color: #f0f8ff;}#sk-container-id-5 div.sk-toggleable__content pre {margin: 0.2em;color: black;border-radius: 0.25em;background-color: #f0f8ff;}#sk-container-id-5 input.sk-toggleable__control:checked~div.sk-toggleable__content {max-height: 200px;max-width: 100%;overflow: auto;}#sk-container-id-5 input.sk-toggleable__control:checked~label.sk-toggleable__label-arrow:before {content: \"▾\";}#sk-container-id-5 div.sk-estimator input.sk-toggleable__control:checked~label.sk-toggleable__label {background-color: #d4ebff;}#sk-container-id-5 div.sk-label input.sk-toggleable__control:checked~label.sk-toggleable__label {background-color: #d4ebff;}#sk-container-id-5 input.sk-hidden--visually {border: 0;clip: rect(1px 1px 1px 1px);clip: rect(1px, 1px, 1px, 1px);height: 1px;margin: -1px;overflow: hidden;padding: 0;position: absolute;width: 1px;}#sk-container-id-5 div.sk-estimator {font-family: monospace;background-color: #f0f8ff;border: 1px dotted black;border-radius: 0.25em;box-sizing: border-box;margin-bottom: 0.5em;}#sk-container-id-5 div.sk-estimator:hover {background-color: #d4ebff;}#sk-container-id-5 div.sk-parallel-item::after {content: \"\";width: 100%;border-bottom: 1px solid gray;flex-grow: 1;}#sk-container-id-5 div.sk-label:hover label.sk-toggleable__label {background-color: #d4ebff;}#sk-container-id-5 div.sk-serial::before {content: \"\";position: absolute;border-left: 1px solid gray;box-sizing: border-box;top: 0;bottom: 0;left: 50%;z-index: 0;}#sk-container-id-5 div.sk-serial {display: flex;flex-direction: column;align-items: center;background-color: white;padding-right: 0.2em;padding-left: 0.2em;position: relative;}#sk-container-id-5 div.sk-item {position: relative;z-index: 1;}#sk-container-id-5 div.sk-parallel {display: flex;align-items: stretch;justify-content: center;background-color: white;position: relative;}#sk-container-id-5 div.sk-item::before, #sk-container-id-5 div.sk-parallel-item::before {content: \"\";position: absolute;border-left: 1px solid gray;box-sizing: border-box;top: 0;bottom: 0;left: 50%;z-index: -1;}#sk-container-id-5 div.sk-parallel-item {display: flex;flex-direction: column;z-index: 1;position: relative;background-color: white;}#sk-container-id-5 div.sk-parallel-item:first-child::after {align-self: flex-end;width: 50%;}#sk-container-id-5 div.sk-parallel-item:last-child::after {align-self: flex-start;width: 50%;}#sk-container-id-5 div.sk-parallel-item:only-child::after {width: 0;}#sk-container-id-5 div.sk-dashed-wrapped {border: 1px dashed gray;margin: 0 0.4em 0.5em 0.4em;box-sizing: border-box;padding-bottom: 0.4em;background-color: white;}#sk-container-id-5 div.sk-label label {font-family: monospace;font-weight: bold;display: inline-block;line-height: 1.2em;}#sk-container-id-5 div.sk-label-container {text-align: center;}#sk-container-id-5 div.sk-container {/* jupyter's `normalize.less` sets `[hidden] { display: none; }` but bootstrap.min.css set `[hidden] { display: none !important; }` so we also need the `!important` here to be able to override the default hidden behavior on the sphinx rendered scikit-learn.org. See: https://github.com/scikit-learn/scikit-learn/issues/21755 */display: inline-block !important;position: relative;}#sk-container-id-5 div.sk-text-repr-fallback {display: none;}</style><div id=\"sk-container-id-5\" class=\"sk-top-container\"><div class=\"sk-text-repr-fallback\"><pre>MLPClassifier(hidden_layer_sizes=(14, 14, 14), max_iter=1000, tol=1e-05,\n",
       "              verbose=True)</pre><b>In a Jupyter environment, please rerun this cell to show the HTML representation or trust the notebook. <br />On GitHub, the HTML representation is unable to render, please try loading this page with nbviewer.org.</b></div><div class=\"sk-container\" hidden><div class=\"sk-item\"><div class=\"sk-estimator sk-toggleable\"><input class=\"sk-toggleable__control sk-hidden--visually\" id=\"sk-estimator-id-5\" type=\"checkbox\" checked><label for=\"sk-estimator-id-5\" class=\"sk-toggleable__label sk-toggleable__label-arrow\">MLPClassifier</label><div class=\"sk-toggleable__content\"><pre>MLPClassifier(hidden_layer_sizes=(14, 14, 14), max_iter=1000, tol=1e-05,\n",
       "              verbose=True)</pre></div></div></div></div></div>"
      ],
      "text/plain": [
       "MLPClassifier(hidden_layer_sizes=(14, 14, 14), max_iter=1000, tol=1e-05,\n",
       "              verbose=True)"
      ]
     },
     "execution_count": 46,
     "metadata": {},
     "output_type": "execute_result"
    }
   ],
   "source": [
    "neural_network_nearmiss = MLPClassifier(verbose = True, max_iter = 1000, tol = 0.000010, hidden_layer_sizes = (14,14,14))\n",
    "neural_network_nearmiss.fit(X_census_training_set_nearmiss, y_census_training_set_nearmiss)"
   ]
  },
  {
   "cell_type": "code",
   "execution_count": 47,
   "metadata": {},
   "outputs": [
    {
     "data": {
      "text/plain": [
       "array([' >50K', ' <=50K', ' <=50K', ..., ' >50K', ' >50K', ' >50K'],\n",
       "      dtype='<U6')"
      ]
     },
     "execution_count": 47,
     "metadata": {},
     "output_type": "execute_result"
    }
   ],
   "source": [
    "predictor_nearmiss = neural_network_nearmiss.predict(X_census_test_set_nearmiss)\n",
    "predictor_nearmiss"
   ]
  },
  {
   "cell_type": "code",
   "execution_count": 48,
   "metadata": {},
   "outputs": [
    {
     "data": {
      "text/plain": [
       "array([' >50K', ' <=50K', ' >50K', ..., ' <=50K', ' <=50K', ' <=50K'],\n",
       "      dtype=object)"
      ]
     },
     "execution_count": 48,
     "metadata": {},
     "output_type": "execute_result"
    }
   ],
   "source": [
    "y_census_test_set"
   ]
  },
  {
   "cell_type": "markdown",
   "metadata": {},
   "source": [
    "##### ↬ **Estatísticas de Classificação e Matriz de Confusão**"
   ]
  },
  {
   "cell_type": "code",
   "execution_count": 49,
   "metadata": {},
   "outputs": [
    {
     "data": {
      "text/plain": [
       "0.6203646793689818"
      ]
     },
     "execution_count": 49,
     "metadata": {},
     "output_type": "execute_result"
    }
   ],
   "source": [
    "accuracy_score(y_census_test_set_nearmiss, predictor_nearmiss)"
   ]
  },
  {
   "cell_type": "code",
   "execution_count": 50,
   "metadata": {},
   "outputs": [
    {
     "name": "stdout",
     "output_type": "stream",
     "text": [
      "              precision    recall  f1-score   support\n",
      "\n",
      "       <=50K       0.88      0.57      0.69      3653\n",
      "        >50K       0.38      0.77      0.51      1228\n",
      "\n",
      "    accuracy                           0.62      4881\n",
      "   macro avg       0.63      0.67      0.60      4881\n",
      "weighted avg       0.75      0.62      0.65      4881\n",
      "\n"
     ]
    }
   ],
   "source": [
    "print(classification_report(y_census_test_set_nearmiss, predictor_nearmiss))"
   ]
  },
  {
   "cell_type": "code",
   "execution_count": 51,
   "metadata": {},
   "outputs": [
    {
     "data": {
      "text/plain": [
       "0.6203646793689818"
      ]
     },
     "execution_count": 51,
     "metadata": {},
     "output_type": "execute_result"
    },
    {
     "data": {
      "image/png": "[encoded data removed]",
      "text/plain": [
       "<Figure size 800x550 with 1 Axes>"
      ]
     },
     "metadata": {},
     "output_type": "display_data"
    }
   ],
   "source": [
    "cm = ConfusionMatrix(neural_network_nearmiss)\n",
    "cm.fit(X_census_training_set_nearmiss, y_census_training_set_nearmiss)\n",
    "cm.score(X_census_test_set_nearmiss, y_census_test_set_nearmiss)"
   ]
  }
 ],
 "metadata": {
  "kernelspec": {
   "display_name": "Python 3",
   "language": "python",
   "name": "python3"
  },
  "language_info": {
   "codemirror_mode": {
    "name": "ipython",
    "version": 3
   },
   "file_extension": ".py",
   "mimetype": "text/x-python",
   "name": "python",
   "nbconvert_exporter": "python",
   "pygments_lexer": "ipython3",
   "version": "3.11.6"
  }
 },
 "nbformat": 4,
 "nbformat_minor": 2
}
