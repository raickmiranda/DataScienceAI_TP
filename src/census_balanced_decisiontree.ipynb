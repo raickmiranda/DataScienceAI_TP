{
 "cells": [
  {
   "cell_type": "markdown",
   "metadata": {},
   "source": [
    "# 📍 **Árvore de Decisão**\n",
    "\n",
    "Neste documento, estamos utilizando os arquivos `'census.pkl'`, `'census_ros.pkl'`, `'census_smote.pkl'`, `'census_rus.pkl'` e `'census_nearmiss.pkl'` para testar o desempenho de cada tipo de balancemanto sobre a base de dados `'census.csv'`.\n",
    "\n",
    "### 📍 **Importação de Bibliotecas, Módulos e Variáveis essenciais**\n"
   ]
  },
  {
   "cell_type": "code",
   "execution_count": null,
   "metadata": {},
   "outputs": [],
   "source": [
    "! pip install yellowbrick"
   ]
  },
  {
   "cell_type": "code",
   "execution_count": 26,
   "metadata": {},
   "outputs": [],
   "source": [
    "import pickle\n",
    "import pandas as pd\n",
    "import numpy as np\n",
    "import seaborn as sns\n",
    "import matplotlib.pyplot as plt\n",
    "import plotly.express as px"
   ]
  },
  {
   "cell_type": "code",
   "execution_count": 27,
   "metadata": {},
   "outputs": [],
   "source": [
    "with open('../dataframe/census.pkl', 'rb') as f:\n",
    "    X_census_training_set, y_census_training_set, X_census_test_set, y_census_test_set = pickle.load(f)"
   ]
  },
  {
   "cell_type": "code",
   "execution_count": 28,
   "metadata": {},
   "outputs": [],
   "source": [
    "with open('../dataframe/census_ros.pkl', 'rb') as f_ros:\n",
    "    X_census_training_ros, y_census_training_ros, X_census_test_set, y_census_test_set = pickle.load(f_ros)"
   ]
  },
  {
   "cell_type": "code",
   "execution_count": 29,
   "metadata": {},
   "outputs": [],
   "source": [
    "with open('../dataframe/census_smote.pkl', 'rb') as f_smote:\n",
    "    X_census_training_smote, y_census_training_smote, X_census_test_set, y_census_test_set = pickle.load(f_smote)"
   ]
  },
  {
   "cell_type": "code",
   "execution_count": 30,
   "metadata": {},
   "outputs": [],
   "source": [
    "with open('../dataframe/census_rus.pkl', 'rb') as f_rus:\n",
    "    X_census_training_rus, y_census_training_rus, X_census_test_set, y_census_test_set = pickle.load(f_rus)"
   ]
  },
  {
   "cell_type": "code",
   "execution_count": 31,
   "metadata": {},
   "outputs": [],
   "source": [
    "with open('../dataframe/census_nearmiss.pkl', 'rb') as f_nearmiss:\n",
    "    X_census_training_nearmiss, y_census_training_nearmiss, X_census_test_set, y_census_test_set = pickle.load(f_nearmiss)"
   ]
  },
  {
   "cell_type": "markdown",
   "metadata": {},
   "source": [
    "### 📍 **O Algoritmo de Árvore de Decisão**"
   ]
  },
  {
   "cell_type": "code",
   "execution_count": 32,
   "metadata": {},
   "outputs": [],
   "source": [
    "from sklearn.tree import DecisionTreeClassifier\n",
    "from sklearn.metrics import accuracy_score, classification_report\n",
    "from yellowbrick.classifier import ConfusionMatrix"
   ]
  },
  {
   "cell_type": "markdown",
   "metadata": {},
   "source": [
    "#### Sem Balanceamento"
   ]
  },
  {
   "cell_type": "code",
   "execution_count": 33,
   "metadata": {},
   "outputs": [],
   "source": [
    "tree_census = DecisionTreeClassifier(criterion='gini', random_state=0, max_depth=3)\n",
    "tree_census.fit(X_census_training_set, y_census_training_set)\n",
    "predictor = tree_census.predict(X_census_test_set)"
   ]
  },
  {
   "cell_type": "code",
   "execution_count": 34,
   "metadata": {},
   "outputs": [
    {
     "data": {
      "text/plain": [
       "0.8382804503582395"
      ]
     },
     "execution_count": 34,
     "metadata": {},
     "output_type": "execute_result"
    }
   ],
   "source": [
    "accuracy_score(y_census_test_set, predictor)"
   ]
  },
  {
   "cell_type": "code",
   "execution_count": 35,
   "metadata": {},
   "outputs": [
    {
     "name": "stdout",
     "output_type": "stream",
     "text": [
      "              precision    recall  f1-score   support\n",
      "\n",
      "       <=50K       0.86      0.95      0.90      3693\n",
      "        >50K       0.75      0.50      0.60      1192\n",
      "\n",
      "    accuracy                           0.84      4885\n",
      "   macro avg       0.80      0.73      0.75      4885\n",
      "weighted avg       0.83      0.84      0.83      4885\n",
      "\n"
     ]
    }
   ],
   "source": [
    "print(classification_report(y_census_test_set, predictor))"
   ]
  },
  {
   "cell_type": "code",
   "execution_count": 36,
   "metadata": {},
   "outputs": [
    {
     "data": {
      "text/plain": [
       "0.8382804503582395"
      ]
     },
     "execution_count": 36,
     "metadata": {},
     "output_type": "execute_result"
    },
    {
     "data": {
      "image/png": "[encoded data removed]",
      "text/plain": [
       "<Figure size 800x550 with 1 Axes>"
      ]
     },
     "metadata": {},
     "output_type": "display_data"
    }
   ],
   "source": [
    "cm = ConfusionMatrix(tree_census)\n",
    "cm.fit(X_census_training_set, y_census_training_set)\n",
    "cm.score(X_census_test_set, y_census_test_set)"
   ]
  },
  {
   "cell_type": "markdown",
   "metadata": {},
   "source": [
    "#### Random Over Sampling"
   ]
  },
  {
   "cell_type": "code",
   "execution_count": 37,
   "metadata": {},
   "outputs": [],
   "source": [
    "tree_census_ros = DecisionTreeClassifier(criterion='gini', random_state=0, max_depth=3)\n",
    "tree_census.fit(X_census_training_ros, y_census_training_ros)\n",
    "predictor = tree_census.predict(X_census_test_set)"
   ]
  },
  {
   "cell_type": "code",
   "execution_count": 38,
   "metadata": {},
   "outputs": [
    {
     "data": {
      "text/plain": [
       "0.8139201637666326"
      ]
     },
     "execution_count": 38,
     "metadata": {},
     "output_type": "execute_result"
    }
   ],
   "source": [
    "accuracy_score(y_census_test_set, predictor)"
   ]
  },
  {
   "cell_type": "code",
   "execution_count": 39,
   "metadata": {},
   "outputs": [
    {
     "name": "stdout",
     "output_type": "stream",
     "text": [
      "              precision    recall  f1-score   support\n",
      "\n",
      "       <=50K       0.90      0.85      0.87      3693\n",
      "        >50K       0.60      0.71      0.65      1192\n",
      "\n",
      "    accuracy                           0.81      4885\n",
      "   macro avg       0.75      0.78      0.76      4885\n",
      "weighted avg       0.83      0.81      0.82      4885\n",
      "\n"
     ]
    }
   ],
   "source": [
    "print(classification_report(y_census_test_set, predictor))"
   ]
  },
  {
   "cell_type": "code",
   "execution_count": 40,
   "metadata": {},
   "outputs": [
    {
     "data": {
      "text/plain": [
       "0.8139201637666326"
      ]
     },
     "execution_count": 40,
     "metadata": {},
     "output_type": "execute_result"
    },
    {
     "data": {
      "image/png": "[encoded data removed]",
      "text/plain": [
       "<Figure size 800x550 with 1 Axes>"
      ]
     },
     "metadata": {},
     "output_type": "display_data"
    }
   ],
   "source": [
    "cm = ConfusionMatrix(tree_census_ros)\n",
    "cm.fit(X_census_training_ros, y_census_training_ros)\n",
    "cm.score(X_census_test_set, y_census_test_set)"
   ]
  },
  {
   "cell_type": "markdown",
   "metadata": {},
   "source": [
    "#### SMOTE"
   ]
  },
  {
   "cell_type": "code",
   "execution_count": 41,
   "metadata": {},
   "outputs": [],
   "source": [
    "tree_census_smote = DecisionTreeClassifier(criterion='gini', random_state=0, max_depth=3)\n",
    "tree_census.fit(X_census_training_smote, y_census_training_smote)\n",
    "predictor = tree_census.predict(X_census_test_set)"
   ]
  },
  {
   "cell_type": "code",
   "execution_count": 42,
   "metadata": {},
   "outputs": [
    {
     "data": {
      "text/plain": [
       "0.7606960081883316"
      ]
     },
     "execution_count": 42,
     "metadata": {},
     "output_type": "execute_result"
    }
   ],
   "source": [
    "accuracy_score(y_census_test_set, predictor)"
   ]
  },
  {
   "cell_type": "code",
   "execution_count": 43,
   "metadata": {},
   "outputs": [
    {
     "name": "stdout",
     "output_type": "stream",
     "text": [
      "              precision    recall  f1-score   support\n",
      "\n",
      "       <=50K       0.93      0.73      0.82      3693\n",
      "        >50K       0.51      0.84      0.63      1192\n",
      "\n",
      "    accuracy                           0.76      4885\n",
      "   macro avg       0.72      0.79      0.73      4885\n",
      "weighted avg       0.83      0.76      0.78      4885\n",
      "\n"
     ]
    }
   ],
   "source": [
    "print(classification_report(y_census_test_set, predictor))"
   ]
  },
  {
   "cell_type": "code",
   "execution_count": 44,
   "metadata": {},
   "outputs": [
    {
     "data": {
      "text/plain": [
       "0.7606960081883316"
      ]
     },
     "execution_count": 44,
     "metadata": {},
     "output_type": "execute_result"
    },
    {
     "data": {
      "image/png": "[encoded data removed]",
      "text/plain": [
       "<Figure size 800x550 with 1 Axes>"
      ]
     },
     "metadata": {},
     "output_type": "display_data"
    }
   ],
   "source": [
    "cm = ConfusionMatrix(tree_census_smote)\n",
    "cm.fit(X_census_training_smote, y_census_training_smote)\n",
    "cm.score(X_census_test_set, y_census_test_set)"
   ]
  },
  {
   "cell_type": "markdown",
   "metadata": {},
   "source": [
    "#### Random Under Sampling"
   ]
  },
  {
   "cell_type": "code",
   "execution_count": 45,
   "metadata": {},
   "outputs": [],
   "source": [
    "tree_census_rus = DecisionTreeClassifier(criterion='gini', random_state=0, max_depth=3)\n",
    "tree_census.fit(X_census_training_rus, y_census_training_rus)\n",
    "predictor = tree_census.predict(X_census_test_set)"
   ]
  },
  {
   "cell_type": "code",
   "execution_count": 46,
   "metadata": {},
   "outputs": [
    {
     "data": {
      "text/plain": [
       "0.8149437052200614"
      ]
     },
     "execution_count": 46,
     "metadata": {},
     "output_type": "execute_result"
    }
   ],
   "source": [
    "accuracy_score(y_census_test_set, predictor)"
   ]
  },
  {
   "cell_type": "code",
   "execution_count": 47,
   "metadata": {},
   "outputs": [
    {
     "name": "stdout",
     "output_type": "stream",
     "text": [
      "              precision    recall  f1-score   support\n",
      "\n",
      "       <=50K       0.90      0.85      0.87      3693\n",
      "        >50K       0.60      0.70      0.65      1192\n",
      "\n",
      "    accuracy                           0.81      4885\n",
      "   macro avg       0.75      0.78      0.76      4885\n",
      "weighted avg       0.83      0.81      0.82      4885\n",
      "\n"
     ]
    }
   ],
   "source": [
    "print(classification_report(y_census_test_set, predictor))"
   ]
  },
  {
   "cell_type": "code",
   "execution_count": 48,
   "metadata": {},
   "outputs": [
    {
     "data": {
      "text/plain": [
       "0.8149437052200614"
      ]
     },
     "execution_count": 48,
     "metadata": {},
     "output_type": "execute_result"
    },
    {
     "data": {
      "image/png": "[encoded data removed]",
      "text/plain": [
       "<Figure size 800x550 with 1 Axes>"
      ]
     },
     "metadata": {},
     "output_type": "display_data"
    }
   ],
   "source": [
    "cm = ConfusionMatrix(tree_census_rus)\n",
    "cm.fit(X_census_training_rus, y_census_training_rus)\n",
    "cm.score(X_census_test_set, y_census_test_set)"
   ]
  },
  {
   "cell_type": "markdown",
   "metadata": {},
   "source": [
    "#### NearMiss"
   ]
  },
  {
   "cell_type": "code",
   "execution_count": 49,
   "metadata": {},
   "outputs": [],
   "source": [
    "tree_census_nearmiss = DecisionTreeClassifier(criterion='gini', random_state=0, max_depth=3)\n",
    "tree_census.fit(X_census_training_nearmiss, y_census_training_nearmiss)\n",
    "predictor = tree_census.predict(X_census_test_set)"
   ]
  },
  {
   "cell_type": "code",
   "execution_count": 50,
   "metadata": {},
   "outputs": [
    {
     "data": {
      "text/plain": [
       "0.7971340839303992"
      ]
     },
     "execution_count": 50,
     "metadata": {},
     "output_type": "execute_result"
    }
   ],
   "source": [
    "accuracy_score(y_census_test_set, predictor)"
   ]
  },
  {
   "cell_type": "code",
   "execution_count": 51,
   "metadata": {},
   "outputs": [
    {
     "name": "stdout",
     "output_type": "stream",
     "text": [
      "              precision    recall  f1-score   support\n",
      "\n",
      "       <=50K       0.87      0.86      0.86      3693\n",
      "        >50K       0.58      0.61      0.59      1192\n",
      "\n",
      "    accuracy                           0.80      4885\n",
      "   macro avg       0.73      0.73      0.73      4885\n",
      "weighted avg       0.80      0.80      0.80      4885\n",
      "\n"
     ]
    }
   ],
   "source": [
    "print(classification_report(y_census_test_set, predictor))"
   ]
  },
  {
   "cell_type": "code",
   "execution_count": 52,
   "metadata": {},
   "outputs": [
    {
     "data": {
      "text/plain": [
       "0.7971340839303992"
      ]
     },
     "execution_count": 52,
     "metadata": {},
     "output_type": "execute_result"
    },
    {
     "data": {
      "image/png": "[encoded data removed]",
      "text/plain": [
       "<Figure size 800x550 with 1 Axes>"
      ]
     },
     "metadata": {},
     "output_type": "display_data"
    }
   ],
   "source": [
    "cm = ConfusionMatrix(tree_census_nearmiss)\n",
    "cm.fit(X_census_training_nearmiss, y_census_training_nearmiss)\n",
    "cm.score(X_census_test_set, y_census_test_set)"
   ]
  }
 ],
 "metadata": {
  "kernelspec": {
   "display_name": "Python 3",
   "language": "python",
   "name": "python3"
  },
  "language_info": {
   "codemirror_mode": {
    "name": "ipython",
    "version": 3
   },
   "file_extension": ".py",
   "mimetype": "text/x-python",
   "name": "python",
   "nbconvert_exporter": "python",
   "pygments_lexer": "ipython3",
   "version": "3.11.5"
  },
  "orig_nbformat": 4
 },
 "nbformat": 4,
 "nbformat_minor": 2
}
